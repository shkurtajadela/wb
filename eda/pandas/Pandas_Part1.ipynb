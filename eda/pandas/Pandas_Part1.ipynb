{
 "cells": [
  {
   "cell_type": "code",
   "execution_count": 22,
   "id": "974feebd-5298-45a2-9aad-14168bbb5a62",
   "metadata": {},
   "outputs": [
    {
     "name": "stdout",
     "output_type": "stream",
     "text": [
      "numpy  version:  1.23.5\n",
      "pandas version:  2.1.4\n"
     ]
    }
   ],
   "source": [
    "import numpy as np\n",
    "import pandas as pd\n",
    "\n",
    "print(\"numpy  version: \", np.__version__)\n",
    "print(\"pandas version: \", pd.__version__)"
   ]
  },
  {
   "cell_type": "markdown",
   "id": "47c491e4-1b19-453e-b242-3a16b7171bc5",
   "metadata": {},
   "source": [
    "# Часть 1. Базовые объекты"
   ]
  },
  {
   "cell_type": "markdown",
   "id": "0c43ae87-62f6-4ccf-ba18-bec79b127ed5",
   "metadata": {},
   "source": [
    "При знакомстве с NumPy мы поработали с двумя основными сущностями:\n",
    "- однородными массивами\n",
    "- массивами структурированных объектов\n",
    "\n",
    "Для каждого из них у Pandas есть свои аналоги, которые расширяют функционал и область их применения"
   ]
  },
  {
   "cell_type": "markdown",
   "id": "80560d50-ece9-4ea6-9e41-0f5c1bba3158",
   "metadata": {},
   "source": [
    "## Pandas Series"
   ]
  },
  {
   "cell_type": "markdown",
   "id": "f5906ee9-95dd-40d6-ac01-c672d0c59c6e",
   "metadata": {},
   "source": [
    "В качестве аналога обобщённых массивов NumPy можно рассматривать Pandas Series, с функционалом которого мы сейчас познакомимся поближе."
   ]
  },
  {
   "cell_type": "code",
   "execution_count": 23,
   "id": "8de5cfdb-1bd4-4a2a-a94d-d747f164ae95",
   "metadata": {},
   "outputs": [
    {
     "data": {
      "text/plain": [
       "0    0.1\n",
       "1    0.3\n",
       "2    0.5\n",
       "3    1.0\n",
       "dtype: float64"
      ]
     },
     "execution_count": 23,
     "metadata": {},
     "output_type": "execute_result"
    }
   ],
   "source": [
    "# создание объекта\n",
    "s = pd.Series([0.1, 0.3, 0.5, 1.0])\n",
    "s"
   ]
  },
  {
   "cell_type": "markdown",
   "id": "92a34b77-092e-4297-8f54-bfc95acd61ef",
   "metadata": {},
   "source": [
    "Тут мы видим привычное нам представление в виде массива и заданный (выведенный) для всех элементов dtype. Что ещё есть из атрибутов?"
   ]
  },
  {
   "cell_type": "code",
   "execution_count": 24,
   "id": "3429e6a7-b427-45b1-89bb-ee6a2415777e",
   "metadata": {},
   "outputs": [
    {
     "data": {
      "text/plain": [
       "(array([0.1, 0.3, 0.5, 1. ]), numpy.ndarray)"
      ]
     },
     "execution_count": 24,
     "metadata": {},
     "output_type": "execute_result"
    }
   ],
   "source": [
    "# можно провести конвертацию в np.ndarray\n",
    "s.values, type(s.values)"
   ]
  },
  {
   "cell_type": "code",
   "execution_count": 25,
   "id": "7c8f52fe-0aae-4a54-a0ff-f39a3f2efb15",
   "metadata": {},
   "outputs": [
    {
     "data": {
      "text/plain": [
       "0.3"
      ]
     },
     "execution_count": 25,
     "metadata": {},
     "output_type": "execute_result"
    }
   ],
   "source": [
    "# по аналогии с массивами к Series применяются правила индексирования и slicing'а\n",
    "s[1]"
   ]
  },
  {
   "cell_type": "code",
   "execution_count": 26,
   "id": "5664741c-a059-496e-8482-d0b11e716f8f",
   "metadata": {},
   "outputs": [
    {
     "data": {
      "text/plain": [
       "1    0.3\n",
       "2    0.5\n",
       "dtype: float64"
      ]
     },
     "execution_count": 26,
     "metadata": {},
     "output_type": "execute_result"
    }
   ],
   "source": [
    "s[1:3]"
   ]
  },
  {
   "cell_type": "markdown",
   "id": "998f8df0-df27-4615-9aed-39037a9dcedc",
   "metadata": {},
   "source": [
    "Что же отличает Series от массивов NumPy? У них есть новый для нас атрибут - индекс (index), к которому можно обратиться с помощью одноимённого вызова."
   ]
  },
  {
   "cell_type": "code",
   "execution_count": 27,
   "id": "31a44b2e-eb2e-4700-8e86-952efceb338b",
   "metadata": {},
   "outputs": [
    {
     "data": {
      "text/plain": [
       "RangeIndex(start=0, stop=4, step=1)"
      ]
     },
     "execution_count": 27,
     "metadata": {},
     "output_type": "execute_result"
    }
   ],
   "source": [
    "s.index"
   ]
  },
  {
   "cell_type": "markdown",
   "id": "54e50bbf-c428-4c44-b0be-b92ad7073a99",
   "metadata": {},
   "source": [
    "Обособленной возможность обращаться к индексу наводит на мысль, что его функционал несколько шире, чем просто давать доступ к объектам по целому числу. Это действительно так, рассмотрим следующий код"
   ]
  },
  {
   "cell_type": "code",
   "execution_count": 28,
   "id": "dfea90ae-04ec-4e50-94c8-c173314f36c9",
   "metadata": {},
   "outputs": [
    {
     "data": {
      "text/plain": [
       "a    0.1\n",
       "b    0.3\n",
       "c    0.5\n",
       "d    1.0\n",
       "dtype: float64"
      ]
     },
     "execution_count": 28,
     "metadata": {},
     "output_type": "execute_result"
    }
   ],
   "source": [
    "s = pd.Series(\n",
    "    [0.1, 0.3, 0.5, 1.0], \n",
    "    index=[\"a\", \"b\", \"c\", \"d\"]\n",
    ")\n",
    "\n",
    "s"
   ]
  },
  {
   "cell_type": "markdown",
   "id": "95dce6ec-0b91-46ed-9562-7c6ffb02c3c6",
   "metadata": {},
   "source": [
    "Обратите внимание, что в первом столбце больше нет привычных нам `0, 1, 2, 3`. Теперь вместо них явно заданный индекс `a, b, c, d`, что даёт нам возможность обращаться к элементам Series следующим образом:"
   ]
  },
  {
   "cell_type": "code",
   "execution_count": 29,
   "id": "66dc4bed-06bf-4628-b839-fd65bcfdd018",
   "metadata": {},
   "outputs": [
    {
     "data": {
      "text/plain": [
       "0.5"
      ]
     },
     "execution_count": 29,
     "metadata": {},
     "output_type": "execute_result"
    }
   ],
   "source": [
    "s[\"c\"]"
   ]
  },
  {
   "cell_type": "markdown",
   "id": "001dca46-c7e6-4250-888c-8d0dcd12c4ee",
   "metadata": {},
   "source": [
    "На этом возможности использования индекса не заканчиваются. Давайте попробуем поэкспериментировать и выполнить следующий код (который, надеюсь, вы никогда не увидите в реальном проекте):"
   ]
  },
  {
   "cell_type": "code",
   "execution_count": 30,
   "id": "b6a1f6b3-adb5-42d5-ad32-0cb1a1899d89",
   "metadata": {},
   "outputs": [
    {
     "data": {
      "text/plain": [
       " 3    0.1\n",
       "-1    0.3\n",
       " 5    0.5\n",
       "-7    1.0\n",
       "dtype: float64"
      ]
     },
     "execution_count": 30,
     "metadata": {},
     "output_type": "execute_result"
    }
   ],
   "source": [
    "s = pd.Series(\n",
    "    [0.1, 0.3, 0.5, 1.0], \n",
    "    index=[3, -1, 5, -7]\n",
    ")\n",
    "\n",
    "s"
   ]
  },
  {
   "cell_type": "code",
   "execution_count": 31,
   "id": "57759396-596d-4244-b0ba-7f89738b54ef",
   "metadata": {},
   "outputs": [
    {
     "data": {
      "text/plain": [
       "1.0"
      ]
     },
     "execution_count": 31,
     "metadata": {},
     "output_type": "execute_result"
    }
   ],
   "source": [
    "s[-7]"
   ]
  },
  {
   "cell_type": "code",
   "execution_count": 32,
   "id": "cbdea0a3-2789-47c0-a3db-e88b8d995537",
   "metadata": {},
   "outputs": [
    {
     "data": {
      "text/plain": [
       "Index([3, -1, 5, -7], dtype='int64')"
      ]
     },
     "execution_count": 32,
     "metadata": {},
     "output_type": "execute_result"
    }
   ],
   "source": [
    "s.index"
   ]
  },
  {
   "cell_type": "markdown",
   "id": "d23be74e-1b27-4d94-86f9-2b2ee702622d",
   "metadata": {},
   "source": [
    "Как видите, индекс может быть абсолютно произвольным, чем мы будем впоследствии пользоваться при работе с табличными данными. Фактически произвольная форма индеса даёт возможность рассматриваеть Series как своеобразного рода словарь:"
   ]
  },
  {
   "cell_type": "code",
   "execution_count": 33,
   "id": "3e5b5e3e-e9c7-43fa-bbc9-a3ae7c3bae96",
   "metadata": {},
   "outputs": [
    {
     "data": {
      "text/plain": [
       "website          14\n",
       "ios               4\n",
       "android           8\n",
       "windows phone     1\n",
       "dtype: int64"
      ]
     },
     "execution_count": 33,
     "metadata": {},
     "output_type": "execute_result"
    }
   ],
   "source": [
    "d = {\n",
    "    \"website\": 14, \n",
    "    \"ios\": 4, \n",
    "    \"android\": 8, \n",
    "    \"windows phone\": 1\n",
    "}\n",
    "\n",
    "s = pd.Series(d)\n",
    "\n",
    "s"
   ]
  },
  {
   "cell_type": "markdown",
   "id": "1749455a-ce40-4392-a9ce-77af576c9f39",
   "metadata": {},
   "source": [
    "Как видите, словарь можно даже подавать для инициализации объекта типа Series, ключи которого становятся индексом."
   ]
  },
  {
   "cell_type": "code",
   "execution_count": 34,
   "id": "1bb18396-09ac-464e-a9b6-c830b7c9b83b",
   "metadata": {},
   "outputs": [
    {
     "data": {
      "text/plain": [
       "(14, 8)"
      ]
     },
     "execution_count": 34,
     "metadata": {},
     "output_type": "execute_result"
    }
   ],
   "source": [
    "s[\"website\"], s[\"android\"]"
   ]
  },
  {
   "cell_type": "markdown",
   "id": "24abf3f6-9d36-4aec-a969-52d7610601bd",
   "metadata": {},
   "source": [
    "Однако есть небольшое \"но\", которое с одной стороны расширяет функционал, а с другой даёт возможности, пользоваться которыми надо с осторожностью. Вы помните slicing применительно к массивам NumPy? Давайте опробуем такой код:"
   ]
  },
  {
   "cell_type": "code",
   "execution_count": 35,
   "id": "2310f2de-71e5-41ca-b4fb-ea81cf7aa669",
   "metadata": {},
   "outputs": [
    {
     "data": {
      "text/plain": [
       "website    14\n",
       "ios         4\n",
       "android     8\n",
       "dtype: int64"
      ]
     },
     "execution_count": 35,
     "metadata": {},
     "output_type": "execute_result"
    }
   ],
   "source": [
    "s[\"website\":\"android\"]"
   ]
  },
  {
   "cell_type": "markdown",
   "id": "e2236259-3f29-4408-9605-de226aa924dc",
   "metadata": {},
   "source": [
    "Как видите, теперь slicing можно применять и к Series с поправкой, что у него есть нюансы работы, о которых мы поговорим чуть позже."
   ]
  },
  {
   "cell_type": "markdown",
   "id": "a2bc4948-b47e-4035-8494-1cd58440faf4",
   "metadata": {},
   "source": [
    "## Pandas DataFrame"
   ]
  },
  {
   "cell_type": "markdown",
   "id": "0f561835-c8ed-4fff-b789-127d8107491a",
   "metadata": {},
   "source": [
    "Мы упоминали, что структурированные массивы можно рассматривать в качестве преамбулы к датафреймам Pandas'а. Пришло время вернуться и разобраться в этом тезисе. Для этого создадим пару объектов Series:"
   ]
  },
  {
   "cell_type": "code",
   "execution_count": 36,
   "id": "322ee224-944c-4540-ad1f-490b1b983c3a",
   "metadata": {},
   "outputs": [],
   "source": [
    "num_active_versions = pd.Series(\n",
    "        {\n",
    "        \"website\": 14, \n",
    "        \"ios\": 4, \n",
    "        \"android\": 8, \n",
    "        \"windows phone\": 1\n",
    "    }\n",
    ")\n",
    "\n",
    "complexity = pd.Series(\n",
    "    {\n",
    "        \"windows phone\": 2.1,\n",
    "        \"ios\": 1.4, \n",
    "        \"website\": 1.0, \n",
    "        \"android\": 0.9\n",
    "    }\n",
    ")"
   ]
  },
  {
   "cell_type": "markdown",
   "id": "01eca9fe-769b-486c-ba2f-82f36ae6378b",
   "metadata": {},
   "source": [
    "У нас есть два объекта типа Series (с одинаковыми ключами), которые теперь можно превратить в таблицу."
   ]
  },
  {
   "cell_type": "code",
   "execution_count": 37,
   "id": "7a780b96-a7ae-43c6-baf7-a5b59bfa7000",
   "metadata": {},
   "outputs": [
    {
     "data": {
      "text/html": [
       "<div>\n",
       "<style scoped>\n",
       "    .dataframe tbody tr th:only-of-type {\n",
       "        vertical-align: middle;\n",
       "    }\n",
       "\n",
       "    .dataframe tbody tr th {\n",
       "        vertical-align: top;\n",
       "    }\n",
       "\n",
       "    .dataframe thead th {\n",
       "        text-align: right;\n",
       "    }\n",
       "</style>\n",
       "<table border=\"1\" class=\"dataframe\">\n",
       "  <thead>\n",
       "    <tr style=\"text-align: right;\">\n",
       "      <th></th>\n",
       "      <th>num_active_versions</th>\n",
       "      <th>complexity</th>\n",
       "    </tr>\n",
       "  </thead>\n",
       "  <tbody>\n",
       "    <tr>\n",
       "      <th>android</th>\n",
       "      <td>8</td>\n",
       "      <td>0.9</td>\n",
       "    </tr>\n",
       "    <tr>\n",
       "      <th>ios</th>\n",
       "      <td>4</td>\n",
       "      <td>1.4</td>\n",
       "    </tr>\n",
       "    <tr>\n",
       "      <th>website</th>\n",
       "      <td>14</td>\n",
       "      <td>1.0</td>\n",
       "    </tr>\n",
       "    <tr>\n",
       "      <th>windows phone</th>\n",
       "      <td>1</td>\n",
       "      <td>2.1</td>\n",
       "    </tr>\n",
       "  </tbody>\n",
       "</table>\n",
       "</div>"
      ],
      "text/plain": [
       "               num_active_versions  complexity\n",
       "android                          8         0.9\n",
       "ios                              4         1.4\n",
       "website                         14         1.0\n",
       "windows phone                    1         2.1"
      ]
     },
     "execution_count": 37,
     "metadata": {},
     "output_type": "execute_result"
    }
   ],
   "source": [
    "df = pd.DataFrame(\n",
    "    {\n",
    "        \"num_active_versions\": num_active_versions,\n",
    "        \"complexity\": complexity\n",
    "    }\n",
    ")\n",
    "\n",
    "df"
   ]
  },
  {
   "cell_type": "markdown",
   "id": "4c777531-916f-45cf-8168-8a9079793465",
   "metadata": {},
   "source": [
    "Теперь у нас есть аккуратная табличка, которую Pandas сделал нам из поданных ему на вход Series. Обратите внимание, что даже несмотря на разный порядок ключей он аккуратно свёл их воедино. Посмотрим, как выглядит индекс:"
   ]
  },
  {
   "cell_type": "code",
   "execution_count": 38,
   "id": "3fe633a7-73eb-46ab-a70d-ce61495b3534",
   "metadata": {},
   "outputs": [
    {
     "data": {
      "text/plain": [
       "Index(['android', 'ios', 'website', 'windows phone'], dtype='object')"
      ]
     },
     "execution_count": 38,
     "metadata": {},
     "output_type": "execute_result"
    }
   ],
   "source": [
    "df.index"
   ]
  },
  {
   "cell_type": "markdown",
   "id": "1a8f3a58-1097-4d23-bc61-f73e94c0c6ac",
   "metadata": {},
   "source": [
    "В дополнение у нас теперь есть возможность ещё и работать с названиями столбцов, которые, обратите внимание, тоже индекс. Именно поэтому датафреймы достаточно легко интерпретировать как таблицы"
   ]
  },
  {
   "cell_type": "code",
   "execution_count": 39,
   "id": "d009ec97-17c4-4e80-80ba-f3d1955aa1a1",
   "metadata": {},
   "outputs": [
    {
     "data": {
      "text/plain": [
       "Index(['num_active_versions', 'complexity'], dtype='object')"
      ]
     },
     "execution_count": 39,
     "metadata": {},
     "output_type": "execute_result"
    }
   ],
   "source": [
    "df.columns"
   ]
  },
  {
   "cell_type": "markdown",
   "id": "999d7cbf-0c73-443a-84cf-514b0b3d450e",
   "metadata": {},
   "source": [
    "В заключение этой части давайте рассмотрим, какие есть возможности по созданию датафреймов в дополнение к ранее опробованным:"
   ]
  },
  {
   "cell_type": "code",
   "execution_count": 40,
   "id": "e13ae423-860a-49aa-80ff-ba4d36922ac8",
   "metadata": {},
   "outputs": [
    {
     "data": {
      "text/html": [
       "<div>\n",
       "<style scoped>\n",
       "    .dataframe tbody tr th:only-of-type {\n",
       "        vertical-align: middle;\n",
       "    }\n",
       "\n",
       "    .dataframe tbody tr th {\n",
       "        vertical-align: top;\n",
       "    }\n",
       "\n",
       "    .dataframe thead th {\n",
       "        text-align: right;\n",
       "    }\n",
       "</style>\n",
       "<table border=\"1\" class=\"dataframe\">\n",
       "  <thead>\n",
       "    <tr style=\"text-align: right;\">\n",
       "      <th></th>\n",
       "      <th>a</th>\n",
       "      <th>b</th>\n",
       "    </tr>\n",
       "  </thead>\n",
       "  <tbody>\n",
       "    <tr>\n",
       "      <th>0</th>\n",
       "      <td>1</td>\n",
       "      <td>2</td>\n",
       "    </tr>\n",
       "    <tr>\n",
       "      <th>1</th>\n",
       "      <td>11</td>\n",
       "      <td>22</td>\n",
       "    </tr>\n",
       "    <tr>\n",
       "      <th>2</th>\n",
       "      <td>111</td>\n",
       "      <td>222</td>\n",
       "    </tr>\n",
       "  </tbody>\n",
       "</table>\n",
       "</div>"
      ],
      "text/plain": [
       "     a    b\n",
       "0    1    2\n",
       "1   11   22\n",
       "2  111  222"
      ]
     },
     "execution_count": 40,
     "metadata": {},
     "output_type": "execute_result"
    }
   ],
   "source": [
    "# из списка словарей\n",
    "data = [\n",
    "    {\"a\": 1, \"b\": 2},\n",
    "    {\"a\": 11, \"b\": 22},\n",
    "    {\"a\": 111, \"b\": 222}\n",
    "]\n",
    "\n",
    "pd.DataFrame(data)"
   ]
  },
  {
   "cell_type": "code",
   "execution_count": 42,
   "id": "e0b448ef-1671-4641-bae8-28ea46d1b4f8",
   "metadata": {},
   "outputs": [
    {
     "data": {
      "text/html": [
       "<div>\n",
       "<style scoped>\n",
       "    .dataframe tbody tr th:only-of-type {\n",
       "        vertical-align: middle;\n",
       "    }\n",
       "\n",
       "    .dataframe tbody tr th {\n",
       "        vertical-align: top;\n",
       "    }\n",
       "\n",
       "    .dataframe thead th {\n",
       "        text-align: right;\n",
       "    }\n",
       "</style>\n",
       "<table border=\"1\" class=\"dataframe\">\n",
       "  <thead>\n",
       "    <tr style=\"text-align: right;\">\n",
       "      <th></th>\n",
       "      <th>a</th>\n",
       "      <th>b</th>\n",
       "    </tr>\n",
       "  </thead>\n",
       "  <tbody>\n",
       "    <tr>\n",
       "      <th>row_1</th>\n",
       "      <td>3</td>\n",
       "      <td>4</td>\n",
       "    </tr>\n",
       "    <tr>\n",
       "      <th>row_2</th>\n",
       "      <td>5</td>\n",
       "      <td>4</td>\n",
       "    </tr>\n",
       "    <tr>\n",
       "      <th>row_3</th>\n",
       "      <td>8</td>\n",
       "      <td>1</td>\n",
       "    </tr>\n",
       "  </tbody>\n",
       "</table>\n",
       "</div>"
      ],
      "text/plain": [
       "       a  b\n",
       "row_1  3  4\n",
       "row_2  5  4\n",
       "row_3  8  1"
      ]
     },
     "execution_count": 42,
     "metadata": {},
     "output_type": "execute_result"
    }
   ],
   "source": [
    "# из двумерного массива\n",
    "pd.DataFrame(\n",
    "    np.random.randint(1, 11, (3, 2)),\n",
    "    columns=[\"a\", \"b\"],\n",
    "    index=[\"row_1\", \"row_2\", \"row_3\"]\n",
    ")"
   ]
  }
 ],
 "metadata": {
  "kernelspec": {
   "display_name": "Python 3 (ipykernel)",
   "language": "python",
   "name": "python3"
  },
  "language_info": {
   "codemirror_mode": {
    "name": "ipython",
    "version": 3
   },
   "file_extension": ".py",
   "mimetype": "text/x-python",
   "name": "python",
   "nbconvert_exporter": "python",
   "pygments_lexer": "ipython3",
   "version": "3.11.5"
  }
 },
 "nbformat": 4,
 "nbformat_minor": 5
}
