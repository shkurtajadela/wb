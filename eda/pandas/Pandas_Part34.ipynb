{
 "cells": [
  {
   "cell_type": "code",
   "execution_count": 1,
   "id": "974feebd-5298-45a2-9aad-14168bbb5a62",
   "metadata": {},
   "outputs": [
    {
     "name": "stdout",
     "output_type": "stream",
     "text": [
      "numpy  version:  1.23.5\n",
      "pandas version:  2.1.4\n"
     ]
    }
   ],
   "source": [
    "import numpy as np\n",
    "import pandas as pd\n",
    "\n",
    "print(\"numpy  version: \", np.__version__)\n",
    "print(\"pandas version: \", pd.__version__)"
   ]
  },
  {
   "cell_type": "markdown",
   "id": "c87a373e-3187-4b56-b8a3-9d1453af1f28",
   "metadata": {},
   "source": [
    "# Часть 3. Операции над данными"
   ]
  },
  {
   "cell_type": "markdown",
   "id": "9cb2a891-eaff-40a4-9235-5d2868729eea",
   "metadata": {},
   "source": [
    "Работая с датафреймами, нужно помнить, что они реализованы с использованием массивов NumPy. Это автоматически даёт возможность применять подходы, которые справедливы для последних.\n",
    "\n",
    "При этом нужно помнить про следующие аспекты:\n",
    "- при использовании унарных операций будет сохранён индекс и название столбца, к которому операция была применена\n",
    "- в случае бинарных операций Pandas автоматически сам совместит индексы для совместности операндов (именно поэтому нужно быть внимательным во время работы с данными из разных источников)"
   ]
  },
  {
   "cell_type": "markdown",
   "id": "7e91d4ad-ad3c-4fa0-acdc-0537bb0abd78",
   "metadata": {},
   "source": [
    "Посмотрим, как сохраняется индексация при использовании UFuncs:"
   ]
  },
  {
   "cell_type": "code",
   "execution_count": 2,
   "id": "65f23c99-1894-4e66-9421-0e7ef1100ce8",
   "metadata": {},
   "outputs": [
    {
     "data": {
      "text/html": [
       "<div>\n",
       "<style scoped>\n",
       "    .dataframe tbody tr th:only-of-type {\n",
       "        vertical-align: middle;\n",
       "    }\n",
       "\n",
       "    .dataframe tbody tr th {\n",
       "        vertical-align: top;\n",
       "    }\n",
       "\n",
       "    .dataframe thead th {\n",
       "        text-align: right;\n",
       "    }\n",
       "</style>\n",
       "<table border=\"1\" class=\"dataframe\">\n",
       "  <thead>\n",
       "    <tr style=\"text-align: right;\">\n",
       "      <th></th>\n",
       "      <th>A</th>\n",
       "      <th>B</th>\n",
       "      <th>C</th>\n",
       "      <th>D</th>\n",
       "    </tr>\n",
       "  </thead>\n",
       "  <tbody>\n",
       "    <tr>\n",
       "      <th>0</th>\n",
       "      <td>3</td>\n",
       "      <td>5</td>\n",
       "      <td>7</td>\n",
       "      <td>1</td>\n",
       "    </tr>\n",
       "    <tr>\n",
       "      <th>1</th>\n",
       "      <td>0</td>\n",
       "      <td>1</td>\n",
       "      <td>0</td>\n",
       "      <td>9</td>\n",
       "    </tr>\n",
       "    <tr>\n",
       "      <th>2</th>\n",
       "      <td>6</td>\n",
       "      <td>6</td>\n",
       "      <td>9</td>\n",
       "      <td>6</td>\n",
       "    </tr>\n",
       "  </tbody>\n",
       "</table>\n",
       "</div>"
      ],
      "text/plain": [
       "   A  B  C  D\n",
       "0  3  5  7  1\n",
       "1  0  1  0  9\n",
       "2  6  6  9  6"
      ]
     },
     "execution_count": 2,
     "metadata": {},
     "output_type": "execute_result"
    }
   ],
   "source": [
    "df = pd.DataFrame(\n",
    "    np.random.randint(0, 10, (3, 4)),\n",
    "    columns=[\"A\", \"B\", \"C\", \"D\"]\n",
    ")\n",
    "\n",
    "df"
   ]
  },
  {
   "cell_type": "code",
   "execution_count": 3,
   "id": "b9d74549-681a-474d-b716-b34b9a89e359",
   "metadata": {},
   "outputs": [
    {
     "data": {
      "text/html": [
       "<div>\n",
       "<style scoped>\n",
       "    .dataframe tbody tr th:only-of-type {\n",
       "        vertical-align: middle;\n",
       "    }\n",
       "\n",
       "    .dataframe tbody tr th {\n",
       "        vertical-align: top;\n",
       "    }\n",
       "\n",
       "    .dataframe thead th {\n",
       "        text-align: right;\n",
       "    }\n",
       "</style>\n",
       "<table border=\"1\" class=\"dataframe\">\n",
       "  <thead>\n",
       "    <tr style=\"text-align: right;\">\n",
       "      <th></th>\n",
       "      <th>A</th>\n",
       "      <th>B</th>\n",
       "      <th>C</th>\n",
       "      <th>D</th>\n",
       "    </tr>\n",
       "  </thead>\n",
       "  <tbody>\n",
       "    <tr>\n",
       "      <th>0</th>\n",
       "      <td>0.707107</td>\n",
       "      <td>-0.707107</td>\n",
       "      <td>-0.707107</td>\n",
       "      <td>0.707107</td>\n",
       "    </tr>\n",
       "    <tr>\n",
       "      <th>1</th>\n",
       "      <td>0.000000</td>\n",
       "      <td>0.707107</td>\n",
       "      <td>0.000000</td>\n",
       "      <td>0.707107</td>\n",
       "    </tr>\n",
       "    <tr>\n",
       "      <th>2</th>\n",
       "      <td>-1.000000</td>\n",
       "      <td>-1.000000</td>\n",
       "      <td>0.707107</td>\n",
       "      <td>-1.000000</td>\n",
       "    </tr>\n",
       "  </tbody>\n",
       "</table>\n",
       "</div>"
      ],
      "text/plain": [
       "          A         B         C         D\n",
       "0  0.707107 -0.707107 -0.707107  0.707107\n",
       "1  0.000000  0.707107  0.000000  0.707107\n",
       "2 -1.000000 -1.000000  0.707107 -1.000000"
      ]
     },
     "execution_count": 3,
     "metadata": {},
     "output_type": "execute_result"
    }
   ],
   "source": [
    "# мы можем применить универсальную функцию ко всему датафрейму сразу\n",
    "np.sin(df * np.pi / 4)"
   ]
  },
  {
   "cell_type": "code",
   "execution_count": 4,
   "id": "364d77d8-d134-4909-8540-3db17efcd520",
   "metadata": {},
   "outputs": [
    {
     "data": {
      "text/plain": [
       "a     NaN\n",
       "b    22.0\n",
       "c    33.0\n",
       "d     NaN\n",
       "dtype: float64"
      ]
     },
     "execution_count": 4,
     "metadata": {},
     "output_type": "execute_result"
    }
   ],
   "source": [
    "# проверим, как работает выравнивание индексов для произвольных Series\n",
    "# обратите внимание, что индексы объектов не полностью идентичны\n",
    "s1 = pd.Series({\"a\": 11, \"b\": 2, \"c\": 3})\n",
    "s2 = pd.Series({\"b\": 20, \"c\": 30, \"d\": 44})\n",
    "\n",
    "s1 + s2"
   ]
  },
  {
   "cell_type": "markdown",
   "id": "38bcc5e4-bc3a-435b-874a-2b8597dc3a37",
   "metadata": {},
   "source": [
    "Видно, что для индексов, которые присутствуют лишь в одном объекте, операцию выполнить не удалось (что соответствует здравому смыслу). Посмотрим на результаты объединения и пересечения индексов для наглядности:"
   ]
  },
  {
   "cell_type": "code",
   "execution_count": 5,
   "id": "16a0323a-f0ba-48ed-9315-50f373a1cfe7",
   "metadata": {},
   "outputs": [
    {
     "name": "stdout",
     "output_type": "stream",
     "text": [
      "Объединение индексов:  Index(['a', 'b', 'c', 'd'], dtype='object')\n",
      "Пересечение индексов:  Index(['b', 'c'], dtype='object')\n"
     ]
    }
   ],
   "source": [
    "print(\"Объединение индексов: \", s1.index.union(s2.index))\n",
    "print(\"Пересечение индексов: \", s1.index.intersection(s2.index))"
   ]
  },
  {
   "cell_type": "markdown",
   "id": "93a99fa2-d0ca-4cf5-816e-58942215a29a",
   "metadata": {},
   "source": [
    "Как видно, во время применения бинарного оператора произошло совмещение индексов и соответствующая операция была применена для элементов, которые находятся на позициях соответствующих индексов."
   ]
  },
  {
   "cell_type": "markdown",
   "id": "65a5b952-8aa4-42b6-a766-e051a919f920",
   "metadata": {},
   "source": [
    "Если же хочется избавиться от NaN'ов, то нужно помочь Pandas'у. Для этого есть возможность указать специальный аргумент `fill_value`, который будет использоваться в случае отсутствующего ключа."
   ]
  },
  {
   "cell_type": "code",
   "execution_count": 6,
   "id": "0e040746-f0e7-4098-bf61-aaa2944324c1",
   "metadata": {},
   "outputs": [
    {
     "data": {
      "text/plain": [
       "a    11.0\n",
       "b    22.0\n",
       "c    33.0\n",
       "d    44.0\n",
       "dtype: float64"
      ]
     },
     "execution_count": 6,
     "metadata": {},
     "output_type": "execute_result"
    }
   ],
   "source": [
    "# заполним отсутствующие значения нулями\n",
    "s1.add(s2, fill_value=0.0)"
   ]
  },
  {
   "cell_type": "markdown",
   "id": "20a76bfe-113a-44a9-a899-1782ddf728dc",
   "metadata": {},
   "source": [
    "Применение универсальных функций к датафреймам подчиняется абсолютно тем же правилам, которые были упомянуты для Series:"
   ]
  },
  {
   "cell_type": "code",
   "execution_count": 7,
   "id": "f786dfb0-defe-489e-8acb-eb646b4b7c40",
   "metadata": {},
   "outputs": [
    {
     "data": {
      "text/html": [
       "<div>\n",
       "<style scoped>\n",
       "    .dataframe tbody tr th:only-of-type {\n",
       "        vertical-align: middle;\n",
       "    }\n",
       "\n",
       "    .dataframe tbody tr th {\n",
       "        vertical-align: top;\n",
       "    }\n",
       "\n",
       "    .dataframe thead th {\n",
       "        text-align: right;\n",
       "    }\n",
       "</style>\n",
       "<table border=\"1\" class=\"dataframe\">\n",
       "  <thead>\n",
       "    <tr style=\"text-align: right;\">\n",
       "      <th></th>\n",
       "      <th>a</th>\n",
       "      <th>b</th>\n",
       "    </tr>\n",
       "  </thead>\n",
       "  <tbody>\n",
       "    <tr>\n",
       "      <th>0</th>\n",
       "      <td>9</td>\n",
       "      <td>8</td>\n",
       "    </tr>\n",
       "    <tr>\n",
       "      <th>1</th>\n",
       "      <td>5</td>\n",
       "      <td>5</td>\n",
       "    </tr>\n",
       "  </tbody>\n",
       "</table>\n",
       "</div>"
      ],
      "text/plain": [
       "   a  b\n",
       "0  9  8\n",
       "1  5  5"
      ]
     },
     "execution_count": 7,
     "metadata": {},
     "output_type": "execute_result"
    }
   ],
   "source": [
    "df_1 = pd.DataFrame(\n",
    "    np.random.randint(1, 11, (2, 2)),\n",
    "    columns=[\"a\", \"b\"]\n",
    ")\n",
    "\n",
    "df_1"
   ]
  },
  {
   "cell_type": "code",
   "execution_count": 8,
   "id": "8bfbb53b-c145-499f-a78e-205fe3a5c8d9",
   "metadata": {},
   "outputs": [
    {
     "data": {
      "text/html": [
       "<div>\n",
       "<style scoped>\n",
       "    .dataframe tbody tr th:only-of-type {\n",
       "        vertical-align: middle;\n",
       "    }\n",
       "\n",
       "    .dataframe tbody tr th {\n",
       "        vertical-align: top;\n",
       "    }\n",
       "\n",
       "    .dataframe thead th {\n",
       "        text-align: right;\n",
       "    }\n",
       "</style>\n",
       "<table border=\"1\" class=\"dataframe\">\n",
       "  <thead>\n",
       "    <tr style=\"text-align: right;\">\n",
       "      <th></th>\n",
       "      <th>a</th>\n",
       "      <th>b</th>\n",
       "      <th>c</th>\n",
       "    </tr>\n",
       "  </thead>\n",
       "  <tbody>\n",
       "    <tr>\n",
       "      <th>0</th>\n",
       "      <td>10</td>\n",
       "      <td>1</td>\n",
       "      <td>3</td>\n",
       "    </tr>\n",
       "    <tr>\n",
       "      <th>1</th>\n",
       "      <td>10</td>\n",
       "      <td>2</td>\n",
       "      <td>5</td>\n",
       "    </tr>\n",
       "    <tr>\n",
       "      <th>2</th>\n",
       "      <td>10</td>\n",
       "      <td>6</td>\n",
       "      <td>2</td>\n",
       "    </tr>\n",
       "  </tbody>\n",
       "</table>\n",
       "</div>"
      ],
      "text/plain": [
       "    a  b  c\n",
       "0  10  1  3\n",
       "1  10  2  5\n",
       "2  10  6  2"
      ]
     },
     "execution_count": 8,
     "metadata": {},
     "output_type": "execute_result"
    }
   ],
   "source": [
    "df_2 = pd.DataFrame(\n",
    "    np.random.randint(1, 11, (3, 3)),\n",
    "    columns=[\"a\", \"b\", \"c\"]\n",
    ")\n",
    "\n",
    "df_2"
   ]
  },
  {
   "cell_type": "markdown",
   "id": "993d4249-5cd3-4fdd-a347-4864384340df",
   "metadata": {},
   "source": [
    "По аналогии с Series будет проводиться совмещение индексов и столбцов. Если по итогам смещения один из операндов будет отсутствовать, то мы увидим NaN (которые можно будет устранить тем же самым образом):"
   ]
  },
  {
   "cell_type": "code",
   "execution_count": 60,
   "id": "25bd792b-61e7-4eda-9415-8482304b66f9",
   "metadata": {},
   "outputs": [
    {
     "data": {
      "text/html": [
       "<div>\n",
       "<style scoped>\n",
       "    .dataframe tbody tr th:only-of-type {\n",
       "        vertical-align: middle;\n",
       "    }\n",
       "\n",
       "    .dataframe tbody tr th {\n",
       "        vertical-align: top;\n",
       "    }\n",
       "\n",
       "    .dataframe thead th {\n",
       "        text-align: right;\n",
       "    }\n",
       "</style>\n",
       "<table border=\"1\" class=\"dataframe\">\n",
       "  <thead>\n",
       "    <tr style=\"text-align: right;\">\n",
       "      <th></th>\n",
       "      <th>a</th>\n",
       "      <th>b</th>\n",
       "      <th>c</th>\n",
       "    </tr>\n",
       "  </thead>\n",
       "  <tbody>\n",
       "    <tr>\n",
       "      <th>0</th>\n",
       "      <td>13.0</td>\n",
       "      <td>13.0</td>\n",
       "      <td>NaN</td>\n",
       "    </tr>\n",
       "    <tr>\n",
       "      <th>1</th>\n",
       "      <td>15.0</td>\n",
       "      <td>15.0</td>\n",
       "      <td>NaN</td>\n",
       "    </tr>\n",
       "    <tr>\n",
       "      <th>2</th>\n",
       "      <td>NaN</td>\n",
       "      <td>NaN</td>\n",
       "      <td>NaN</td>\n",
       "    </tr>\n",
       "  </tbody>\n",
       "</table>\n",
       "</div>"
      ],
      "text/plain": [
       "      a     b   c\n",
       "0  13.0  13.0 NaN\n",
       "1  15.0  15.0 NaN\n",
       "2   NaN   NaN NaN"
      ]
     },
     "execution_count": 60,
     "metadata": {},
     "output_type": "execute_result"
    }
   ],
   "source": [
    "df_1 + df_2"
   ]
  },
  {
   "cell_type": "code",
   "execution_count": 61,
   "id": "e01dce15-b02e-438d-80bc-64f7469b6b74",
   "metadata": {},
   "outputs": [
    {
     "data": {
      "text/html": [
       "<div>\n",
       "<style scoped>\n",
       "    .dataframe tbody tr th:only-of-type {\n",
       "        vertical-align: middle;\n",
       "    }\n",
       "\n",
       "    .dataframe tbody tr th {\n",
       "        vertical-align: top;\n",
       "    }\n",
       "\n",
       "    .dataframe thead th {\n",
       "        text-align: right;\n",
       "    }\n",
       "</style>\n",
       "<table border=\"1\" class=\"dataframe\">\n",
       "  <thead>\n",
       "    <tr style=\"text-align: right;\">\n",
       "      <th></th>\n",
       "      <th>a</th>\n",
       "      <th>b</th>\n",
       "      <th>c</th>\n",
       "    </tr>\n",
       "  </thead>\n",
       "  <tbody>\n",
       "    <tr>\n",
       "      <th>0</th>\n",
       "      <td>13.0</td>\n",
       "      <td>13.0</td>\n",
       "      <td>7.0</td>\n",
       "    </tr>\n",
       "    <tr>\n",
       "      <th>1</th>\n",
       "      <td>15.0</td>\n",
       "      <td>15.0</td>\n",
       "      <td>2.0</td>\n",
       "    </tr>\n",
       "    <tr>\n",
       "      <th>2</th>\n",
       "      <td>10.0</td>\n",
       "      <td>6.0</td>\n",
       "      <td>10.0</td>\n",
       "    </tr>\n",
       "  </tbody>\n",
       "</table>\n",
       "</div>"
      ],
      "text/plain": [
       "      a     b     c\n",
       "0  13.0  13.0   7.0\n",
       "1  15.0  15.0   2.0\n",
       "2  10.0   6.0  10.0"
      ]
     },
     "execution_count": 61,
     "metadata": {},
     "output_type": "execute_result"
    }
   ],
   "source": [
    "# уберём NaN'ы\n",
    "df_1.add(df_2, fill_value=0.0)"
   ]
  },
  {
   "cell_type": "markdown",
   "id": "563281bd-6cf8-4f32-845d-335d184f2470",
   "metadata": {},
   "source": [
    "Мы рассмотрели, как можно производить операции между Series и DataFrame. Однако в Pandas можно осуществлять операции и между объектами разных типов. Давайте посмотрим, как будут выполняться такие операции:"
   ]
  },
  {
   "cell_type": "code",
   "execution_count": 9,
   "id": "94b4f861-6423-4b6a-b1e3-0685eafb65cc",
   "metadata": {},
   "outputs": [
    {
     "data": {
      "text/html": [
       "<div>\n",
       "<style scoped>\n",
       "    .dataframe tbody tr th:only-of-type {\n",
       "        vertical-align: middle;\n",
       "    }\n",
       "\n",
       "    .dataframe tbody tr th {\n",
       "        vertical-align: top;\n",
       "    }\n",
       "\n",
       "    .dataframe thead th {\n",
       "        text-align: right;\n",
       "    }\n",
       "</style>\n",
       "<table border=\"1\" class=\"dataframe\">\n",
       "  <thead>\n",
       "    <tr style=\"text-align: right;\">\n",
       "      <th></th>\n",
       "      <th>c1</th>\n",
       "      <th>c2</th>\n",
       "      <th>c3</th>\n",
       "      <th>c4</th>\n",
       "    </tr>\n",
       "  </thead>\n",
       "  <tbody>\n",
       "    <tr>\n",
       "      <th>0</th>\n",
       "      <td>8</td>\n",
       "      <td>8</td>\n",
       "      <td>8</td>\n",
       "      <td>7</td>\n",
       "    </tr>\n",
       "    <tr>\n",
       "      <th>1</th>\n",
       "      <td>10</td>\n",
       "      <td>5</td>\n",
       "      <td>3</td>\n",
       "      <td>3</td>\n",
       "    </tr>\n",
       "    <tr>\n",
       "      <th>2</th>\n",
       "      <td>10</td>\n",
       "      <td>5</td>\n",
       "      <td>7</td>\n",
       "      <td>1</td>\n",
       "    </tr>\n",
       "  </tbody>\n",
       "</table>\n",
       "</div>"
      ],
      "text/plain": [
       "   c1  c2  c3  c4\n",
       "0   8   8   8   7\n",
       "1  10   5   3   3\n",
       "2  10   5   7   1"
      ]
     },
     "execution_count": 9,
     "metadata": {},
     "output_type": "execute_result"
    }
   ],
   "source": [
    "df = pd.DataFrame(\n",
    "    np.random.randint(1, 11, (3, 4)),\n",
    "    columns=[\"c1\", \"c2\", \"c3\", \"c4\"]\n",
    ")\n",
    "\n",
    "df"
   ]
  },
  {
   "cell_type": "markdown",
   "id": "2d76f215-f868-4fc3-816f-ea6d7690bde1",
   "metadata": {},
   "source": [
    "По умолчанию операции производятся построчно:"
   ]
  },
  {
   "cell_type": "code",
   "execution_count": 10,
   "id": "4df875ec-d8e0-47a3-8cff-ae863d1066e1",
   "metadata": {},
   "outputs": [
    {
     "data": {
      "text/html": [
       "<div>\n",
       "<style scoped>\n",
       "    .dataframe tbody tr th:only-of-type {\n",
       "        vertical-align: middle;\n",
       "    }\n",
       "\n",
       "    .dataframe tbody tr th {\n",
       "        vertical-align: top;\n",
       "    }\n",
       "\n",
       "    .dataframe thead th {\n",
       "        text-align: right;\n",
       "    }\n",
       "</style>\n",
       "<table border=\"1\" class=\"dataframe\">\n",
       "  <thead>\n",
       "    <tr style=\"text-align: right;\">\n",
       "      <th></th>\n",
       "      <th>c1</th>\n",
       "      <th>c2</th>\n",
       "      <th>c3</th>\n",
       "      <th>c4</th>\n",
       "    </tr>\n",
       "  </thead>\n",
       "  <tbody>\n",
       "    <tr>\n",
       "      <th>0</th>\n",
       "      <td>7</td>\n",
       "      <td>6</td>\n",
       "      <td>5</td>\n",
       "      <td>3</td>\n",
       "    </tr>\n",
       "    <tr>\n",
       "      <th>1</th>\n",
       "      <td>9</td>\n",
       "      <td>3</td>\n",
       "      <td>0</td>\n",
       "      <td>-1</td>\n",
       "    </tr>\n",
       "    <tr>\n",
       "      <th>2</th>\n",
       "      <td>9</td>\n",
       "      <td>3</td>\n",
       "      <td>4</td>\n",
       "      <td>-3</td>\n",
       "    </tr>\n",
       "  </tbody>\n",
       "</table>\n",
       "</div>"
      ],
      "text/plain": [
       "   c1  c2  c3  c4\n",
       "0   7   6   5   3\n",
       "1   9   3   0  -1\n",
       "2   9   3   4  -3"
      ]
     },
     "execution_count": 10,
     "metadata": {},
     "output_type": "execute_result"
    }
   ],
   "source": [
    "s = pd.Series({\"c1\": 1, \"c2\": 2, \"c3\": 3, \"c4\": 4})\n",
    "df - s"
   ]
  },
  {
   "cell_type": "markdown",
   "id": "a85d82d0-2490-41f4-bc24-a14d64178a6c",
   "metadata": {},
   "source": [
    "Если же операцию нужно выполнить по столбцам, то нужно об этом явно сказать Pandas'у с помощью аргумента `axis`:"
   ]
  },
  {
   "cell_type": "code",
   "execution_count": 11,
   "id": "df2e528d-2c07-437e-83a1-26e2e4999993",
   "metadata": {},
   "outputs": [
    {
     "data": {
      "text/html": [
       "<div>\n",
       "<style scoped>\n",
       "    .dataframe tbody tr th:only-of-type {\n",
       "        vertical-align: middle;\n",
       "    }\n",
       "\n",
       "    .dataframe tbody tr th {\n",
       "        vertical-align: top;\n",
       "    }\n",
       "\n",
       "    .dataframe thead th {\n",
       "        text-align: right;\n",
       "    }\n",
       "</style>\n",
       "<table border=\"1\" class=\"dataframe\">\n",
       "  <thead>\n",
       "    <tr style=\"text-align: right;\">\n",
       "      <th></th>\n",
       "      <th>c1</th>\n",
       "      <th>c2</th>\n",
       "      <th>c3</th>\n",
       "      <th>c4</th>\n",
       "    </tr>\n",
       "  </thead>\n",
       "  <tbody>\n",
       "    <tr>\n",
       "      <th>0</th>\n",
       "      <td>7</td>\n",
       "      <td>7</td>\n",
       "      <td>7</td>\n",
       "      <td>6</td>\n",
       "    </tr>\n",
       "    <tr>\n",
       "      <th>1</th>\n",
       "      <td>8</td>\n",
       "      <td>3</td>\n",
       "      <td>1</td>\n",
       "      <td>1</td>\n",
       "    </tr>\n",
       "    <tr>\n",
       "      <th>2</th>\n",
       "      <td>7</td>\n",
       "      <td>2</td>\n",
       "      <td>4</td>\n",
       "      <td>-2</td>\n",
       "    </tr>\n",
       "  </tbody>\n",
       "</table>\n",
       "</div>"
      ],
      "text/plain": [
       "   c1  c2  c3  c4\n",
       "0   7   7   7   6\n",
       "1   8   3   1   1\n",
       "2   7   2   4  -2"
      ]
     },
     "execution_count": 11,
     "metadata": {},
     "output_type": "execute_result"
    }
   ],
   "source": [
    "c = np.array([1, 2, 3])\n",
    "\n",
    "df.subtract(c, axis=0)"
   ]
  },
  {
   "cell_type": "markdown",
   "id": "22b280a7-e913-4577-9f4d-36abf3408a9e",
   "metadata": {},
   "source": [
    "# Часть 4.  Обработка отсутствующих значений"
   ]
  },
  {
   "cell_type": "markdown",
   "id": "b17033de-a667-4e7e-b3bb-862c1cbd6526",
   "metadata": {},
   "source": [
    "#  Общие понятия"
   ]
  },
  {
   "cell_type": "markdown",
   "id": "92a9d5fe-14e6-47c3-abf0-9e2df6543976",
   "metadata": {},
   "source": [
    "Ранее мы столкнулись не только с кейсом отсутствующих данных (NaN'ы, которые появляются при операциях над объектами с отличающимися индексами), но и способами их обработки. В этой части урока мы чуть подробнее остановимся на этой теме."
   ]
  },
  {
   "cell_type": "markdown",
   "id": "6daf7b5c-7ac8-4896-a081-164b628e3fcb",
   "metadata": {},
   "source": [
    "Прежде всего, следует отметить, что любой способ взаимодействия с отсутствующими (или ошибочными) данными имеет как свои достоинства, так и недостатки. Кроме того, даже наличие данных порой может быть индикатором того, что на самом деле в данных имеется проблема (например, если мы знаем, что в поле при нормально сценарии функционирования должны быть положительные целые значения, но мы вдруг встречаем `-999`)"
   ]
  },
  {
   "cell_type": "markdown",
   "id": "8bc5493d-197b-4bfd-abb8-e0143e70d325",
   "metadata": {},
   "source": [
    "Именно по этой причине при работе с данными критически важно понимать домен, в которым вы сейчас работаете (не только с точки зрения бизнеса, но и с точки зрения технологий)."
   ]
  },
  {
   "cell_type": "markdown",
   "id": "9a549ad6-7d21-4cbc-bcfe-d977d3356b0d",
   "metadata": {},
   "source": [
    "Как мы часто видели в различных кейсах ранее, использование нативных инструментов Python зачастую медленнее специализированных аналогов. В случае с обработкой отсутствующих значений тоже есть важный нюанс, который заключается в разнице между `None` и `np.nan`. Для этого сравним, какой `dtype` проставляется в случае использования каждого из них:"
   ]
  },
  {
   "cell_type": "code",
   "execution_count": 12,
   "id": "c21dade4-c0eb-48d8-ab0e-c948e125b844",
   "metadata": {},
   "outputs": [
    {
     "name": "stdout",
     "output_type": "stream",
     "text": [
      "Native dtype:  object\n",
      "NumPy  dtype:  float64\n"
     ]
    }
   ],
   "source": [
    "native_missing = np.array([1, 2, None, 4])\n",
    "numpy_missing = np.array([1, 2, np.nan, 4])\n",
    "\n",
    "print(\"Native dtype: \", native_missing.dtype)\n",
    "print(\"NumPy  dtype: \", numpy_missing.dtype)"
   ]
  },
  {
   "cell_type": "markdown",
   "id": "310a2d17-2279-4cd9-b4fe-11e7691a5952",
   "metadata": {},
   "source": [
    "Обратите внимание, что при использовании `None` проставляется тип `object`, которые требует больше времени на обработку:"
   ]
  },
  {
   "cell_type": "code",
   "execution_count": 13,
   "id": "91f9dc83-ff07-4010-84bb-5826e94884a0",
   "metadata": {},
   "outputs": [
    {
     "name": "stdout",
     "output_type": "stream",
     "text": [
      "1.71 s ± 377 ms per loop (mean ± std. dev. of 7 runs, 1 loop each)\n",
      "99.3 ms ± 8.9 ms per loop (mean ± std. dev. of 7 runs, 10 loops each)\n"
     ]
    }
   ],
   "source": [
    "%timeit np.arange(25_000_000, dtype=object).sum()\n",
    "%timeit np.arange(25_000_000, dtype=float).sum()"
   ]
  },
  {
   "cell_type": "markdown",
   "id": "3927112d-ad93-48aa-a272-feeea7677a07",
   "metadata": {},
   "source": [
    "Как видно, использование именно числового типа позволяет производить обработку эффективнее. Именно по этой причине будьте внимательны с теми объектами, с которыми вы работаете.\n",
    "\n",
    "Кроме того, обратите внимание, что `np.nan` является числом с плавающей точкой. Привести его к целочисленному типу нельзя:"
   ]
  },
  {
   "cell_type": "code",
   "execution_count": 15,
   "id": "ed7d6a2f-21fe-4a9f-b542-9777e11327d3",
   "metadata": {},
   "outputs": [
    {
     "name": "stdout",
     "output_type": "stream",
     "text": [
      "ERROR:\n",
      " cannot convert float NaN to integer\n"
     ]
    }
   ],
   "source": [
    "try:\n",
    "    np.array([1, 2, np.nan], dtype=int)\n",
    "except Exception as e:\n",
    "    print(\"ERROR:\\n\", e)"
   ]
  },
  {
   "cell_type": "markdown",
   "id": "b2181a8e-6209-4f2f-a7dc-ba3f2662913d",
   "metadata": {},
   "source": [
    "Также не стоит забывать особенности взаимодействия других числе с `pd.nan`: в случае с любой операцией даже единичное его присутствие приводит к тому, что весь производный объект становится тем же значением:"
   ]
  },
  {
   "cell_type": "code",
   "execution_count": 16,
   "id": "60db8695-b398-4557-932a-9d00b8d3aaf7",
   "metadata": {},
   "outputs": [
    {
     "data": {
      "text/plain": [
       "nan"
      ]
     },
     "execution_count": 16,
     "metadata": {},
     "output_type": "execute_result"
    }
   ],
   "source": [
    "x = np.arange(1_000, dtype=float)\n",
    "x[-1] = np.nan\n",
    "x.sum()"
   ]
  },
  {
   "cell_type": "markdown",
   "id": "6d474247-b24a-4f0b-9873-7a7f2bdc1ae9",
   "metadata": {},
   "source": [
    "Чтобы избежать этой проблемы у NumPy есть NaN-safe эквиваленты соответствующих операций:"
   ]
  },
  {
   "cell_type": "code",
   "execution_count": 17,
   "id": "3a941005-011c-4b8c-9840-b736f46294e6",
   "metadata": {},
   "outputs": [
    {
     "name": "stdout",
     "output_type": "stream",
     "text": [
      "NaN-safe sum:  498501.0\n",
      "NaN-safe max:  998.0\n",
      "NaN-safe min:  0.0\n"
     ]
    }
   ],
   "source": [
    "print(\"NaN-safe sum: \", np.nansum(x))\n",
    "print(\"NaN-safe max: \", np.nanmax(x))\n",
    "print(\"NaN-safe min: \", np.nanmin(x))"
   ]
  },
  {
   "cell_type": "markdown",
   "id": "294b23c2-4dac-4d9b-938f-884296b2694b",
   "metadata": {},
   "source": [
    "Работать с пропущенными значениями в Pandas даже удобнее по одной простой причине: он самостоятельно при наличии возможности обеспечивает конвертацию `None -> np.nan`"
   ]
  },
  {
   "cell_type": "code",
   "execution_count": 18,
   "id": "6b5fddc7-4924-4128-a0dc-e2d7a78ef635",
   "metadata": {},
   "outputs": [
    {
     "data": {
      "text/plain": [
       "0    1.0\n",
       "1    NaN\n",
       "2    2.0\n",
       "3    NaN\n",
       "dtype: float64"
      ]
     },
     "execution_count": 18,
     "metadata": {},
     "output_type": "execute_result"
    }
   ],
   "source": [
    "# Pandas автоматически конвертирует None => NaN\n",
    "# также автоматически производится конвертация во float\n",
    "pd.Series([1, None, 2, np.nan])"
   ]
  },
  {
   "cell_type": "markdown",
   "id": "87dc91a1-19f1-477d-a159-dfb20ef2e724",
   "metadata": {},
   "source": [
    "# Операции над пропущенными значениями"
   ]
  },
  {
   "cell_type": "markdown",
   "id": "228f3d48-f5b4-44fb-b5f1-adcef85c158f",
   "metadata": {},
   "source": [
    "Посмотрим, что можно делать с пропущенными значениями в Pandas:"
   ]
  },
  {
   "cell_type": "code",
   "execution_count": 19,
   "id": "17cbc68c-a67b-4d3b-985e-acc1bf2895ab",
   "metadata": {},
   "outputs": [],
   "source": [
    "s = pd.Series([1, None, 2, np.nan])"
   ]
  },
  {
   "cell_type": "code",
   "execution_count": 20,
   "id": "f59603e5-7fa1-459f-9e33-eab7dc3aee1f",
   "metadata": {},
   "outputs": [
    {
     "data": {
      "text/plain": [
       "0    False\n",
       "1     True\n",
       "2    False\n",
       "3     True\n",
       "dtype: bool"
      ]
     },
     "execution_count": 20,
     "metadata": {},
     "output_type": "execute_result"
    }
   ],
   "source": [
    "# проверка на пустоту (возвращает маску)\n",
    "s.isnull()"
   ]
  },
  {
   "cell_type": "code",
   "execution_count": 21,
   "id": "389d2fda-493e-4329-ac0b-88083853987d",
   "metadata": {},
   "outputs": [
    {
     "data": {
      "text/plain": [
       "0    1.0\n",
       "2    2.0\n",
       "dtype: float64"
      ]
     },
     "execution_count": 21,
     "metadata": {},
     "output_type": "execute_result"
    }
   ],
   "source": [
    "# данную маску удобно использовать, чтобы вытащить соответствующие непустые элементы\n",
    "s[s.notnull()]"
   ]
  },
  {
   "cell_type": "code",
   "execution_count": 22,
   "id": "f92ba6db-7c1f-41c7-8a7c-8ceddb5afeb0",
   "metadata": {},
   "outputs": [
    {
     "data": {
      "text/plain": [
       "0    1.0\n",
       "2    2.0\n",
       "dtype: float64"
      ]
     },
     "execution_count": 22,
     "metadata": {},
     "output_type": "execute_result"
    }
   ],
   "source": [
    "# удалить пропущенные значения\n",
    "s.dropna()"
   ]
  },
  {
   "cell_type": "code",
   "execution_count": 23,
   "id": "f038faaa-7ff8-44d1-abaa-9cb29b817b34",
   "metadata": {},
   "outputs": [
    {
     "data": {
      "text/plain": [
       "0      1.0\n",
       "1   -999.0\n",
       "2      2.0\n",
       "3   -999.0\n",
       "dtype: float64"
      ]
     },
     "execution_count": 23,
     "metadata": {},
     "output_type": "execute_result"
    }
   ],
   "source": [
    "# заполнить пропуски значением\n",
    "s.fillna(-999)"
   ]
  },
  {
   "cell_type": "markdown",
   "id": "51d17ca1-4445-4e00-9810-5c301bdf745d",
   "metadata": {},
   "source": [
    "При заполнении пропусков есть удобные функции, которые используют предшествующие значения. Будьте осторожны, потому что в некоторых случаях всё-таки могут остаться пустующие значения:"
   ]
  },
  {
   "cell_type": "code",
   "execution_count": 25,
   "id": "f93882b2-1140-45f5-84f2-1873e3cfa6cf",
   "metadata": {},
   "outputs": [
    {
     "data": {
      "text/plain": [
       "0    1.0\n",
       "1    1.0\n",
       "2    2.0\n",
       "3    2.0\n",
       "dtype: float64"
      ]
     },
     "execution_count": 25,
     "metadata": {},
     "output_type": "execute_result"
    }
   ],
   "source": [
    "# forward-fill\n",
    "s.ffill()"
   ]
  },
  {
   "cell_type": "code",
   "execution_count": 26,
   "id": "40f5b77b-bc10-496d-95cb-e828047e15b5",
   "metadata": {},
   "outputs": [
    {
     "data": {
      "text/plain": [
       "0    1.0\n",
       "1    2.0\n",
       "2    2.0\n",
       "3    NaN\n",
       "dtype: float64"
      ]
     },
     "execution_count": 26,
     "metadata": {},
     "output_type": "execute_result"
    }
   ],
   "source": [
    "# back-fill\n",
    "s.bfill()"
   ]
  },
  {
   "cell_type": "markdown",
   "id": "773c80d8-e849-48b5-8d79-2789f7dc9f83",
   "metadata": {},
   "source": [
    "Нам осталось посмотреть, как эти же функции работают в случае датафреймов:"
   ]
  },
  {
   "cell_type": "code",
   "execution_count": 27,
   "id": "33fe28c2-a18c-42bd-8e68-94485fd61afd",
   "metadata": {},
   "outputs": [
    {
     "data": {
      "text/html": [
       "<div>\n",
       "<style scoped>\n",
       "    .dataframe tbody tr th:only-of-type {\n",
       "        vertical-align: middle;\n",
       "    }\n",
       "\n",
       "    .dataframe tbody tr th {\n",
       "        vertical-align: top;\n",
       "    }\n",
       "\n",
       "    .dataframe thead th {\n",
       "        text-align: right;\n",
       "    }\n",
       "</style>\n",
       "<table border=\"1\" class=\"dataframe\">\n",
       "  <thead>\n",
       "    <tr style=\"text-align: right;\">\n",
       "      <th></th>\n",
       "      <th>a</th>\n",
       "      <th>b</th>\n",
       "      <th>c</th>\n",
       "      <th>d</th>\n",
       "    </tr>\n",
       "  </thead>\n",
       "  <tbody>\n",
       "    <tr>\n",
       "      <th>0</th>\n",
       "      <td>1.0</td>\n",
       "      <td>2.0</td>\n",
       "      <td>3</td>\n",
       "      <td>4.0</td>\n",
       "    </tr>\n",
       "    <tr>\n",
       "      <th>1</th>\n",
       "      <td>NaN</td>\n",
       "      <td>NaN</td>\n",
       "      <td>7</td>\n",
       "      <td>8.0</td>\n",
       "    </tr>\n",
       "    <tr>\n",
       "      <th>2</th>\n",
       "      <td>9.0</td>\n",
       "      <td>10.0</td>\n",
       "      <td>11</td>\n",
       "      <td>NaN</td>\n",
       "    </tr>\n",
       "  </tbody>\n",
       "</table>\n",
       "</div>"
      ],
      "text/plain": [
       "     a     b   c    d\n",
       "0  1.0   2.0   3  4.0\n",
       "1  NaN   NaN   7  8.0\n",
       "2  9.0  10.0  11  NaN"
      ]
     },
     "execution_count": 27,
     "metadata": {},
     "output_type": "execute_result"
    }
   ],
   "source": [
    "df = pd.DataFrame(\n",
    "    np.arange(1, 13).reshape((3, 4)),\n",
    "    columns=[\"a\", \"b\", \"c\", \"d\"]\n",
    ")\n",
    "df.loc[1, \"a\":\"b\"] = np.nan\n",
    "df.loc[2, \"d\"] = np.nan\n",
    "\n",
    "df"
   ]
  },
  {
   "cell_type": "code",
   "execution_count": 28,
   "id": "9d9d3b75-d363-452d-b30c-107da982b015",
   "metadata": {},
   "outputs": [
    {
     "data": {
      "text/html": [
       "<div>\n",
       "<style scoped>\n",
       "    .dataframe tbody tr th:only-of-type {\n",
       "        vertical-align: middle;\n",
       "    }\n",
       "\n",
       "    .dataframe tbody tr th {\n",
       "        vertical-align: top;\n",
       "    }\n",
       "\n",
       "    .dataframe thead th {\n",
       "        text-align: right;\n",
       "    }\n",
       "</style>\n",
       "<table border=\"1\" class=\"dataframe\">\n",
       "  <thead>\n",
       "    <tr style=\"text-align: right;\">\n",
       "      <th></th>\n",
       "      <th>a</th>\n",
       "      <th>b</th>\n",
       "      <th>c</th>\n",
       "      <th>d</th>\n",
       "    </tr>\n",
       "  </thead>\n",
       "  <tbody>\n",
       "    <tr>\n",
       "      <th>0</th>\n",
       "      <td>False</td>\n",
       "      <td>False</td>\n",
       "      <td>False</td>\n",
       "      <td>False</td>\n",
       "    </tr>\n",
       "    <tr>\n",
       "      <th>1</th>\n",
       "      <td>True</td>\n",
       "      <td>True</td>\n",
       "      <td>False</td>\n",
       "      <td>False</td>\n",
       "    </tr>\n",
       "    <tr>\n",
       "      <th>2</th>\n",
       "      <td>False</td>\n",
       "      <td>False</td>\n",
       "      <td>False</td>\n",
       "      <td>True</td>\n",
       "    </tr>\n",
       "  </tbody>\n",
       "</table>\n",
       "</div>"
      ],
      "text/plain": [
       "       a      b      c      d\n",
       "0  False  False  False  False\n",
       "1   True   True  False  False\n",
       "2  False  False  False   True"
      ]
     },
     "execution_count": 28,
     "metadata": {},
     "output_type": "execute_result"
    }
   ],
   "source": [
    "# проверка на пустоту\n",
    "df.isnull()"
   ]
  },
  {
   "cell_type": "code",
   "execution_count": 29,
   "id": "c0d93a70-df87-421f-8152-a1bcf3b05e44",
   "metadata": {},
   "outputs": [
    {
     "data": {
      "text/html": [
       "<div>\n",
       "<style scoped>\n",
       "    .dataframe tbody tr th:only-of-type {\n",
       "        vertical-align: middle;\n",
       "    }\n",
       "\n",
       "    .dataframe tbody tr th {\n",
       "        vertical-align: top;\n",
       "    }\n",
       "\n",
       "    .dataframe thead th {\n",
       "        text-align: right;\n",
       "    }\n",
       "</style>\n",
       "<table border=\"1\" class=\"dataframe\">\n",
       "  <thead>\n",
       "    <tr style=\"text-align: right;\">\n",
       "      <th></th>\n",
       "      <th>a</th>\n",
       "      <th>b</th>\n",
       "      <th>c</th>\n",
       "      <th>d</th>\n",
       "    </tr>\n",
       "  </thead>\n",
       "  <tbody>\n",
       "    <tr>\n",
       "      <th>0</th>\n",
       "      <td>1.0</td>\n",
       "      <td>2.0</td>\n",
       "      <td>3</td>\n",
       "      <td>4.0</td>\n",
       "    </tr>\n",
       "  </tbody>\n",
       "</table>\n",
       "</div>"
      ],
      "text/plain": [
       "     a    b  c    d\n",
       "0  1.0  2.0  3  4.0"
      ]
     },
     "execution_count": 29,
     "metadata": {},
     "output_type": "execute_result"
    }
   ],
   "source": [
    "# удалить пустые значения \n",
    "# (обратите внимание, что по умолчанию происходит работа в построчном режиме)\n",
    "df.dropna()"
   ]
  },
  {
   "cell_type": "code",
   "execution_count": 30,
   "id": "1a762cd4-d1cc-4e6c-aca4-201862d2e4d8",
   "metadata": {},
   "outputs": [
    {
     "data": {
      "text/html": [
       "<div>\n",
       "<style scoped>\n",
       "    .dataframe tbody tr th:only-of-type {\n",
       "        vertical-align: middle;\n",
       "    }\n",
       "\n",
       "    .dataframe tbody tr th {\n",
       "        vertical-align: top;\n",
       "    }\n",
       "\n",
       "    .dataframe thead th {\n",
       "        text-align: right;\n",
       "    }\n",
       "</style>\n",
       "<table border=\"1\" class=\"dataframe\">\n",
       "  <thead>\n",
       "    <tr style=\"text-align: right;\">\n",
       "      <th></th>\n",
       "      <th>c</th>\n",
       "    </tr>\n",
       "  </thead>\n",
       "  <tbody>\n",
       "    <tr>\n",
       "      <th>0</th>\n",
       "      <td>3</td>\n",
       "    </tr>\n",
       "    <tr>\n",
       "      <th>1</th>\n",
       "      <td>7</td>\n",
       "    </tr>\n",
       "    <tr>\n",
       "      <th>2</th>\n",
       "      <td>11</td>\n",
       "    </tr>\n",
       "  </tbody>\n",
       "</table>\n",
       "</div>"
      ],
      "text/plain": [
       "    c\n",
       "0   3\n",
       "1   7\n",
       "2  11"
      ]
     },
     "execution_count": 30,
     "metadata": {},
     "output_type": "execute_result"
    }
   ],
   "source": [
    "# удалить пустые значения можно и в режиме работы по столбцам \n",
    "# (для этого нужно задать аргумент axis)\n",
    "df.dropna(axis=1)"
   ]
  },
  {
   "cell_type": "markdown",
   "id": "f9dede3c-a478-4402-91e1-37a351046174",
   "metadata": {},
   "source": [
    "Отметим, что режимы работы по каждом из измерений также доступны и для всех упомянутых ранее способов обработки (включая `fillna`, `ffill`, `bfill`)"
   ]
  }
 ],
 "metadata": {
  "kernelspec": {
   "display_name": "Python 3 (ipykernel)",
   "language": "python",
   "name": "python3"
  },
  "language_info": {
   "codemirror_mode": {
    "name": "ipython",
    "version": 3
   },
   "file_extension": ".py",
   "mimetype": "text/x-python",
   "name": "python",
   "nbconvert_exporter": "python",
   "pygments_lexer": "ipython3",
   "version": "3.11.5"
  }
 },
 "nbformat": 4,
 "nbformat_minor": 5
}
