{
 "cells": [
  {
   "cell_type": "code",
   "execution_count": 1,
   "id": "974feebd-5298-45a2-9aad-14168bbb5a62",
   "metadata": {},
   "outputs": [
    {
     "name": "stdout",
     "output_type": "stream",
     "text": [
      "numpy  version:  1.23.5\n",
      "pandas version:  2.1.4\n"
     ]
    }
   ],
   "source": [
    "import numpy as np\n",
    "import pandas as pd\n",
    "\n",
    "print(\"numpy  version: \", np.__version__)\n",
    "print(\"pandas version: \", pd.__version__)"
   ]
  },
  {
   "cell_type": "markdown",
   "id": "83466900-e3ee-46cd-992e-fde195b13cd8",
   "metadata": {},
   "source": [
    "# Часть 2. Индексация"
   ]
  },
  {
   "cell_type": "markdown",
   "id": "28972e25-3ee4-479c-be35-386e02b1266f",
   "metadata": {},
   "source": [
    "По уже вполне сложившейся традиции начнём с углубления знаний об индексах, начиная с более простого типа объектов - с Series:"
   ]
  },
  {
   "cell_type": "code",
   "execution_count": 21,
   "id": "ecc37611-668f-40f4-9cab-33d8abe7445c",
   "metadata": {},
   "outputs": [
    {
     "data": {
      "text/plain": [
       "a    0.1\n",
       "b    0.3\n",
       "c    0.5\n",
       "d    1.0\n",
       "dtype: float64"
      ]
     },
     "execution_count": 21,
     "metadata": {},
     "output_type": "execute_result"
    }
   ],
   "source": [
    "s = pd.Series(\n",
    "    [0.1, 0.3, 0.5, 1.0], \n",
    "    index=[\"a\", \"b\", \"c\", \"d\"]\n",
    ")\n",
    "\n",
    "s"
   ]
  },
  {
   "cell_type": "markdown",
   "id": "20febb80-7e7d-47c4-966c-d834183d34a2",
   "metadata": {},
   "source": [
    "Ранее было сказано, что Series можно рассматривать в качестве обобщения словарей Python'а, что приводти к тому, что мы можем выполнять с индексом всё те же операции, что были присущи объектам типа dict:"
   ]
  },
  {
   "cell_type": "code",
   "execution_count": 22,
   "id": "a1524601-8730-48b1-ba9d-0e560f0682f2",
   "metadata": {},
   "outputs": [
    {
     "data": {
      "text/plain": [
       "(True, False)"
      ]
     },
     "execution_count": 22,
     "metadata": {},
     "output_type": "execute_result"
    }
   ],
   "source": [
    "# проверка, есть ли ключ\n",
    "\"a\" in s, \"z\" in s"
   ]
  },
  {
   "cell_type": "code",
   "execution_count": 23,
   "id": "50f62eca-28da-4fbe-b866-95fb285b5589",
   "metadata": {},
   "outputs": [
    {
     "data": {
      "text/plain": [
       "Index(['a', 'b', 'c', 'd'], dtype='object')"
      ]
     },
     "execution_count": 23,
     "metadata": {},
     "output_type": "execute_result"
    }
   ],
   "source": [
    "# доступ ко всем ключам\n",
    "s.keys()"
   ]
  },
  {
   "cell_type": "code",
   "execution_count": 24,
   "id": "2ec7f068-fd35-4ed0-9e0e-dc21110209e5",
   "metadata": {},
   "outputs": [
    {
     "data": {
      "text/plain": [
       "[('a', 0.1), ('b', 0.3), ('c', 0.5), ('d', 1.0)]"
      ]
     },
     "execution_count": 24,
     "metadata": {},
     "output_type": "execute_result"
    }
   ],
   "source": [
    "# метод items()\n",
    "list(s.items())"
   ]
  },
  {
   "cell_type": "code",
   "execution_count": 25,
   "id": "26d18155-28a9-485c-8c0e-a5c5c8c612d1",
   "metadata": {},
   "outputs": [
    {
     "data": {
      "text/plain": [
       "a    0.10\n",
       "b    0.30\n",
       "c    0.50\n",
       "d    1.00\n",
       "e    3.14\n",
       "dtype: float64"
      ]
     },
     "execution_count": 25,
     "metadata": {},
     "output_type": "execute_result"
    }
   ],
   "source": [
    "# добавление нового элемента\n",
    "s[\"e\"] = 3.14\n",
    "s"
   ]
  },
  {
   "cell_type": "markdown",
   "id": "a3cab37e-ff9e-4aed-86eb-e4c8c61343a3",
   "metadata": {},
   "source": [
    "По аналогии с массивами можно использовать следующие возможности для индексации и slicing'а:"
   ]
  },
  {
   "cell_type": "code",
   "execution_count": 26,
   "id": "45a88c54-fc1d-428d-b4b1-07e952ba6cf3",
   "metadata": {},
   "outputs": [
    {
     "data": {
      "text/plain": [
       "a    0.1\n",
       "b    0.3\n",
       "c    0.5\n",
       "dtype: float64"
      ]
     },
     "execution_count": 26,
     "metadata": {},
     "output_type": "execute_result"
    }
   ],
   "source": [
    "# slicing по явно заданному индексу\n",
    "# (обратите внимание, что теперь конец включается)\n",
    "s[\"a\":\"c\"]"
   ]
  },
  {
   "cell_type": "code",
   "execution_count": 27,
   "id": "e0896bd4-14d4-41c7-8a96-1881e99e1513",
   "metadata": {},
   "outputs": [
    {
     "data": {
      "text/plain": [
       "a    0.1\n",
       "b    0.3\n",
       "dtype: float64"
      ]
     },
     "execution_count": 27,
     "metadata": {},
     "output_type": "execute_result"
    }
   ],
   "source": [
    "# slicing по явно неявному индексу\n",
    "s[0:2]"
   ]
  },
  {
   "cell_type": "code",
   "execution_count": 28,
   "id": "76232dba-b73c-4060-95f8-0aa82b91a9ae",
   "metadata": {},
   "outputs": [
    {
     "data": {
      "text/plain": [
       "b    0.3\n",
       "c    0.5\n",
       "dtype: float64"
      ]
     },
     "execution_count": 28,
     "metadata": {},
     "output_type": "execute_result"
    }
   ],
   "source": [
    "# использование булевых маск\n",
    "s[(s > 0.2) & (s < 1.0)]"
   ]
  },
  {
   "cell_type": "code",
   "execution_count": 29,
   "id": "5f1a1200-cccb-456c-886f-e220643787d2",
   "metadata": {},
   "outputs": [
    {
     "data": {
      "text/plain": [
       "a    0.10\n",
       "e    3.14\n",
       "dtype: float64"
      ]
     },
     "execution_count": 29,
     "metadata": {},
     "output_type": "execute_result"
    }
   ],
   "source": [
    "# в качестве индекса можно подавать список ключей\n",
    "s[[\"a\", \"e\"]]"
   ]
  },
  {
   "cell_type": "markdown",
   "id": "4c4bee48-1889-4883-bb3d-072ed302d82e",
   "metadata": {},
   "source": [
    "К текущему моменту может сложиться впечатление (и это вполне обосновано), что индексы - достаточно запутанная история. Чтобы до конца устранить возможное непонимание, давайте рассмотрим ещё один пример:"
   ]
  },
  {
   "cell_type": "code",
   "execution_count": 30,
   "id": "b977f30c-da85-42e2-bc25-31d2a0d9c5e6",
   "metadata": {},
   "outputs": [
    {
     "data": {
      "text/plain": [
       "1    a\n",
       "3    b\n",
       "5    c\n",
       "dtype: object"
      ]
     },
     "execution_count": 30,
     "metadata": {},
     "output_type": "execute_result"
    }
   ],
   "source": [
    "df = pd.Series(\n",
    "    [\"a\", \"b\", \"c\"], \n",
    "    index=[1, 3, 5]\n",
    ")\n",
    "df"
   ]
  },
  {
   "cell_type": "markdown",
   "id": "036c95e9-6115-4a18-8a0a-bcbc0284f9ba",
   "metadata": {},
   "source": [
    "Обратите внимание, что индекс в текущем примере состоит из нечётных чисел 1, 3 и 5 (explicit index - явный индекс):"
   ]
  },
  {
   "cell_type": "code",
   "execution_count": 31,
   "id": "fecc12bf-fae8-46dc-88de-816a8d1ca1b2",
   "metadata": {},
   "outputs": [
    {
     "data": {
      "text/plain": [
       "'a'"
      ]
     },
     "execution_count": 31,
     "metadata": {},
     "output_type": "execute_result"
    }
   ],
   "source": [
    "# при индексации используется явный индекс\n",
    "df[1]"
   ]
  },
  {
   "cell_type": "code",
   "execution_count": 32,
   "id": "9b47a4d2-c9e3-439b-bce8-24c0ba38f60d",
   "metadata": {},
   "outputs": [
    {
     "data": {
      "text/plain": [
       "3    b\n",
       "5    c\n",
       "dtype: object"
      ]
     },
     "execution_count": 32,
     "metadata": {},
     "output_type": "execute_result"
    }
   ],
   "source": [
    "# slicing использует неявный индекс, \n",
    "# поэтому выдаёт элементы со второго по четвёртый (не включая его)\n",
    "df[1:3]"
   ]
  },
  {
   "cell_type": "markdown",
   "id": "342fba68-3eea-4c41-8459-c1f4d7fb5464",
   "metadata": {},
   "source": [
    "Чтобы устранить эту путаницу, в Pandas есть специальные индексеры. Они используются, чтобы явно выбрать тот индекс, который будет использоваться. Это позволяет не держать в голове нюансы того, explicit или implicit index будет применён\n",
    "\n",
    "Первый из них - `loc`, которые применяется для explicit index:"
   ]
  },
  {
   "cell_type": "code",
   "execution_count": 33,
   "id": "ea6f7766-f814-439a-bf5a-46debde82db1",
   "metadata": {},
   "outputs": [
    {
     "data": {
      "text/plain": [
       "'a'"
      ]
     },
     "execution_count": 33,
     "metadata": {},
     "output_type": "execute_result"
    }
   ],
   "source": [
    "df.loc[1]"
   ]
  },
  {
   "cell_type": "code",
   "execution_count": 34,
   "id": "9e205832-ee16-4acb-ab99-4743a2e479ee",
   "metadata": {},
   "outputs": [
    {
     "data": {
      "text/plain": [
       "1    a\n",
       "3    b\n",
       "dtype: object"
      ]
     },
     "execution_count": 34,
     "metadata": {},
     "output_type": "execute_result"
    }
   ],
   "source": [
    "df.loc[1:3]"
   ]
  },
  {
   "cell_type": "markdown",
   "id": "61ac8009-72b5-466c-b12b-ccd828a09474",
   "metadata": {},
   "source": [
    "Второй - `iloc` (i - implicit). Он применяется для неявного индекса"
   ]
  },
  {
   "cell_type": "code",
   "execution_count": 35,
   "id": "ed85dbd8-5a07-4b8c-b32f-289c1af4f1a5",
   "metadata": {},
   "outputs": [
    {
     "data": {
      "text/plain": [
       "'b'"
      ]
     },
     "execution_count": 35,
     "metadata": {},
     "output_type": "execute_result"
    }
   ],
   "source": [
    "df.iloc[1]"
   ]
  },
  {
   "cell_type": "code",
   "execution_count": 36,
   "id": "63d278c3-7d03-4296-97ca-218a2502f547",
   "metadata": {},
   "outputs": [
    {
     "data": {
      "text/plain": [
       "3    b\n",
       "5    c\n",
       "dtype: object"
      ]
     },
     "execution_count": 36,
     "metadata": {},
     "output_type": "execute_result"
    }
   ],
   "source": [
    "df.iloc[1:3]"
   ]
  },
  {
   "cell_type": "markdown",
   "id": "7faadc05-814f-4f96-9209-a277ecb86d14",
   "metadata": {},
   "source": [
    "Вернёмся к вопросу индексирования датафреймов. В примерах будет работать со следующими данными:"
   ]
  },
  {
   "cell_type": "code",
   "execution_count": 37,
   "id": "8673c20a-04a1-40a1-a890-442494b8d1c8",
   "metadata": {},
   "outputs": [
    {
     "data": {
      "text/html": [
       "<div>\n",
       "<style scoped>\n",
       "    .dataframe tbody tr th:only-of-type {\n",
       "        vertical-align: middle;\n",
       "    }\n",
       "\n",
       "    .dataframe tbody tr th {\n",
       "        vertical-align: top;\n",
       "    }\n",
       "\n",
       "    .dataframe thead th {\n",
       "        text-align: right;\n",
       "    }\n",
       "</style>\n",
       "<table border=\"1\" class=\"dataframe\">\n",
       "  <thead>\n",
       "    <tr style=\"text-align: right;\">\n",
       "      <th></th>\n",
       "      <th>num_active_versions</th>\n",
       "      <th>complexity</th>\n",
       "    </tr>\n",
       "  </thead>\n",
       "  <tbody>\n",
       "    <tr>\n",
       "      <th>android</th>\n",
       "      <td>8</td>\n",
       "      <td>0.9</td>\n",
       "    </tr>\n",
       "    <tr>\n",
       "      <th>ios</th>\n",
       "      <td>4</td>\n",
       "      <td>1.4</td>\n",
       "    </tr>\n",
       "    <tr>\n",
       "      <th>website</th>\n",
       "      <td>14</td>\n",
       "      <td>1.0</td>\n",
       "    </tr>\n",
       "    <tr>\n",
       "      <th>windows phone</th>\n",
       "      <td>1</td>\n",
       "      <td>2.1</td>\n",
       "    </tr>\n",
       "  </tbody>\n",
       "</table>\n",
       "</div>"
      ],
      "text/plain": [
       "               num_active_versions  complexity\n",
       "android                          8         0.9\n",
       "ios                              4         1.4\n",
       "website                         14         1.0\n",
       "windows phone                    1         2.1"
      ]
     },
     "execution_count": 37,
     "metadata": {},
     "output_type": "execute_result"
    }
   ],
   "source": [
    "df = pd.DataFrame(\n",
    "    {\n",
    "        \"num_active_versions\": pd.Series({ \"website\": 14, \"ios\": 4, \"android\": 8, \"windows phone\": 1 }), \n",
    "        \"complexity\": pd.Series({ \"windows phone\": 2.1, \"ios\": 1.4, \"website\": 1.0,  \"android\": 0.9 })\n",
    "    }\n",
    ")\n",
    "\n",
    "df"
   ]
  },
  {
   "cell_type": "markdown",
   "id": "c46c5676-a76b-4efc-920c-29acbc41a337",
   "metadata": {},
   "source": [
    "Давайте рассмотрим, какие возможности при работе с индексами датафреймов существуют:"
   ]
  },
  {
   "cell_type": "code",
   "execution_count": 38,
   "id": "33548555-6154-4fd1-b0e6-41c360fb7311",
   "metadata": {},
   "outputs": [
    {
     "data": {
      "text/plain": [
       "android           8\n",
       "ios               4\n",
       "website          14\n",
       "windows phone     1\n",
       "Name: num_active_versions, dtype: int64"
      ]
     },
     "execution_count": 38,
     "metadata": {},
     "output_type": "execute_result"
    }
   ],
   "source": [
    "# выбор столбца по названию\n",
    "df[\"num_active_versions\"]"
   ]
  },
  {
   "cell_type": "code",
   "execution_count": 39,
   "id": "df9d01ff-c918-41a2-bca0-320100bae4ab",
   "metadata": {},
   "outputs": [
    {
     "data": {
      "text/plain": [
       "android          0.9\n",
       "ios              1.4\n",
       "website          1.0\n",
       "windows phone    2.1\n",
       "Name: complexity, dtype: float64"
      ]
     },
     "execution_count": 39,
     "metadata": {},
     "output_type": "execute_result"
    }
   ],
   "source": [
    "# выбор столбца по полю атрибута\n",
    "df.complexity"
   ]
  },
  {
   "cell_type": "code",
   "execution_count": 40,
   "id": "28640f80-523f-4d3e-9138-af7619ead6db",
   "metadata": {},
   "outputs": [
    {
     "data": {
      "text/plain": [
       "True"
      ]
     },
     "execution_count": 40,
     "metadata": {},
     "output_type": "execute_result"
    }
   ],
   "source": [
    "# обратите внимание, что разницы в способах обращения нет\n",
    "df.complexity is df[\"complexity\"]"
   ]
  },
  {
   "cell_type": "markdown",
   "id": "ae7f5656-b0eb-4477-b26b-165414282749",
   "metadata": {},
   "source": [
    "Обратите внимание, что именно поэтому не рекомендуется именовать столбцы таким образом, чтобы их название совпадало с одним из существующих методов."
   ]
  },
  {
   "cell_type": "markdown",
   "id": "921a9b78-ba09-4251-8c1f-c374c09c94df",
   "metadata": {},
   "source": [
    "Не забывайте, что как и Series, DataFrame можно рассматривать в качестве обобщения словаря, что даёт соответствующие возможности:"
   ]
  },
  {
   "cell_type": "code",
   "execution_count": 41,
   "id": "acda5fd3-2f3f-4ff3-96dc-8353510beb3d",
   "metadata": {},
   "outputs": [
    {
     "data": {
      "text/html": [
       "<div>\n",
       "<style scoped>\n",
       "    .dataframe tbody tr th:only-of-type {\n",
       "        vertical-align: middle;\n",
       "    }\n",
       "\n",
       "    .dataframe tbody tr th {\n",
       "        vertical-align: top;\n",
       "    }\n",
       "\n",
       "    .dataframe thead th {\n",
       "        text-align: right;\n",
       "    }\n",
       "</style>\n",
       "<table border=\"1\" class=\"dataframe\">\n",
       "  <thead>\n",
       "    <tr style=\"text-align: right;\">\n",
       "      <th></th>\n",
       "      <th>num_active_versions</th>\n",
       "      <th>complexity</th>\n",
       "      <th>main_lang</th>\n",
       "    </tr>\n",
       "  </thead>\n",
       "  <tbody>\n",
       "    <tr>\n",
       "      <th>android</th>\n",
       "      <td>8</td>\n",
       "      <td>0.9</td>\n",
       "      <td>kotlin</td>\n",
       "    </tr>\n",
       "    <tr>\n",
       "      <th>ios</th>\n",
       "      <td>4</td>\n",
       "      <td>1.4</td>\n",
       "      <td>swift</td>\n",
       "    </tr>\n",
       "    <tr>\n",
       "      <th>website</th>\n",
       "      <td>14</td>\n",
       "      <td>1.0</td>\n",
       "      <td>go</td>\n",
       "    </tr>\n",
       "    <tr>\n",
       "      <th>windows phone</th>\n",
       "      <td>1</td>\n",
       "      <td>2.1</td>\n",
       "      <td>c#</td>\n",
       "    </tr>\n",
       "  </tbody>\n",
       "</table>\n",
       "</div>"
      ],
      "text/plain": [
       "               num_active_versions  complexity main_lang\n",
       "android                          8         0.9    kotlin\n",
       "ios                              4         1.4     swift\n",
       "website                         14         1.0        go\n",
       "windows phone                    1         2.1        c#"
      ]
     },
     "execution_count": 41,
     "metadata": {},
     "output_type": "execute_result"
    }
   ],
   "source": [
    "# добавить столбец\n",
    "df[\"main_lang\"] = {\n",
    "    \"android\": \"kotlin\", \n",
    "    \"ios\": \"swift\", \n",
    "    \"website\": \"go\", \n",
    "    \"windows phone\": \"c#\"\n",
    "}\n",
    "\n",
    "df"
   ]
  },
  {
   "cell_type": "code",
   "execution_count": 42,
   "id": "28e506d7-8cf0-470f-b1b4-a0299df23805",
   "metadata": {},
   "outputs": [
    {
     "data": {
      "text/plain": [
       "array([[8, 0.9, 'kotlin'],\n",
       "       [4, 1.4, 'swift'],\n",
       "       [14, 1.0, 'go'],\n",
       "       [1, 2.1, 'c#']], dtype=object)"
      ]
     },
     "execution_count": 42,
     "metadata": {},
     "output_type": "execute_result"
    }
   ],
   "source": [
    "# обращение к значениям датафрейма\n",
    "df.values"
   ]
  },
  {
   "cell_type": "code",
   "execution_count": 43,
   "id": "e6a66100-f36f-471b-b511-36b1f84add82",
   "metadata": {},
   "outputs": [
    {
     "data": {
      "text/html": [
       "<div>\n",
       "<style scoped>\n",
       "    .dataframe tbody tr th:only-of-type {\n",
       "        vertical-align: middle;\n",
       "    }\n",
       "\n",
       "    .dataframe tbody tr th {\n",
       "        vertical-align: top;\n",
       "    }\n",
       "\n",
       "    .dataframe thead th {\n",
       "        text-align: right;\n",
       "    }\n",
       "</style>\n",
       "<table border=\"1\" class=\"dataframe\">\n",
       "  <thead>\n",
       "    <tr style=\"text-align: right;\">\n",
       "      <th></th>\n",
       "      <th>android</th>\n",
       "      <th>ios</th>\n",
       "      <th>website</th>\n",
       "      <th>windows phone</th>\n",
       "    </tr>\n",
       "  </thead>\n",
       "  <tbody>\n",
       "    <tr>\n",
       "      <th>num_active_versions</th>\n",
       "      <td>8</td>\n",
       "      <td>4</td>\n",
       "      <td>14</td>\n",
       "      <td>1</td>\n",
       "    </tr>\n",
       "    <tr>\n",
       "      <th>complexity</th>\n",
       "      <td>0.9</td>\n",
       "      <td>1.4</td>\n",
       "      <td>1.0</td>\n",
       "      <td>2.1</td>\n",
       "    </tr>\n",
       "    <tr>\n",
       "      <th>main_lang</th>\n",
       "      <td>kotlin</td>\n",
       "      <td>swift</td>\n",
       "      <td>go</td>\n",
       "      <td>c#</td>\n",
       "    </tr>\n",
       "  </tbody>\n",
       "</table>\n",
       "</div>"
      ],
      "text/plain": [
       "                    android    ios website windows phone\n",
       "num_active_versions       8      4      14             1\n",
       "complexity              0.9    1.4     1.0           2.1\n",
       "main_lang            kotlin  swift      go            c#"
      ]
     },
     "execution_count": 43,
     "metadata": {},
     "output_type": "execute_result"
    }
   ],
   "source": [
    "# транспонирование (поменять местами строчки и столбцы)\n",
    "df.T"
   ]
  },
  {
   "cell_type": "markdown",
   "id": "e3a7ba74-7b19-4364-a511-1a0e69521f32",
   "metadata": {},
   "source": [
    "Теперь вернёмся к индексерам и их применению к уже датафреймам:"
   ]
  },
  {
   "cell_type": "code",
   "execution_count": 45,
   "id": "d815492c-f6ad-4f91-904f-8434d7acbfba",
   "metadata": {},
   "outputs": [
    {
     "data": {
      "text/html": [
       "<div>\n",
       "<style scoped>\n",
       "    .dataframe tbody tr th:only-of-type {\n",
       "        vertical-align: middle;\n",
       "    }\n",
       "\n",
       "    .dataframe tbody tr th {\n",
       "        vertical-align: top;\n",
       "    }\n",
       "\n",
       "    .dataframe thead th {\n",
       "        text-align: right;\n",
       "    }\n",
       "</style>\n",
       "<table border=\"1\" class=\"dataframe\">\n",
       "  <thead>\n",
       "    <tr style=\"text-align: right;\">\n",
       "      <th></th>\n",
       "      <th>complexity</th>\n",
       "      <th>main_lang</th>\n",
       "    </tr>\n",
       "  </thead>\n",
       "  <tbody>\n",
       "    <tr>\n",
       "      <th>android</th>\n",
       "      <td>0.9</td>\n",
       "      <td>kotlin</td>\n",
       "    </tr>\n",
       "    <tr>\n",
       "      <th>ios</th>\n",
       "      <td>1.4</td>\n",
       "      <td>swift</td>\n",
       "    </tr>\n",
       "    <tr>\n",
       "      <th>website</th>\n",
       "      <td>1.0</td>\n",
       "      <td>go</td>\n",
       "    </tr>\n",
       "  </tbody>\n",
       "</table>\n",
       "</div>"
      ],
      "text/plain": [
       "         complexity main_lang\n",
       "android         0.9    kotlin\n",
       "ios             1.4     swift\n",
       "website         1.0        go"
      ]
     },
     "execution_count": 45,
     "metadata": {},
     "output_type": "execute_result"
    }
   ],
   "source": [
    "# iloc - implicit indexer (первые 3 строчки и последние два столбца)\n",
    "df.iloc[:3, -2:]"
   ]
  },
  {
   "cell_type": "code",
   "execution_count": 46,
   "id": "c94838f5-d602-460e-90ca-a0ec162167b5",
   "metadata": {},
   "outputs": [
    {
     "data": {
      "text/html": [
       "<div>\n",
       "<style scoped>\n",
       "    .dataframe tbody tr th:only-of-type {\n",
       "        vertical-align: middle;\n",
       "    }\n",
       "\n",
       "    .dataframe tbody tr th {\n",
       "        vertical-align: top;\n",
       "    }\n",
       "\n",
       "    .dataframe thead th {\n",
       "        text-align: right;\n",
       "    }\n",
       "</style>\n",
       "<table border=\"1\" class=\"dataframe\">\n",
       "  <thead>\n",
       "    <tr style=\"text-align: right;\">\n",
       "      <th></th>\n",
       "      <th>complexity</th>\n",
       "      <th>main_lang</th>\n",
       "    </tr>\n",
       "  </thead>\n",
       "  <tbody>\n",
       "    <tr>\n",
       "      <th>android</th>\n",
       "      <td>0.9</td>\n",
       "      <td>kotlin</td>\n",
       "    </tr>\n",
       "    <tr>\n",
       "      <th>ios</th>\n",
       "      <td>1.4</td>\n",
       "      <td>swift</td>\n",
       "    </tr>\n",
       "    <tr>\n",
       "      <th>website</th>\n",
       "      <td>1.0</td>\n",
       "      <td>go</td>\n",
       "    </tr>\n",
       "  </tbody>\n",
       "</table>\n",
       "</div>"
      ],
      "text/plain": [
       "         complexity main_lang\n",
       "android         0.9    kotlin\n",
       "ios             1.4     swift\n",
       "website         1.0        go"
      ]
     },
     "execution_count": 46,
     "metadata": {},
     "output_type": "execute_result"
    }
   ],
   "source": [
    "# loc - explicit indexer (все строчки до website, все столбцы после complexity - ВКЛЮЧАЯ ГРАНИЦЫ)\n",
    "df.loc[:\"website\", \"complexity\":]"
   ]
  },
  {
   "cell_type": "code",
   "execution_count": 47,
   "id": "f1203072-69f5-48b1-a088-c2f8a4e9641d",
   "metadata": {},
   "outputs": [
    {
     "data": {
      "text/html": [
       "<div>\n",
       "<style scoped>\n",
       "    .dataframe tbody tr th:only-of-type {\n",
       "        vertical-align: middle;\n",
       "    }\n",
       "\n",
       "    .dataframe tbody tr th {\n",
       "        vertical-align: top;\n",
       "    }\n",
       "\n",
       "    .dataframe thead th {\n",
       "        text-align: right;\n",
       "    }\n",
       "</style>\n",
       "<table border=\"1\" class=\"dataframe\">\n",
       "  <thead>\n",
       "    <tr style=\"text-align: right;\">\n",
       "      <th></th>\n",
       "      <th>num_active_versions</th>\n",
       "      <th>main_lang</th>\n",
       "    </tr>\n",
       "  </thead>\n",
       "  <tbody>\n",
       "    <tr>\n",
       "      <th>ios</th>\n",
       "      <td>4</td>\n",
       "      <td>swift</td>\n",
       "    </tr>\n",
       "    <tr>\n",
       "      <th>windows phone</th>\n",
       "      <td>1</td>\n",
       "      <td>c#</td>\n",
       "    </tr>\n",
       "  </tbody>\n",
       "</table>\n",
       "</div>"
      ],
      "text/plain": [
       "               num_active_versions main_lang\n",
       "ios                              4     swift\n",
       "windows phone                    1        c#"
      ]
     },
     "execution_count": 47,
     "metadata": {},
     "output_type": "execute_result"
    }
   ],
   "source": [
    "# использование масок (выведем все платформы со списком активных версий + основной язык разработки)\n",
    "df.loc[df.complexity > 1.0, [\"num_active_versions\", \"main_lang\"]]"
   ]
  }
 ],
 "metadata": {
  "kernelspec": {
   "display_name": "Python 3 (ipykernel)",
   "language": "python",
   "name": "python3"
  },
  "language_info": {
   "codemirror_mode": {
    "name": "ipython",
    "version": 3
   },
   "file_extension": ".py",
   "mimetype": "text/x-python",
   "name": "python",
   "nbconvert_exporter": "python",
   "pygments_lexer": "ipython3",
   "version": "3.11.5"
  }
 },
 "nbformat": 4,
 "nbformat_minor": 5
}
