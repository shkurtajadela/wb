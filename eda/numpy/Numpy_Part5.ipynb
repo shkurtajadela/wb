{
 "cells": [
  {
   "cell_type": "code",
   "execution_count": 1,
   "id": "07c4645e-7a3c-4f93-bc79-a69b3960f6b9",
   "metadata": {},
   "outputs": [
    {
     "data": {
      "text/plain": [
       "'1.23.5'"
      ]
     },
     "execution_count": 1,
     "metadata": {},
     "output_type": "execute_result"
    }
   ],
   "source": [
    "import numpy as np\n",
    "np.__version__"
   ]
  },
  {
   "cell_type": "markdown",
   "id": "1b21bdc4-98bb-4ca4-94ca-4d92c8dc174e",
   "metadata": {},
   "source": [
    "# Часть 5. Маски и булева логика"
   ]
  },
  {
   "cell_type": "markdown",
   "id": "eea2f03a-3a8b-452a-8059-5467344a6a97",
   "metadata": {},
   "source": [
    "## Использование операторов сравнения в качестве UFuncs"
   ]
  },
  {
   "cell_type": "markdown",
   "id": "daf4e17d-0ca7-40a0-900c-cb4ec99fa566",
   "metadata": {},
   "source": [
    "Ранее в разделе про универсальные функции мы говорили о том, какие они бывают и в целом для чего предназначались. Однако их полезность на преобразовании не заканчиваются. Из курса дискретной математики или логики вы наверняка помните, что значения могут быть истинными (True) или ложными (False). В случае с использованием UFuncs есть специальные процедуры, позволяющие работать с этими значениями"
   ]
  },
  {
   "cell_type": "code",
   "execution_count": 2,
   "id": "30a09e26-e606-4ee1-9d84-4c7f8737d3be",
   "metadata": {},
   "outputs": [
    {
     "data": {
      "text/plain": [
       "array([1, 2, 3, 4, 5])"
      ]
     },
     "execution_count": 2,
     "metadata": {},
     "output_type": "execute_result"
    }
   ],
   "source": [
    "x = np.arange(1, 6)\n",
    "x"
   ]
  },
  {
   "cell_type": "code",
   "execution_count": 3,
   "id": "7220cc09-af66-4177-97b4-442e7563d3f4",
   "metadata": {},
   "outputs": [
    {
     "data": {
      "text/plain": [
       "array([ True,  True, False, False, False])"
      ]
     },
     "execution_count": 3,
     "metadata": {},
     "output_type": "execute_result"
    }
   ],
   "source": [
    "# удовлетворяет ли значение условию\n",
    "x <= 2"
   ]
  },
  {
   "cell_type": "code",
   "execution_count": 4,
   "id": "0dc0bd95-a9df-4cc1-8e01-350530fd8e2f",
   "metadata": {},
   "outputs": [
    {
     "data": {
      "text/plain": [
       "array([False, False, False,  True,  True])"
      ]
     },
     "execution_count": 4,
     "metadata": {},
     "output_type": "execute_result"
    }
   ],
   "source": [
    "# удовлетворяет ли значение условию\n",
    "x > 3"
   ]
  },
  {
   "cell_type": "markdown",
   "id": "52ee69bb-9d11-4de8-afb6-db7a6b851e99",
   "metadata": {},
   "source": [
    "Таким образом, можно проводить проверки, удовлетворяет ли объект на определённой позиции заданному свойству. Обратите внимание, что для многомерных массивов всё работает по абсолютно тому же принципу"
   ]
  },
  {
   "cell_type": "code",
   "execution_count": 5,
   "id": "b0a1e203-84f4-4754-9d90-bfb14d20c7a0",
   "metadata": {},
   "outputs": [
    {
     "data": {
      "text/plain": [
       "array([[1, 2, 3],\n",
       "       [4, 5, 6]])"
      ]
     },
     "execution_count": 5,
     "metadata": {},
     "output_type": "execute_result"
    }
   ],
   "source": [
    "x = np.arange(1, 7).reshape((2, 3))\n",
    "x"
   ]
  },
  {
   "cell_type": "code",
   "execution_count": 26,
   "id": "3e35f2d8-89b3-4c77-84a4-77a8a1e0d626",
   "metadata": {},
   "outputs": [
    {
     "data": {
      "text/plain": [
       "array([[ True,  True, False],\n",
       "       [False, False, False]])"
      ]
     },
     "execution_count": 26,
     "metadata": {},
     "output_type": "execute_result"
    }
   ],
   "source": [
    "x < 3"
   ]
  },
  {
   "cell_type": "markdown",
   "id": "43ef5a3c-2542-49f1-8a61-1978ae6653a6",
   "metadata": {},
   "source": [
    "## Булевы массивы"
   ]
  },
  {
   "cell_type": "markdown",
   "id": "b071dc5f-87b5-436a-88bc-75f961b9129e",
   "metadata": {},
   "source": [
    "Немного углубим наши воспоминания в дискретной математике. Чаще всего истинное значение рассматривалось эквивалентным 1, а ложное - 0. Этим знанием можно пользоваться, чтобы вести подсчёт элементов, удовлетворяющим определённым свойствам"
   ]
  },
  {
   "cell_type": "code",
   "execution_count": 27,
   "id": "05c948bf-71a9-4de6-8cc2-59050fdd62e5",
   "metadata": {},
   "outputs": [
    {
     "data": {
      "text/plain": [
       "array([[ 1,  2,  3],\n",
       "       [ 4,  5,  6],\n",
       "       [ 7,  8,  9],\n",
       "       [10, 11, 12]])"
      ]
     },
     "execution_count": 27,
     "metadata": {},
     "output_type": "execute_result"
    }
   ],
   "source": [
    "x = np.arange(1, 13).reshape(4, 3)\n",
    "x"
   ]
  },
  {
   "cell_type": "code",
   "execution_count": 28,
   "id": "30c1b8e0-50af-4dca-9361-0a153c40aafa",
   "metadata": {},
   "outputs": [
    {
     "data": {
      "text/plain": [
       "4"
      ]
     },
     "execution_count": 28,
     "metadata": {},
     "output_type": "execute_result"
    }
   ],
   "source": [
    "# посчитаем количество значений, меньших чем 5\n",
    "np.count_nonzero(x < 5)"
   ]
  },
  {
   "cell_type": "code",
   "execution_count": 29,
   "id": "db0bd7dc-25ce-481e-aa89-9de0f9d21987",
   "metadata": {},
   "outputs": [
    {
     "data": {
      "text/plain": [
       "4"
      ]
     },
     "execution_count": 29,
     "metadata": {},
     "output_type": "execute_result"
    }
   ],
   "source": [
    "# посчитаем количество значений, меньших чем 5, но уже через сумму\n",
    "np.sum(x < 5)"
   ]
  },
  {
   "cell_type": "code",
   "execution_count": 30,
   "id": "22805bc4-5c3e-4674-b7ba-0f465229b7c4",
   "metadata": {},
   "outputs": [
    {
     "data": {
      "text/plain": [
       "array([3, 2, 0, 0])"
      ]
     },
     "execution_count": 30,
     "metadata": {},
     "output_type": "execute_result"
    }
   ],
   "source": [
    "# если функция np.count_nonzero работает без указания измерения,\n",
    "# то np.sum может провести агрегацию вдоль указанного измерения\n",
    "# например, сколько значений меньше 6 в каждой строке\n",
    "np.sum(x < 6, axis=1)"
   ]
  },
  {
   "cell_type": "markdown",
   "id": "7b332ce0-2c7c-4789-b952-b7462c603742",
   "metadata": {},
   "source": [
    "Также порой удобно использовать функции `np.any` и `np.all` для проверки, выполняется ли заданное условие для хотя бы одного или для всех элементов соответственно"
   ]
  },
  {
   "cell_type": "code",
   "execution_count": 31,
   "id": "3e4aa55d-bedc-4888-a9a4-b249eb08a6d9",
   "metadata": {},
   "outputs": [
    {
     "data": {
      "text/plain": [
       "True"
      ]
     },
     "execution_count": 31,
     "metadata": {},
     "output_type": "execute_result"
    }
   ],
   "source": [
    "# есть ли хотя бы одно число, большее 8\n",
    "np.any(x > 8)"
   ]
  },
  {
   "cell_type": "code",
   "execution_count": 32,
   "id": "5938ad9d-8fb0-497e-b056-684ed2f6a676",
   "metadata": {},
   "outputs": [
    {
     "data": {
      "text/plain": [
       "False"
      ]
     },
     "execution_count": 32,
     "metadata": {},
     "output_type": "execute_result"
    }
   ],
   "source": [
    "# есть ли хотя бы одно число, меньшее 0\n",
    "np.any(x < 0)"
   ]
  },
  {
   "cell_type": "code",
   "execution_count": 33,
   "id": "93002518-e977-49c4-9a72-30658ee8cfd4",
   "metadata": {},
   "outputs": [
    {
     "data": {
      "text/plain": [
       "True"
      ]
     },
     "execution_count": 33,
     "metadata": {},
     "output_type": "execute_result"
    }
   ],
   "source": [
    "# все ли значения в массиве меньше 100\n",
    "np.all(x < 100)"
   ]
  },
  {
   "cell_type": "code",
   "execution_count": 34,
   "id": "dbbb70d3-1225-4c90-b33d-f012a8e30578",
   "metadata": {},
   "outputs": [
    {
     "data": {
      "text/plain": [
       "False"
      ]
     },
     "execution_count": 34,
     "metadata": {},
     "output_type": "execute_result"
    }
   ],
   "source": [
    "# все ли значения в массиве больше 3\n",
    "np.all(x > 3)"
   ]
  },
  {
   "cell_type": "markdown",
   "id": "e388a124-40ec-424b-84fd-80fc1dc1b30d",
   "metadata": {},
   "source": [
    "Обратите внимание, что аналогично `np.sum` функции `np.any` и `np.all` могут быть применены к объектам выбранного измерения"
   ]
  },
  {
   "cell_type": "markdown",
   "id": "7762d273-d7b0-4f7f-91d5-d88340d1434a",
   "metadata": {},
   "source": [
    "## Использование булевых массивов в качестве масок"
   ]
  },
  {
   "cell_type": "markdown",
   "id": "29866ee8-183d-4ae6-b6fd-bf308aa2c7bb",
   "metadata": {},
   "source": [
    "И в заключение этой части очень важный трюк. В NumPy у нас есть не только возможность проверять каждый элемент на соответствие определённому условию, но и выбирать эти элементы для последующей обработки"
   ]
  },
  {
   "cell_type": "code",
   "execution_count": 6,
   "id": "2b5a1362-8cb0-471a-b2f9-ccf43ef6e744",
   "metadata": {},
   "outputs": [
    {
     "data": {
      "text/plain": [
       "array([[ 1,  2,  3],\n",
       "       [ 4,  5,  6],\n",
       "       [ 7,  8,  9],\n",
       "       [10, 11, 12]])"
      ]
     },
     "execution_count": 6,
     "metadata": {},
     "output_type": "execute_result"
    }
   ],
   "source": [
    "x = np.arange(1, 13).reshape(4, 3)\n",
    "x"
   ]
  },
  {
   "cell_type": "code",
   "execution_count": 7,
   "id": "d9e5c625-82a6-47e5-b687-5a62fdc6dbb1",
   "metadata": {},
   "outputs": [
    {
     "data": {
      "text/plain": [
       "array([[ True,  True,  True],\n",
       "       [ True, False, False],\n",
       "       [False, False, False],\n",
       "       [False,  True,  True]])"
      ]
     },
     "execution_count": 7,
     "metadata": {},
     "output_type": "execute_result"
    }
   ],
   "source": [
    "# запишем в маску результат проверки (x < 5) | (x > 10)\n",
    "mask = (x < 5) | (x > 10)\n",
    "mask"
   ]
  },
  {
   "cell_type": "code",
   "execution_count": 8,
   "id": "4713d079-c8d7-4293-a84a-841104f3680c",
   "metadata": {},
   "outputs": [
    {
     "data": {
      "text/plain": [
       "array([ 1,  2,  3,  4, 11, 12])"
      ]
     },
     "execution_count": 8,
     "metadata": {},
     "output_type": "execute_result"
    }
   ],
   "source": [
    "# выберем элементы, которые удовлетворяют этому условию,\n",
    "# т.е. мы выбрали все числа, которые меньше 5 или больше 10\n",
    "x[mask]"
   ]
  },
  {
   "cell_type": "markdown",
   "id": "934f30bf-7bfe-4f2c-8a64-d751bc39e5c2",
   "metadata": {},
   "source": [
    "Таким образом, комбинируя разные условия можно создавать специализирванные подвыборки из массивов"
   ]
  }
 ],
 "metadata": {
  "kernelspec": {
   "display_name": "Python 3 (ipykernel)",
   "language": "python",
   "name": "python3"
  },
  "language_info": {
   "codemirror_mode": {
    "name": "ipython",
    "version": 3
   },
   "file_extension": ".py",
   "mimetype": "text/x-python",
   "name": "python",
   "nbconvert_exporter": "python",
   "pygments_lexer": "ipython3",
   "version": "3.11.5"
  }
 },
 "nbformat": 4,
 "nbformat_minor": 5
}
