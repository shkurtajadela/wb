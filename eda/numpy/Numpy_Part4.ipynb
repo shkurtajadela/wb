{
 "cells": [
  {
   "cell_type": "code",
   "execution_count": 1,
   "id": "07c4645e-7a3c-4f93-bc79-a69b3960f6b9",
   "metadata": {},
   "outputs": [
    {
     "data": {
      "text/plain": [
       "'1.23.5'"
      ]
     },
     "execution_count": 1,
     "metadata": {},
     "output_type": "execute_result"
    }
   ],
   "source": [
    "import numpy as np\n",
    "np.__version__"
   ]
  },
  {
   "cell_type": "markdown",
   "id": "d11afa67-2a04-4fa3-8c5f-fc128a8085d8",
   "metadata": {},
   "source": [
    "# Часть 4. Операции над массивами и Broadcasting"
   ]
  },
  {
   "cell_type": "markdown",
   "id": "e4262355-46ae-4e97-9ecb-c9da8e69baf0",
   "metadata": {},
   "source": [
    "## Что такое Broadcasting"
   ]
  },
  {
   "cell_type": "markdown",
   "id": "5b73d55e-bd46-4f15-88a2-388280839ab3",
   "metadata": {},
   "source": [
    "Ранее мы применяли различные универсальные функции к объектам одной размерности (в случае с бинарными операциями), однако на этом их возможности не заканчиваются. Формально broadcast'ингом называется набор процедур, которые позволяет применять UFuncs для массивов различного размера. Посмотрим на практике, как это работает"
   ]
  },
  {
   "cell_type": "code",
   "execution_count": 9,
   "id": "e5b0129a-3400-4009-afaa-617d718f7e03",
   "metadata": {},
   "outputs": [
    {
     "name": "stdout",
     "output_type": "stream",
     "text": [
      "x + y =  [ 6 -1 -4]\n"
     ]
    }
   ],
   "source": [
    "# освежим немного память\n",
    "# массивы одной размерности\n",
    "x = np.array([1, 2, 3])\n",
    "y = np.array([5, -3, -7])\n",
    "\n",
    "print(\"x + y = \", x + y)"
   ]
  },
  {
   "cell_type": "code",
   "execution_count": 10,
   "id": "4e1b11f3-6e2b-4a30-b009-cc451dc4db07",
   "metadata": {},
   "outputs": [
    {
     "name": "stdout",
     "output_type": "stream",
     "text": [
      "x + 7 =  [ 8  9 10]\n"
     ]
    }
   ],
   "source": [
    "# а теперь вернёмся к примеру, который уже был ранее,\n",
    "# но на него не обратили внимание: добавим к массиву скаляр\n",
    "# (очевидно, что их размеры не совпадают)\n",
    "print(\"x + 7 = \", x + 7)"
   ]
  },
  {
   "cell_type": "code",
   "execution_count": 11,
   "id": "699e1d99-85ba-4d15-9f35-98a6aa849aea",
   "metadata": {},
   "outputs": [
    {
     "name": "stdout",
     "output_type": "stream",
     "text": [
      "x + [7 7 7] =  [ 8  9 10]\n"
     ]
    }
   ],
   "source": [
    "# фактически эта операция эквивалентна следующей\n",
    "print(\"x + [7 7 7] = \", x + np.array([7, 7, 7]))"
   ]
  },
  {
   "cell_type": "markdown",
   "id": "50492e0f-151b-46fb-a37e-8508934d4400",
   "metadata": {},
   "source": [
    "В этом и заключается вся \"магия\" broadcasting'а: NumPy под капотом без явной дупликации (для оптимизации расхода памяти) \"растягивает\" скаляр до нужных размеров, чтобы сделать операции совместными. Конечно, broadcasting не всегда можно применить (об этом правилах приведения размеров поговорим позже), а пока давайте посмотрим на ещё пару примеров"
   ]
  },
  {
   "cell_type": "code",
   "execution_count": 12,
   "id": "fd0928cc-cd41-4408-8a7b-574fde2f18c4",
   "metadata": {},
   "outputs": [
    {
     "data": {
      "text/plain": [
       "array([[1, 1, 1],\n",
       "       [1, 1, 1],\n",
       "       [1, 1, 1]])"
      ]
     },
     "execution_count": 12,
     "metadata": {},
     "output_type": "execute_result"
    }
   ],
   "source": [
    "m = np.ones((3, 3), dtype=int)\n",
    "m"
   ]
  },
  {
   "cell_type": "code",
   "execution_count": 13,
   "id": "6a672684-b1bc-42c2-ab3d-1b50438dd7a8",
   "metadata": {},
   "outputs": [
    {
     "data": {
      "text/plain": [
       "array([[2, 3, 4],\n",
       "       [2, 3, 4],\n",
       "       [2, 3, 4]])"
      ]
     },
     "execution_count": 13,
     "metadata": {},
     "output_type": "execute_result"
    }
   ],
   "source": [
    "# приведение одномерного массива к двумерному\n",
    "m + x"
   ]
  },
  {
   "cell_type": "code",
   "execution_count": 14,
   "id": "9732ff3b-1012-4ad1-a23d-b0ad61346a00",
   "metadata": {},
   "outputs": [
    {
     "data": {
      "text/plain": [
       "array([[ 2],\n",
       "       [-4],\n",
       "       [ 1]])"
      ]
     },
     "execution_count": 14,
     "metadata": {},
     "output_type": "execute_result"
    }
   ],
   "source": [
    "z = np.array([2, -4, 1]).reshape(3, 1)\n",
    "z"
   ]
  },
  {
   "cell_type": "code",
   "execution_count": 15,
   "id": "a7cdcf25-0891-4e62-92a2-12a08c9bb84e",
   "metadata": {},
   "outputs": [
    {
     "data": {
      "text/plain": [
       "array([[ 3,  4,  5],\n",
       "       [-3, -2, -1],\n",
       "       [ 2,  3,  4]])"
      ]
     },
     "execution_count": 15,
     "metadata": {},
     "output_type": "execute_result"
    }
   ],
   "source": [
    "# сложим строчку со столбцом (да, возможно даже такое)\n",
    "x + z"
   ]
  },
  {
   "cell_type": "markdown",
   "id": "0d485ec2-efd2-4a0c-9a75-698d7b90234c",
   "metadata": {},
   "source": [
    "## Правила приведения размеров массивов"
   ]
  },
  {
   "cell_type": "markdown",
   "id": "789e8029-08e6-4c7e-add0-b36cbc32e52c",
   "metadata": {},
   "source": [
    "Как было скзаано ранее, broadcasting - это не панацея. Есть определённые правила и ограничения, которые нужно деражть в голове, чтобу получить тот результат, который соответствует цели и ожиданиям.\n",
    "\n",
    "1) Если два массива отличаются по количеству измерений, то форма массива с меньшим количеством измерений дополняется единицами с ведущей (левой) стороны\n",
    "2) Если форма двух массивов не совпадает в каком-либо измерении, то массив с формой, равной 1 в этом измерении, растягивается до соответствия другой форме\n",
    "3) Если в каком-либо измерении размеры не совпадают и ни один из них не равен 1, то выдается ошибка\n",
    "\n",
    "Применяя описанные выше правила, размеры массивов либо будут приведены к форме, допускающей проведение опреации, либо выдастся сообщение о соответствующей ошибке"
   ]
  },
  {
   "cell_type": "markdown",
   "id": "2bdf31cd-e937-4eb0-a1d4-ca9d81476b4b",
   "metadata": {},
   "source": [
    "## Примеры работы"
   ]
  },
  {
   "cell_type": "markdown",
   "id": "9a562a1d-6bdd-435d-b7b1-6ec3154136f9",
   "metadata": {},
   "source": [
    "### Пример 1"
   ]
  },
  {
   "cell_type": "code",
   "execution_count": 16,
   "id": "2031d9da-cf4f-4d25-915b-d66399ee16c9",
   "metadata": {},
   "outputs": [
    {
     "name": "stdout",
     "output_type": "stream",
     "text": [
      "x.shape:  (2, 3)\n",
      "y.shape:  (3,)\n"
     ]
    }
   ],
   "source": [
    "x = np.ones((2, 3), dtype=int)\n",
    "y = np.arange(3, dtype=int)\n",
    "\n",
    "print(\"x.shape: \", x.shape)\n",
    "print(\"y.shape: \", y.shape)"
   ]
  },
  {
   "cell_type": "markdown",
   "id": "eb714456-0e42-47c0-8806-b4d9dfbe348f",
   "metadata": {},
   "source": [
    "Что будет происходить? Рассмотрим по порядку:\n",
    "\n",
    "1) размеры массивов не совпадают => согласно правилу (1) размер массив с меньшим количеством измерений дополняется единицами слева, т.е. `y.shape => (1, 3)`\n",
    "2) согласно правилу (2) мы растягиваем размер первого массива вдоль несогласованного измерения, т.е. `y.shape => (2, 3)`"
   ]
  },
  {
   "cell_type": "code",
   "execution_count": 17,
   "id": "81c6ab51-bccc-43b6-91ab-83d4f6d372eb",
   "metadata": {},
   "outputs": [
    {
     "data": {
      "text/plain": [
       "array([[1, 2, 3],\n",
       "       [1, 2, 3]])"
      ]
     },
     "execution_count": 17,
     "metadata": {},
     "output_type": "execute_result"
    }
   ],
   "source": [
    " # финально\n",
    "x + y"
   ]
  },
  {
   "cell_type": "markdown",
   "id": "0713ad40-2d14-4588-b18d-a127d1682730",
   "metadata": {},
   "source": [
    "### Пример 2"
   ]
  },
  {
   "cell_type": "code",
   "execution_count": 18,
   "id": "c83336e0-8cf3-4b80-bbde-b1467edc63b9",
   "metadata": {},
   "outputs": [
    {
     "name": "stdout",
     "output_type": "stream",
     "text": [
      "x.shape:  (3, 1)\n",
      "y.shape:  (3,)\n"
     ]
    }
   ],
   "source": [
    "x = np.arange(3, dtype=int).reshape((3, 1))\n",
    "y = np.arange(3, dtype=int)\n",
    "\n",
    "print(\"x.shape: \", x.shape)\n",
    "print(\"y.shape: \", y.shape)"
   ]
  },
  {
   "cell_type": "markdown",
   "id": "0696dc5a-9ab2-4400-a042-6c412dff8d1c",
   "metadata": {},
   "source": [
    "Вновь обратимся к правилам:\n",
    "\n",
    "1) согласно правилу (1) размер массив с меньшим количеством измерений дополняется единицами слева, т.е. `y.shape => (1, 3)`\n",
    "2) согласно правилу (2) ОБА массива растягиваются вдоль тех измерений, где есть различия, т.е. `x.shape => (3, 3)` и `y.shape => (3, 3)`"
   ]
  },
  {
   "cell_type": "code",
   "execution_count": 19,
   "id": "515a6ec3-7dc4-40e8-9f3a-a3be2ff6c0d8",
   "metadata": {},
   "outputs": [
    {
     "data": {
      "text/plain": [
       "array([[0, 1, 2],\n",
       "       [1, 2, 3],\n",
       "       [2, 3, 4]])"
      ]
     },
     "execution_count": 19,
     "metadata": {},
     "output_type": "execute_result"
    }
   ],
   "source": [
    " # финально\n",
    "x + y"
   ]
  },
  {
   "cell_type": "markdown",
   "id": "9b128f83-bf05-44f3-a6df-6519c3630b47",
   "metadata": {},
   "source": [
    "### Пример 3"
   ]
  },
  {
   "cell_type": "code",
   "execution_count": 20,
   "id": "d360faac-f16b-4b6f-8fd9-74fd77f09de3",
   "metadata": {},
   "outputs": [
    {
     "name": "stdout",
     "output_type": "stream",
     "text": [
      "x.shape:  (3, 2)\n",
      "y.shape:  (3,)\n"
     ]
    }
   ],
   "source": [
    "x = np.ones((3, 2), dtype=int)\n",
    "y = np.arange(3)\n",
    "\n",
    "print(\"x.shape: \", x.shape)\n",
    "print(\"y.shape: \", y.shape)"
   ]
  },
  {
   "cell_type": "markdown",
   "id": "2ce96e8b-94dd-4683-ae45-c24d1b75f69c",
   "metadata": {},
   "source": [
    "Смотрим в очередной раз:\n",
    "\n",
    "1) согласно правилу (1) размер массив с меньшим количеством измерений дополняется единицами слева, т.е. `y.shape => (1, 3)`\n",
    "2) согласно правилу (2) массив `y` растягивается вдоль тех измерений, где есть различия, т.е. `y.shape => (3, 3)`\n",
    "\n",
    "На выходе получаем `x.shape = (3, 2)` и `y.shape => (3, 3)`, что даёт нам невозможность провести broadcasting по правилу (3)"
   ]
  },
  {
   "cell_type": "code",
   "execution_count": 21,
   "id": "97197591-7b5e-43ac-bb7d-49dba61fa9e7",
   "metadata": {},
   "outputs": [
    {
     "name": "stdout",
     "output_type": "stream",
     "text": [
      "ERROR:\n",
      " operands could not be broadcast together with shapes (3,2) (3,) \n"
     ]
    }
   ],
   "source": [
    "try:\n",
    "    x + y\n",
    "except Exception as e:\n",
    "    print(\"ERROR:\\n\", e)"
   ]
  }
 ],
 "metadata": {
  "kernelspec": {
   "display_name": "Python 3 (ipykernel)",
   "language": "python",
   "name": "python3"
  },
  "language_info": {
   "codemirror_mode": {
    "name": "ipython",
    "version": 3
   },
   "file_extension": ".py",
   "mimetype": "text/x-python",
   "name": "python",
   "nbconvert_exporter": "python",
   "pygments_lexer": "ipython3",
   "version": "3.11.5"
  }
 },
 "nbformat": 4,
 "nbformat_minor": 5
}
