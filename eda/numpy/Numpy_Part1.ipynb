{
 "cells": [
  {
   "cell_type": "markdown",
   "id": "c1af6086-46ea-4fec-bb9f-c98f8ed5cdce",
   "metadata": {
    "id": "c1af6086-46ea-4fec-bb9f-c98f8ed5cdce"
   },
   "source": [
    "# Часть 1. Массивы"
   ]
  },
  {
   "cell_type": "markdown",
   "id": "79f2f564-ba02-4c10-aa56-35364c3ee786",
   "metadata": {
    "id": "79f2f564-ba02-4c10-aa56-35364c3ee786"
   },
   "source": [
    "## 1.1. Устройство данных в Python"
   ]
  },
  {
   "cell_type": "markdown",
   "id": "e531d433-bc26-40d7-b33c-e2f241b9dc37",
   "metadata": {
    "id": "e531d433-bc26-40d7-b33c-e2f241b9dc37"
   },
   "source": [
    "На первый взгляд может показаться, что незачем разбираться с тем, что у Python под капотом. Действительно: большое количество умных людей придумало классные библиотеки, которыми просто стоит пользоваться, и проблем не будет. Однако в долгой перспективе такой подход крайне не выгоден, потому что не позволяет максимально эффективно использовать имеющиеся в распоряжении специалиста инструменты и мощности. В работе с реальными данными эта неэффективность начнёт проявляться раньше: как только от синтетических примеров вы перейдёте к настоящим рабочим задачам."
   ]
  },
  {
   "cell_type": "markdown",
   "id": "2ef2dcf2-8b95-4763-a6db-eafa49e1fd9e",
   "metadata": {
    "id": "2ef2dcf2-8b95-4763-a6db-eafa49e1fd9e"
   },
   "source": [
    "Итак, что мы знаем о Python? Прежде всего это язык с динамической типизацией, т.е. в отличие от C или Java, где нужно явно определить тип переменной, в Python это не требуется.\n",
    "\n",
    "Для сравнения:\n",
    "```c\n",
    "// C code\n",
    "int result = 0;\n",
    "for(int i=0; i<100; i++) {\n",
    "  result += i;\n",
    "}\n",
    "```\n",
    "и\n",
    "```python\n",
    "# Python code\n",
    "result = 0\n",
    "for i in range(100):\n",
    "  result += i\n",
    "```"
   ]
  },
  {
   "cell_type": "markdown",
   "id": "2aa4ec1e-65ee-4e59-ac38-b149850c0993",
   "metadata": {
    "id": "2aa4ec1e-65ee-4e59-ac38-b149850c0993"
   },
   "source": [
    "Мы видим, что в случае с Python нам не требовалось явно указывать тип переменной `result` - интерпретатор самостоятельно вывел нужный для работы тип. Это, кстати, позволяет \"на лету\" записывать в переменную значения разных типов:"
   ]
  },
  {
   "cell_type": "code",
   "execution_count": 1,
   "id": "4238daaa-3cc6-4ae0-a2cd-dfe49776bcdd",
   "metadata": {
    "id": "4238daaa-3cc6-4ae0-a2cd-dfe49776bcdd",
    "outputId": "dcfdcee0-cedc-4e25-befb-0116e409deb1"
   },
   "outputs": [
    {
     "name": "stdout",
     "output_type": "stream",
     "text": [
      "123 <class 'int'> \n",
      "\n",
      "0.2 <class 'float'> \n",
      "\n",
      "(-0-1j) <class 'complex'> \n",
      "\n",
      "Hello, Wildberries! <class 'str'> \n",
      "\n"
     ]
    }
   ],
   "source": [
    "x = 123\n",
    "print(x, type(x), \"\\n\")\n",
    "\n",
    "x = 0.2\n",
    "print(x, type(x), \"\\n\")\n",
    "\n",
    "x = -1j # i ^ 2 = -1\n",
    "print(x, type(x), \"\\n\")\n",
    "\n",
    "x = \"Hello, Wildberries!\"\n",
    "print(x, type(x), \"\\n\")"
   ]
  },
  {
   "cell_type": "markdown",
   "id": "60b9ab81-b25f-49e5-a53f-5bfb7d78eeea",
   "metadata": {
    "id": "60b9ab81-b25f-49e5-a53f-5bfb7d78eeea"
   },
   "source": [
    "Здесь возникает вполне логичный вопрос: а как у Python получается в таком случае реализовывать концепцию динамической типизации? Особенно интересным этот вопрос становится, если принять во внимание, что стандартная реализация Python написана как раз-таки на языке C."
   ]
  },
  {
   "cell_type": "markdown",
   "id": "d7134aff-f538-4f81-9694-7fb998276b03",
   "metadata": {
    "id": "d7134aff-f538-4f81-9694-7fb998276b03"
   },
   "source": [
    "Фокус в том, что каждый раз, когда вы пишете нечто вроде такого:\n",
    "```python\n",
    "x = 17\n",
    "```\n",
    "то `x` на самом деле не становится чистым integer'ом. Если говорить формально, то на самом деле это указатель на структуру более сложного вида (например, в версии Python 3.4):\n",
    "```c\n",
    "struct _longobject {\n",
    " long ob_refcnt;\n",
    " PyTypeObject *ob_type;\n",
    " size_t ob_size;\n",
    " long ob_digit[1];\n",
    "};\n",
    "```"
   ]
  },
  {
   "cell_type": "markdown",
   "id": "c8509611-d7ff-4b19-ad48-3fc40afe5504",
   "metadata": {
    "id": "c8509611-d7ff-4b19-ad48-3fc40afe5504"
   },
   "source": [
    "Усложнение структуры хранения с одной стороны делает механизм более гибким, но с другой добавляет накладные расходы на работу."
   ]
  },
  {
   "cell_type": "markdown",
   "id": "4e9dde4f-0938-4cdf-ba19-3380fc29bc34",
   "metadata": {
    "id": "4e9dde4f-0938-4cdf-ba19-3380fc29bc34"
   },
   "source": [
    "А теперь представим, что вы хотите поработать с каким-то списком в Python. Посмотрим, какие возможности в этом случае есть:"
   ]
  },
  {
   "cell_type": "code",
   "execution_count": 2,
   "id": "6a10087b-d8db-4148-b271-8c1848d670e9",
   "metadata": {
    "id": "6a10087b-d8db-4148-b271-8c1848d670e9",
    "outputId": "41087876-5a6d-4434-cf4a-438478f2ef86"
   },
   "outputs": [
    {
     "data": {
      "text/plain": [
       "([0, 1, 2, 3, 4, 5, 6, 7, 8, 9],\n",
       " [int, int, int, int, int, int, int, int, int, int])"
      ]
     },
     "execution_count": 2,
     "metadata": {},
     "output_type": "execute_result"
    }
   ],
   "source": [
    "L = list(range(10))\n",
    "\n",
    "L, [type(_) for _ in L]"
   ]
  },
  {
   "cell_type": "markdown",
   "id": "21d1de30-8f75-42bb-9b03-71baeb624329",
   "metadata": {
    "id": "21d1de30-8f75-42bb-9b03-71baeb624329"
   },
   "source": [
    "Видно, что это список, где каждый из элементов является целым числом. Однако из-за динамической типизации в Python допустим и такой код:"
   ]
  },
  {
   "cell_type": "code",
   "execution_count": 3,
   "id": "37b5667e-3d25-4636-9243-30c43aaa65a7",
   "metadata": {
    "id": "37b5667e-3d25-4636-9243-30c43aaa65a7",
    "outputId": "a1716f8b-9ed5-434c-96e3-620be594c1b0"
   },
   "outputs": [
    {
     "data": {
      "text/plain": [
       "([1, 'WB', 0.2, (-0-3j)], [int, str, float, complex])"
      ]
     },
     "execution_count": 3,
     "metadata": {},
     "output_type": "execute_result"
    }
   ],
   "source": [
    "L_dynamic = [1, \"WB\", 0.2, -3j]\n",
    "\n",
    "L_dynamic, [type(_) for _ in L_dynamic]"
   ]
  },
  {
   "cell_type": "markdown",
   "id": "91f632a0-6ed8-4c9b-9a55-45720b6bbbe7",
   "metadata": {
    "id": "91f632a0-6ed8-4c9b-9a55-45720b6bbbe7"
   },
   "source": [
    "Как видим, в Python достаточно легко создать список, где каждый объект может быть свого типа. Однако обработка такого списка будет производиться за бóльшее время, в силу накладных расходов, которые есть у каждого элемента.\n",
    "\n",
    "Именно поэтому и возникла потребность в использовании вычислительно более эффективных структур."
   ]
  },
  {
   "cell_type": "markdown",
   "id": "3934a154-e3d5-4132-afa4-16956a1c49fc",
   "metadata": {
    "id": "3934a154-e3d5-4132-afa4-16956a1c49fc"
   },
   "source": [
    "В Python есть встроенный механизм работы с однородными данными - библиотека `array`:"
   ]
  },
  {
   "cell_type": "code",
   "execution_count": 4,
   "id": "c747f80b-631a-4125-91a0-3918dad0fd3c",
   "metadata": {
    "id": "c747f80b-631a-4125-91a0-3918dad0fd3c",
    "outputId": "3b837c1a-6c74-4124-e092-e6de119b33bf"
   },
   "outputs": [
    {
     "data": {
      "text/plain": [
       "array('i', [1, 2, 3, 4, 5])"
      ]
     },
     "execution_count": 4,
     "metadata": {},
     "output_type": "execute_result"
    }
   ],
   "source": [
    "from array import array\n",
    "\n",
    "A = array(\"i\", [1, 2, 3, 4, 5]) # i is for Integer\n",
    "A"
   ]
  },
  {
   "cell_type": "markdown",
   "id": "d9e2ffc1-6f3c-4db8-b3ee-ac75fa658edb",
   "metadata": {
    "id": "d9e2ffc1-6f3c-4db8-b3ee-ac75fa658edb"
   },
   "source": [
    "Если попытаться нарушить однородность, добавив элемент другого типа, то выдастся ошибка:"
   ]
  },
  {
   "cell_type": "code",
   "execution_count": 5,
   "id": "c63de1e9-2055-4455-a40a-bcc7816aea0a",
   "metadata": {
    "id": "c63de1e9-2055-4455-a40a-bcc7816aea0a",
    "outputId": "f49a011c-125b-41ad-9041-7291ecbb082f"
   },
   "outputs": [
    {
     "name": "stdout",
     "output_type": "stream",
     "text": [
      "ERROR:\n",
      " 'str' object cannot be interpreted as an integer\n"
     ]
    }
   ],
   "source": [
    "try:\n",
    "    array(\"i\", [1, 2, 3, 4, \"5\"])\n",
    "except Exception as e:\n",
    "    print(\"ERROR:\\n\", e)"
   ]
  },
  {
   "cell_type": "markdown",
   "id": "69e2fca7-d414-4fc3-8eb6-d07f50550ef6",
   "metadata": {
    "id": "69e2fca7-d414-4fc3-8eb6-d07f50550ef6"
   },
   "source": [
    "Данная библиотека хорошо подходит для хранения массивов, однако в анализе данных этого недостаточно - нужен мощный инструмент для обработки данных, чем и является NumPy."
   ]
  },
  {
   "cell_type": "markdown",
   "id": "536a71cd-24a6-4252-9fbe-11d1ecb3b83b",
   "metadata": {
    "id": "536a71cd-24a6-4252-9fbe-11d1ecb3b83b"
   },
   "source": [
    "## 1.2. Начало работы в NumPy"
   ]
  },
  {
   "cell_type": "code",
   "execution_count": 6,
   "id": "a6c0301b-57c3-47af-aa06-18325c83f3c0",
   "metadata": {
    "id": "a6c0301b-57c3-47af-aa06-18325c83f3c0",
    "outputId": "99c973ce-2ecf-4746-d863-ba31c2e6cd92"
   },
   "outputs": [
    {
     "data": {
      "text/plain": [
       "'1.23.5'"
      ]
     },
     "execution_count": 6,
     "metadata": {},
     "output_type": "execute_result"
    }
   ],
   "source": [
    "import numpy as np\n",
    "np.__version__"
   ]
  },
  {
   "cell_type": "markdown",
   "id": "834df486-c71f-461c-abd0-28c40f060b46",
   "metadata": {
    "id": "834df486-c71f-461c-abd0-28c40f060b46"
   },
   "source": [
    "Механизм создания списков с помощью NumPy аналогичен тому, что мы видели при использовании библиотеки `array` (за исключением того, что не нужно явно указывать тип - NumPy сделает это самостоятельно и принудительно, если вдруг объекты будут отличаться)."
   ]
  },
  {
   "cell_type": "code",
   "execution_count": 7,
   "id": "d3ddbb36-e476-4d3c-903a-d35cf5cd8390",
   "metadata": {
    "id": "d3ddbb36-e476-4d3c-903a-d35cf5cd8390",
    "outputId": "6fa888ff-f300-45cc-db15-c24c0b8fe709"
   },
   "outputs": [
    {
     "data": {
      "text/plain": [
       "array([1, 2, 3])"
      ]
     },
     "execution_count": 7,
     "metadata": {},
     "output_type": "execute_result"
    }
   ],
   "source": [
    "# создание массива из списка однородных элементов\n",
    "np.array([1, 2, 3])"
   ]
  },
  {
   "cell_type": "code",
   "execution_count": 8,
   "id": "858dc54e-4249-4ec8-a23c-ce92968cf021",
   "metadata": {
    "id": "858dc54e-4249-4ec8-a23c-ce92968cf021",
    "outputId": "900ba4fe-21fa-4a17-a53d-18a1d44af41f"
   },
   "outputs": [
    {
     "data": {
      "text/plain": [
       "array([1. , 2.5, 3. ])"
      ]
     },
     "execution_count": 8,
     "metadata": {},
     "output_type": "execute_result"
    }
   ],
   "source": [
    "# создание массива из списка элементов различных типов\n",
    "# (обратите внимание, что приведение типов производится таким образом,\n",
    "# чтобы в данных не было потерь)\n",
    "np.array([1, 2.5, 3])"
   ]
  },
  {
   "cell_type": "code",
   "execution_count": 10,
   "id": "24910dec-46f7-428e-a1f2-52a5d86e195a",
   "metadata": {
    "id": "24910dec-46f7-428e-a1f2-52a5d86e195a",
    "outputId": "29190686-2cbd-4eac-b4f0-5d5ed9b6c507"
   },
   "outputs": [
    {
     "data": {
      "text/plain": [
       "array(['1', '2', '3'], dtype='<U11')"
      ]
     },
     "execution_count": 10,
     "metadata": {},
     "output_type": "execute_result"
    }
   ],
   "source": [
    "# приведение типов работает и для на первый взгляд совсем разных объектов\n",
    "np.array([1, \"2\", 3])"
   ]
  },
  {
   "cell_type": "code",
   "execution_count": 11,
   "id": "7546c2c8-ed45-4c7e-b8a0-8b98601856a3",
   "metadata": {
    "id": "7546c2c8-ed45-4c7e-b8a0-8b98601856a3",
    "outputId": "ea749ec5-ddb7-485a-cca4-bf839c6a56e2"
   },
   "outputs": [
    {
     "data": {
      "text/plain": [
       "array([1., 2., 3.], dtype=float16)"
      ]
     },
     "execution_count": 11,
     "metadata": {},
     "output_type": "execute_result"
    }
   ],
   "source": [
    "# если есть желание явно указать целевой тип хранимых данных, то такая опция тоже есть\n",
    "np.array([1, 2, 3], dtype=\"float16\")"
   ]
  },
  {
   "cell_type": "code",
   "execution_count": 12,
   "id": "5fa182de-939a-48a9-ab99-c58e47f302a4",
   "metadata": {
    "id": "5fa182de-939a-48a9-ab99-c58e47f302a4",
    "outputId": "9f8fbff1-2ded-4ade-f268-c13069d7cec7"
   },
   "outputs": [
    {
     "data": {
      "text/plain": [
       "array([[1, 2],\n",
       "       [3, 4]])"
      ]
     },
     "execution_count": 12,
     "metadata": {},
     "output_type": "execute_result"
    }
   ],
   "source": [
    "# вложенные списки становятся многомерными массивами\n",
    "np.array([[1, 2], [3, 4]])"
   ]
  },
  {
   "cell_type": "markdown",
   "id": "2284bb0f-3ace-4a5d-85ad-3bd2dbc4df6b",
   "metadata": {
    "id": "2284bb0f-3ace-4a5d-85ad-3bd2dbc4df6b"
   },
   "source": [
    "Возможности создания массивов в NumPy не ограничиваются конвертацией из нативных списков Python. Встроенные возможности позволяют создавать массивы различных типов:"
   ]
  },
  {
   "cell_type": "code",
   "execution_count": 13,
   "id": "3ca78baf-91c2-447f-a6e0-62118d684a4a",
   "metadata": {
    "id": "3ca78baf-91c2-447f-a6e0-62118d684a4a",
    "outputId": "40464cfe-5b0c-4b8f-caa3-b17691c89dd4"
   },
   "outputs": [
    {
     "data": {
      "text/plain": [
       "array([0, 0, 0, 0, 0, 0, 0, 0, 0, 0])"
      ]
     },
     "execution_count": 13,
     "metadata": {},
     "output_type": "execute_result"
    }
   ],
   "source": [
    "# создать массив определённой формы, заполненный нулями\n",
    "np.zeros(shape=10, dtype=int)"
   ]
  },
  {
   "cell_type": "code",
   "execution_count": 14,
   "id": "4485ae8d-4528-40a8-a3b3-f7c24a131f3b",
   "metadata": {
    "id": "4485ae8d-4528-40a8-a3b3-f7c24a131f3b",
    "outputId": "48410d1e-1960-4ec0-cef9-c6d9133899a0"
   },
   "outputs": [
    {
     "data": {
      "text/plain": [
       "array([[0, 0, 0],\n",
       "       [0, 0, 0]])"
      ]
     },
     "execution_count": 14,
     "metadata": {},
     "output_type": "execute_result"
    }
   ],
   "source": [
    "# создать массив определённой формы, заполненный нулями\n",
    "np.zeros(shape=(2, 3), dtype=int)"
   ]
  },
  {
   "cell_type": "code",
   "execution_count": 15,
   "id": "27a0824e-c8b3-49d1-a435-b20b8a49d8f1",
   "metadata": {
    "id": "27a0824e-c8b3-49d1-a435-b20b8a49d8f1",
    "outputId": "0eb0da18-77bb-4548-cd9d-f88a998f34d1"
   },
   "outputs": [
    {
     "data": {
      "text/plain": [
       "array([[1., 1.],\n",
       "       [1., 1.],\n",
       "       [1., 1.]])"
      ]
     },
     "execution_count": 15,
     "metadata": {},
     "output_type": "execute_result"
    }
   ],
   "source": [
    "# аналогично, но заполнить массив единицами\n",
    "# обратите внимание, что по дефолту dtype=float\n",
    "np.ones(shape=(3, 2))"
   ]
  },
  {
   "cell_type": "code",
   "execution_count": 16,
   "id": "97c3d449-dee9-4f08-ab57-9a87f651552e",
   "metadata": {
    "id": "97c3d449-dee9-4f08-ab57-9a87f651552e",
    "outputId": "da0db214-cf58-4e00-a0e4-a63b813b261e"
   },
   "outputs": [
    {
     "data": {
      "text/plain": [
       "array([[2.71828183, 2.71828183],\n",
       "       [2.71828183, 2.71828183]])"
      ]
     },
     "execution_count": 16,
     "metadata": {},
     "output_type": "execute_result"
    }
   ],
   "source": [
    "# создание массива, где каждый элемент - заданное значение\n",
    "np.full(shape=(2, 2), fill_value=np.e)"
   ]
  },
  {
   "cell_type": "code",
   "execution_count": 17,
   "id": "e5e25d7f-5501-4e66-93d4-4e94c176ece1",
   "metadata": {
    "id": "e5e25d7f-5501-4e66-93d4-4e94c176ece1",
    "outputId": "a2f37edd-6a38-408c-c3b7-96bbf95f1e45"
   },
   "outputs": [
    {
     "data": {
      "text/plain": [
       "array([0, 3, 6, 9])"
      ]
     },
     "execution_count": 17,
     "metadata": {},
     "output_type": "execute_result"
    }
   ],
   "source": [
    "# создать массив по аналогии с функцией range\n",
    "np.arange(0, 10, 3)"
   ]
  },
  {
   "cell_type": "code",
   "execution_count": 18,
   "id": "75551b63-8a38-47ad-bc4c-d00ee0ed7986",
   "metadata": {
    "id": "75551b63-8a38-47ad-bc4c-d00ee0ed7986",
    "outputId": "fd490db7-db89-454c-8805-d2a32453f5a7"
   },
   "outputs": [
    {
     "data": {
      "text/plain": [
       "array([0. , 0.5, 1. , 1.5, 2. , 2.5, 3. , 3.5, 4. , 4.5, 5. ])"
      ]
     },
     "execution_count": 18,
     "metadata": {},
     "output_type": "execute_result"
    }
   ],
   "source": [
    "# создать массив, который заполняет заданным количеством элементов интервал\n",
    "np.linspace(0, 5, 11)"
   ]
  },
  {
   "cell_type": "code",
   "execution_count": 19,
   "id": "1972d85a-bae9-4df7-a196-a84c4a20416c",
   "metadata": {
    "id": "1972d85a-bae9-4df7-a196-a84c4a20416c",
    "outputId": "8f2cc629-3a16-40bf-afcb-0eb01c1f4cc5"
   },
   "outputs": [
    {
     "data": {
      "text/plain": [
       "array([[5.91046824e-02, 4.57267671e-01, 9.30212965e-01],\n",
       "       [3.07300293e-01, 4.70942953e-05, 2.69233833e-01],\n",
       "       [8.13849218e-01, 7.89445385e-02, 5.29227100e-01]])"
      ]
     },
     "execution_count": 19,
     "metadata": {},
     "output_type": "execute_result"
    }
   ],
   "source": [
    "# создать массив из случайных элементов\n",
    "np.random.random(size=(3, 3))"
   ]
  },
  {
   "cell_type": "markdown",
   "id": "90224e00-87dc-49f2-8005-eaef825f39f4",
   "metadata": {
    "id": "90224e00-87dc-49f2-8005-eaef825f39f4"
   },
   "source": [
    "Следует отметить, что приведённые выше функции являются лишь небольшим примером функционала, который доступен в NumPy. Есть ещё большое число функций, которые могут быть полезными в разных областях (например, с помощью `np.eye` можно создавать единичную матрицу, которая часто используется в линейной алгебре)"
   ]
  },
  {
   "cell_type": "markdown",
   "id": "cb369a65-8eb4-4b86-9fae-e7ea0e31c496",
   "metadata": {
    "id": "cb369a65-8eb4-4b86-9fae-e7ea0e31c496"
   },
   "source": [
    "## 1.3. Атрибуты массивов в NumPy"
   ]
  },
  {
   "cell_type": "markdown",
   "id": "f0d5f289-397d-4cda-a99d-008e68ee8239",
   "metadata": {
    "id": "f0d5f289-397d-4cda-a99d-008e68ee8239"
   },
   "source": [
    "Как и у любого другого объекта в Python, массивы обладают рядом отрибутов, которые могут быть полезны для работы. Опробуем основные из них:"
   ]
  },
  {
   "cell_type": "code",
   "execution_count": 20,
   "id": "692757f7-633d-4bd0-98d6-fb80570e69ff",
   "metadata": {
    "id": "692757f7-633d-4bd0-98d6-fb80570e69ff",
    "outputId": "d867a59d-f312-4091-9f20-e5f0445be33f"
   },
   "outputs": [
    {
     "data": {
      "text/plain": [
       "array([[[ 5, 10,  7,  4],\n",
       "        [10,  3,  5,  5],\n",
       "        [10,  3,  6,  6]],\n",
       "\n",
       "       [[ 4,  8, 10,  4],\n",
       "        [ 5,  1, 10,  2],\n",
       "        [10,  9,  8,  9]]])"
      ]
     },
     "execution_count": 20,
     "metadata": {},
     "output_type": "execute_result"
    }
   ],
   "source": [
    "# создадим многомерный массив, заполненный случайными целыми числами от 1 до 11 (не включая)\n",
    "target = np.random.randint(low=1, high=11, size=(2, 3, 4))\n",
    "\n",
    "target"
   ]
  },
  {
   "cell_type": "code",
   "execution_count": 21,
   "id": "3d19a4dc-3d9f-401f-9d51-4bcf15447309",
   "metadata": {
    "id": "3d19a4dc-3d9f-401f-9d51-4bcf15447309",
    "outputId": "d4cbc1c8-1f23-4861-b99a-1f8640161971"
   },
   "outputs": [
    {
     "name": "stdout",
     "output_type": "stream",
     "text": [
      "количество измерений:  3\n",
      "размерности измерений:  (2, 3, 4)\n",
      "общее количество элементов:  24\n"
     ]
    }
   ],
   "source": [
    "print(\"количество измерений: \", target.ndim)\n",
    "print(\"размерности измерений: \", target.shape)\n",
    "print(\"общее количество элементов: \", target.size)"
   ]
  },
  {
   "cell_type": "code",
   "execution_count": 22,
   "id": "c1ab7990-4f5b-4c59-a352-66303d949d09",
   "metadata": {
    "id": "c1ab7990-4f5b-4c59-a352-66303d949d09",
    "outputId": "b4adf207-66a3-422d-bb47-297ebde6bec4"
   },
   "outputs": [
    {
     "name": "stdout",
     "output_type": "stream",
     "text": [
      "тип элементов массива:  int32\n",
      "место в памяти, которое занимает один элемент (в байтах):  4\n",
      "место в памяти, которое занимает массив целиком (в байтах):  96\n"
     ]
    }
   ],
   "source": [
    "print(\"тип элементов массива: \", target.dtype)\n",
    "print(\"место в памяти, которое занимает один элемент (в байтах): \", target.itemsize)\n",
    "print(\"место в памяти, которое занимает массив целиком (в байтах): \", target.nbytes)"
   ]
  },
  {
   "cell_type": "markdown",
   "id": "869bc312-0bef-4046-80cc-92ae42ec92e6",
   "metadata": {
    "id": "869bc312-0bef-4046-80cc-92ae42ec92e6"
   },
   "source": [
    "## 1.4. Индексация массивов"
   ]
  },
  {
   "cell_type": "markdown",
   "id": "42875770-cda8-4c8c-abc0-0d7e5aff9332",
   "metadata": {
    "id": "42875770-cda8-4c8c-abc0-0d7e5aff9332"
   },
   "source": [
    "Как и в случае со списками Python при работе с массивами NumPy есть несколько основных способов обращения к элементам объекта. Одним из самых базовых является обращение к одному элементу массива. Посмотрим, как это работает в случае с одномерным массивом."
   ]
  },
  {
   "cell_type": "code",
   "execution_count": 23,
   "id": "7e3fc551-d0f2-4e25-ad1f-e417b539f2b4",
   "metadata": {
    "id": "7e3fc551-d0f2-4e25-ad1f-e417b539f2b4",
    "outputId": "11c4fe74-d3d4-4e12-9348-84986a490573"
   },
   "outputs": [
    {
     "data": {
      "text/plain": [
       "array([ 4,  3,  5, 10, 10])"
      ]
     },
     "execution_count": 23,
     "metadata": {},
     "output_type": "execute_result"
    }
   ],
   "source": [
    "x = np.random.randint(1, 11, 5)\n",
    "x"
   ]
  },
  {
   "cell_type": "markdown",
   "id": "5a244a5e-5c03-4c08-a7c1-ee8462377973",
   "metadata": {
    "id": "5a244a5e-5c03-4c08-a7c1-ee8462377973"
   },
   "source": [
    "Как и в случае с обычными списками, мы можем с помощью `[i]` обращаться к конкретному элементу (не забывайте, что индексация начинается с 0). NumPy аналогично поддерживает и отрицательное индексирование (то есть берёт элементы с конца массива)"
   ]
  },
  {
   "cell_type": "code",
   "execution_count": 24,
   "id": "9444a85f-04b0-4f52-83bb-2d9fb469b873",
   "metadata": {
    "id": "9444a85f-04b0-4f52-83bb-2d9fb469b873",
    "outputId": "c73a993a-2416-43d6-ed96-9f259806a484"
   },
   "outputs": [
    {
     "name": "stdout",
     "output_type": "stream",
     "text": [
      "1й элемент массива:  4\n",
      "3й элемент массива:  5\n",
      "Последний элемент массива:  10\n",
      "Предпоследний элемент массива:  10\n"
     ]
    }
   ],
   "source": [
    "print(\"1й элемент массива: \", x[0])\n",
    "print(\"3й элемент массива: \", x[2])\n",
    "print(\"Последний элемент массива: \", x[-1])\n",
    "print(\"Предпоследний элемент массива: \", x[-2])"
   ]
  },
  {
   "cell_type": "markdown",
   "id": "a393738d-a797-4600-ba84-6a0475b510c7",
   "metadata": {
    "id": "a393738d-a797-4600-ba84-6a0475b510c7"
   },
   "source": [
    "В случае с многомерными массивами подход сохраняется с небольшим усложнением: используется нотация `[i1, i2, ..., in]`. Не забывайте, что можно комбинировать обычное индексирование и отрицательное."
   ]
  },
  {
   "cell_type": "code",
   "execution_count": 25,
   "id": "e55c0d0e-9258-4fe8-a4a8-4b096afd3acc",
   "metadata": {
    "id": "e55c0d0e-9258-4fe8-a4a8-4b096afd3acc",
    "outputId": "be3e1791-1e0f-4d53-8c5a-008dfe851bfd"
   },
   "outputs": [
    {
     "data": {
      "text/plain": [
       "array([[9, 9, 6, 9, 5],\n",
       "       [8, 3, 4, 6, 3],\n",
       "       [7, 8, 2, 5, 6]])"
      ]
     },
     "execution_count": 25,
     "metadata": {},
     "output_type": "execute_result"
    }
   ],
   "source": [
    "x = np.random.randint(1, 11, (3, 5))\n",
    "x"
   ]
  },
  {
   "cell_type": "code",
   "execution_count": 26,
   "id": "f42e47f7-dc7b-4a80-8a23-ea8fd80e1f74",
   "metadata": {
    "id": "f42e47f7-dc7b-4a80-8a23-ea8fd80e1f74",
    "outputId": "73633008-1bbf-46cf-dd33-9fc50e78e287"
   },
   "outputs": [
    {
     "name": "stdout",
     "output_type": "stream",
     "text": [
      "Элемент из первой строки и второго столбца:  9\n",
      "Элемент из второй строки и четвёртого столбца:  6\n",
      "Элемент из первой строки и последнего столбца:  5\n",
      "Элемент из последней строки и последнего столбца:  6\n"
     ]
    }
   ],
   "source": [
    "print(\"Элемент из первой строки и второго столбца: \", x[0, 1])\n",
    "print(\"Элемент из второй строки и четвёртого столбца: \", x[1, 3])\n",
    "print(\"Элемент из первой строки и последнего столбца: \", x[0, -1])\n",
    "print(\"Элемент из последней строки и последнего столбца: \", x[-1, -1])"
   ]
  },
  {
   "cell_type": "markdown",
   "id": "d78ede1a-a2a9-4381-bb7e-bcd09ac044f8",
   "metadata": {
    "id": "d78ede1a-a2a9-4381-bb7e-bcd09ac044f8"
   },
   "source": [
    "## 1.5. Slicing массивов"
   ]
  },
  {
   "cell_type": "markdown",
   "id": "7929efb0-d155-4248-b282-979de7a2715b",
   "metadata": {
    "id": "7929efb0-d155-4248-b282-979de7a2715b"
   },
   "source": [
    "Slicing массивов NumPy работает по тому же принципу, что и с нативными списками Python (с поправкой на возможность применения на многомерные массивы), т.е. ориентируясь на нотацию `[start:stop:step]`"
   ]
  },
  {
   "cell_type": "code",
   "execution_count": 27,
   "id": "e812c261-7c34-4d2b-8615-3a43f6672a15",
   "metadata": {
    "id": "e812c261-7c34-4d2b-8615-3a43f6672a15",
    "outputId": "87c7f8a7-0496-4644-d326-fdb0460260a6"
   },
   "outputs": [
    {
     "data": {
      "text/plain": [
       "array([5, 6, 4, 7, 5, 9, 3, 6, 8, 9])"
      ]
     },
     "execution_count": 27,
     "metadata": {},
     "output_type": "execute_result"
    }
   ],
   "source": [
    "x = np.random.randint(1, 11, 10)\n",
    "x"
   ]
  },
  {
   "cell_type": "code",
   "execution_count": 28,
   "id": "bd0b5300-6d34-42eb-87c3-abe6ddc1f653",
   "metadata": {
    "id": "bd0b5300-6d34-42eb-87c3-abe6ddc1f653",
    "outputId": "6b810b27-148a-42b4-aee0-0f3c9d09a07a"
   },
   "outputs": [
    {
     "name": "stdout",
     "output_type": "stream",
     "text": [
      "Первые три элемента:  [5 6 4]\n",
      "Последние три элемента:  [6 8 9]\n",
      "Все элементы на нечётных позициях:  [5 4 5 3 8]\n",
      "Все элементы на чётных позициях:  [6 7 9 6 9]\n"
     ]
    }
   ],
   "source": [
    "print(\"Первые три элемента: \", x[:3])\n",
    "print(\"Последние три элемента: \", x[-3:])\n",
    "print(\"Все элементы на нечётных позициях: \", x[::2])\n",
    "print(\"Все элементы на чётных позициях: \", x[1::2])"
   ]
  },
  {
   "cell_type": "code",
   "execution_count": 29,
   "id": "8153fefc-79f2-4f00-a67a-67e71474dfa7",
   "metadata": {
    "id": "8153fefc-79f2-4f00-a67a-67e71474dfa7",
    "outputId": "75b7d688-300e-49aa-e98a-1304a2d9f438"
   },
   "outputs": [
    {
     "name": "stdout",
     "output_type": "stream",
     "text": [
      "Все элементы в обратном порядке:  [9 8 6 3 9 5 7 4 6 5]\n",
      "3й и 4й элементы:  [4 7]\n"
     ]
    }
   ],
   "source": [
    "print(\"Все элементы в обратном порядке: \", x[::-1])\n",
    "print(\"3й и 4й элементы: \", x[2:4])"
   ]
  },
  {
   "cell_type": "markdown",
   "id": "833ce07b-d90f-4053-8f95-7c0e0c140968",
   "metadata": {
    "id": "833ce07b-d90f-4053-8f95-7c0e0c140968"
   },
   "source": [
    "И для случая с многомерными массивами"
   ]
  },
  {
   "cell_type": "code",
   "execution_count": 30,
   "id": "d6cd98df-5fe3-41a9-a86e-4b582ca50a4e",
   "metadata": {
    "id": "d6cd98df-5fe3-41a9-a86e-4b582ca50a4e",
    "outputId": "5deca134-1a45-40a8-c0c5-7ce2aa17fbbb"
   },
   "outputs": [
    {
     "data": {
      "text/plain": [
       "array([[ 1,  7,  6,  5,  8],\n",
       "       [ 2,  1, 10, 10,  2],\n",
       "       [ 3,  3,  6,  4,  1]])"
      ]
     },
     "execution_count": 30,
     "metadata": {},
     "output_type": "execute_result"
    }
   ],
   "source": [
    "x = np.random.randint(1, 11, (3, 5))\n",
    "x"
   ]
  },
  {
   "cell_type": "code",
   "execution_count": 31,
   "id": "a901a56b-2f77-413f-9a5a-7ef1e9b0e082",
   "metadata": {
    "id": "a901a56b-2f77-413f-9a5a-7ef1e9b0e082",
    "outputId": "f4d6c044-dc95-41db-915d-ec872715ac6c"
   },
   "outputs": [
    {
     "data": {
      "text/plain": [
       "array([[ 1,  7,  6],\n",
       "       [ 2,  1, 10]])"
      ]
     },
     "execution_count": 31,
     "metadata": {},
     "output_type": "execute_result"
    }
   ],
   "source": [
    "# подмассив, ограниченный первыми двумя строками и тремя столбцами\n",
    "x[:2, :3]"
   ]
  },
  {
   "cell_type": "code",
   "execution_count": 32,
   "id": "8a890c12-cae5-426b-9bed-4989fbc62633",
   "metadata": {
    "id": "8a890c12-cae5-426b-9bed-4989fbc62633",
    "outputId": "870a874f-0694-4de0-acc3-bf99773c0225"
   },
   "outputs": [
    {
     "data": {
      "text/plain": [
       "array([[1, 6, 8],\n",
       "       [3, 6, 1]])"
      ]
     },
     "execution_count": 32,
     "metadata": {},
     "output_type": "execute_result"
    }
   ],
   "source": [
    "# подмассив, составленный из нечётных строк и столбцов\n",
    "x[::2, ::2]"
   ]
  },
  {
   "cell_type": "code",
   "execution_count": 33,
   "id": "d74786b7-63c6-4a52-8fa9-201b1c0a66f2",
   "metadata": {
    "id": "d74786b7-63c6-4a52-8fa9-201b1c0a66f2",
    "outputId": "50f942e1-3f13-474d-9794-e2153e64cf96"
   },
   "outputs": [
    {
     "data": {
      "text/plain": [
       "array([ 2,  1, 10, 10,  2])"
      ]
     },
     "execution_count": 33,
     "metadata": {},
     "output_type": "execute_result"
    }
   ],
   "source": [
    "# выбор второй строки\n",
    "x[1, :]"
   ]
  },
  {
   "cell_type": "code",
   "execution_count": 34,
   "id": "603de038-b128-4961-aff1-62ee02704f26",
   "metadata": {
    "id": "603de038-b128-4961-aff1-62ee02704f26",
    "outputId": "d28701ca-e1fe-42ea-99be-78fcb978f032"
   },
   "outputs": [
    {
     "data": {
      "text/plain": [
       "array([8, 2, 1])"
      ]
     },
     "execution_count": 34,
     "metadata": {},
     "output_type": "execute_result"
    }
   ],
   "source": [
    "# выбор последнего столбца\n",
    "x[:, -1]"
   ]
  },
  {
   "cell_type": "markdown",
   "id": "248ae2e3-d11b-4ff7-b6b4-434755d11ddd",
   "metadata": {
    "id": "248ae2e3-d11b-4ff7-b6b4-434755d11ddd"
   },
   "source": [
    "Обратите внимание, что работая со слайсами массивов вы продолжаете работать с данными, принадлежащими исходному объекту (слайсинг можно рассматривать как no-copy view). Пример кода ниже проиллюстрирует этот нюанс:"
   ]
  },
  {
   "cell_type": "code",
   "execution_count": 35,
   "id": "ed5b4140-144b-4802-895b-4f78363d0028",
   "metadata": {
    "id": "ed5b4140-144b-4802-895b-4f78363d0028",
    "outputId": "8d34378b-4f5c-4ff7-ed06-d732f4d1e197"
   },
   "outputs": [
    {
     "data": {
      "text/plain": [
       "array([[1, 0, 0],\n",
       "       [0, 1, 0],\n",
       "       [0, 0, 1]])"
      ]
     },
     "execution_count": 35,
     "metadata": {},
     "output_type": "execute_result"
    }
   ],
   "source": [
    "x = np.eye(3, dtype=int)\n",
    "x"
   ]
  },
  {
   "cell_type": "code",
   "execution_count": 36,
   "id": "251f3c58-9165-4246-9472-fe77dd925e67",
   "metadata": {
    "id": "251f3c58-9165-4246-9472-fe77dd925e67",
    "outputId": "f55c4dd9-5145-4a81-d935-fb2a981d269e"
   },
   "outputs": [
    {
     "data": {
      "text/plain": [
       "array([[0, 0],\n",
       "       [1, 0]])"
      ]
     },
     "execution_count": 36,
     "metadata": {},
     "output_type": "execute_result"
    }
   ],
   "source": [
    "# возьмём часть этого массива,\n",
    "# расположенную на пересечении первых двух строк и двух последних столбцов\n",
    "x_part = x[:2, 1:]\n",
    "x_part"
   ]
  },
  {
   "cell_type": "code",
   "execution_count": 37,
   "id": "d9d23ac9-4bfc-4800-8245-00ba77d3174c",
   "metadata": {
    "id": "d9d23ac9-4bfc-4800-8245-00ba77d3174c",
    "outputId": "a92a18e0-840c-457d-88ee-7456a781352d"
   },
   "outputs": [
    {
     "data": {
      "text/plain": [
       "array([[ 0, 17],\n",
       "       [ 1,  0]])"
      ]
     },
     "execution_count": 37,
     "metadata": {},
     "output_type": "execute_result"
    }
   ],
   "source": [
    "# и заменим в ней элемент, находящийся в первой строке и последнем столбце\n",
    "x_part[0, 1] = 17\n",
    "x_part"
   ]
  },
  {
   "cell_type": "code",
   "execution_count": 38,
   "id": "41358a00-9a82-49de-8aae-ed8b73a333db",
   "metadata": {
    "id": "41358a00-9a82-49de-8aae-ed8b73a333db",
    "outputId": "c43d612c-d07e-464c-eab2-00927b1b11bd"
   },
   "outputs": [
    {
     "data": {
      "text/plain": [
       "array([[ 1,  0, 17],\n",
       "       [ 0,  1,  0],\n",
       "       [ 0,  0,  1]])"
      ]
     },
     "execution_count": 38,
     "metadata": {},
     "output_type": "execute_result"
    }
   ],
   "source": [
    "# теперь посмотрим на исходный объект\n",
    "x"
   ]
  },
  {
   "cell_type": "markdown",
   "id": "6cdadbab-2c6e-474b-aca1-2960c92319e1",
   "metadata": {
    "id": "6cdadbab-2c6e-474b-aca1-2960c92319e1"
   },
   "source": [
    "Как видите, соответствующий элемент искомой многомерного массива также изменился. Чтобы этого избежать нужно явно создавать копию объекта:"
   ]
  },
  {
   "cell_type": "code",
   "execution_count": 39,
   "id": "b6747d37-f53b-4e24-a434-d5a17375fa7a",
   "metadata": {
    "id": "b6747d37-f53b-4e24-a434-d5a17375fa7a",
    "outputId": "85f2ce44-5b03-44a0-8a68-693cb896374f"
   },
   "outputs": [
    {
     "name": "stdout",
     "output_type": "stream",
     "text": [
      "[[1 0 0]\n",
      " [0 1 0]\n",
      " [0 0 1]]\n",
      "\n",
      "=======\n",
      "\n",
      "[[ 0 17]\n",
      " [ 1  0]]\n"
     ]
    }
   ],
   "source": [
    "x = np.eye(3, dtype=int)\n",
    "x_part = x[:2, 1:].copy() # <= вот так\n",
    "x_part[0, 1] = 17\n",
    "\n",
    "print(x)\n",
    "print(\"\\n=======\\n\")\n",
    "print(x_part)"
   ]
  },
  {
   "cell_type": "markdown",
   "id": "7eb7a9f7-47b4-4db6-b754-bb6104b9d9ec",
   "metadata": {
    "id": "7eb7a9f7-47b4-4db6-b754-bb6104b9d9ec"
   },
   "source": [
    "## 1.6. Изменение формы массива"
   ]
  },
  {
   "cell_type": "markdown",
   "id": "da8c2bb2-bf74-4a55-99e1-21637cc54bcf",
   "metadata": {
    "id": "da8c2bb2-bf74-4a55-99e1-21637cc54bcf"
   },
   "source": [
    "Одной из полезных операций является изменения размеров массива. Основным требованием в этом случае является совместность."
   ]
  },
  {
   "cell_type": "code",
   "execution_count": 40,
   "id": "43b7b5e5-1b13-43a8-9982-54719c9e3408",
   "metadata": {
    "id": "43b7b5e5-1b13-43a8-9982-54719c9e3408",
    "outputId": "aad89f31-ae42-4d64-9ef4-61066a62d153"
   },
   "outputs": [
    {
     "name": "stdout",
     "output_type": "stream",
     "text": [
      "[ 1  2  3  4  5  6  7  8  9 10 11 12 13 14 15 16]\n",
      "количество измерений:  1\n",
      "размерности измерений:  (16,)\n",
      "общее количество элементов:  16\n"
     ]
    }
   ],
   "source": [
    "x = np.arange(1, 17)\n",
    "print(x)\n",
    "print(\"количество измерений: \", x.ndim)\n",
    "print(\"размерности измерений: \", x.shape)\n",
    "print(\"общее количество элементов: \", x.size)"
   ]
  },
  {
   "cell_type": "code",
   "execution_count": 41,
   "id": "7497c577-c775-4be9-813c-887c798f77f0",
   "metadata": {
    "id": "7497c577-c775-4be9-813c-887c798f77f0",
    "outputId": "8682c914-b734-4273-cba3-1adfe1b0a4b4"
   },
   "outputs": [
    {
     "name": "stdout",
     "output_type": "stream",
     "text": [
      "[[ 1  2  3  4]\n",
      " [ 5  6  7  8]\n",
      " [ 9 10 11 12]\n",
      " [13 14 15 16]]\n",
      "количество измерений:  2\n",
      "размерности измерений:  (4, 4)\n",
      "общее количество элементов:  16\n"
     ]
    }
   ],
   "source": [
    "x = x.reshape(4, 4) # обратите внимание, что заполнение массива идёт по порядку измерений\n",
    "print(x)\n",
    "print(\"количество измерений: \", x.ndim)\n",
    "print(\"размерности измерений: \", x.shape)\n",
    "print(\"общее количество элементов: \", x.size)"
   ]
  },
  {
   "cell_type": "code",
   "execution_count": 42,
   "id": "df29b076-3cd7-4cec-bbc9-2e69aa0465f4",
   "metadata": {
    "id": "df29b076-3cd7-4cec-bbc9-2e69aa0465f4",
    "outputId": "daaae6fb-50c1-465b-a110-40f4e3d0dcae"
   },
   "outputs": [
    {
     "name": "stdout",
     "output_type": "stream",
     "text": [
      "[[[ 1  2  3  4]\n",
      "  [ 5  6  7  8]]\n",
      "\n",
      " [[ 9 10 11 12]\n",
      "  [13 14 15 16]]]\n",
      "количество измерений:  3\n",
      "размерности измерений:  (2, 2, 4)\n",
      "общее количество элементов:  16\n"
     ]
    }
   ],
   "source": [
    "x = x.reshape(2, 2, 4) # обратите внимание, что заполнение массива идёт по порядку измерений\n",
    "print(x)\n",
    "print(\"количество измерений: \", x.ndim)\n",
    "print(\"размерности измерений: \", x.shape)\n",
    "print(\"общее количество элементов: \", x.size)"
   ]
  },
  {
   "cell_type": "code",
   "execution_count": 43,
   "id": "1d82c779-6090-45e3-be81-e3e212d05cdf",
   "metadata": {
    "id": "1d82c779-6090-45e3-be81-e3e212d05cdf",
    "outputId": "51148ac8-0bde-4d93-bbc1-31b27bdefe50"
   },
   "outputs": [
    {
     "name": "stdout",
     "output_type": "stream",
     "text": [
      "[[ 1]\n",
      " [ 2]\n",
      " [ 3]\n",
      " [ 4]\n",
      " [ 5]\n",
      " [ 6]\n",
      " [ 7]\n",
      " [ 8]\n",
      " [ 9]\n",
      " [10]\n",
      " [11]\n",
      " [12]\n",
      " [13]\n",
      " [14]\n",
      " [15]\n",
      " [16]]\n",
      "количество измерений:  2\n",
      "размерности измерений:  (16, 1)\n",
      "общее количество элементов:  16\n"
     ]
    }
   ],
   "source": [
    "x = x.reshape(16, 1) # массив можно превращать в строку/столбец\n",
    "print(x)\n",
    "print(\"количество измерений: \", x.ndim)\n",
    "print(\"размерности измерений: \", x.shape)\n",
    "print(\"общее количество элементов: \", x.size)"
   ]
  },
  {
   "cell_type": "code",
   "execution_count": 44,
   "id": "a839f493-20bb-4107-a8d8-904009b96427",
   "metadata": {
    "id": "a839f493-20bb-4107-a8d8-904009b96427",
    "outputId": "b627f1bf-94a0-4ba2-a7c2-9a5dccb4874a"
   },
   "outputs": [
    {
     "name": "stdout",
     "output_type": "stream",
     "text": [
      "[ 1  2  3  4  5  6  7  8  9 10 11 12 13 14 15 16]\n",
      "количество измерений:  1\n",
      "размерности измерений:  (16,)\n",
      "общее количество элементов:  16\n"
     ]
    }
   ],
   "source": [
    "x = x.reshape(16) # и возвращать в исходное состояние\n",
    "print(x)\n",
    "print(\"количество измерений: \", x.ndim)\n",
    "print(\"размерности измерений: \", x.shape)\n",
    "print(\"общее количество элементов: \", x.size)"
   ]
  },
  {
   "cell_type": "markdown",
   "id": "9943abc8-4ebe-45ec-9da3-9cf4e67bebe2",
   "metadata": {
    "id": "9943abc8-4ebe-45ec-9da3-9cf4e67bebe2"
   },
   "source": [
    "Удобным также является функционал добавления единичных размерностей"
   ]
  },
  {
   "cell_type": "code",
   "execution_count": 45,
   "id": "7ff37bc3-c383-4e6e-942f-3a4b5f1589ea",
   "metadata": {
    "id": "7ff37bc3-c383-4e6e-942f-3a4b5f1589ea",
    "outputId": "72ecfd0d-b378-479c-c99c-8973c326dc52"
   },
   "outputs": [
    {
     "name": "stdout",
     "output_type": "stream",
     "text": [
      "[[ 1  2  3  4  5  6  7  8  9 10 11 12 13 14 15 16]]\n",
      "количество измерений:  2\n",
      "размерности измерений:  (1, 16)\n",
      "общее количество элементов:  16\n"
     ]
    }
   ],
   "source": [
    "x = x[np.newaxis, :]\n",
    "print(x)\n",
    "print(\"количество измерений: \", x.ndim)\n",
    "print(\"размерности измерений: \", x.shape)\n",
    "print(\"общее количество элементов: \", x.size)"
   ]
  },
  {
   "cell_type": "markdown",
   "id": "c1c6bad1-0afa-4ba7-bb19-8a797f47039b",
   "metadata": {
    "id": "c1c6bad1-0afa-4ba7-bb19-8a797f47039b"
   },
   "source": [
    "## 1.7. Дополнительные операции над массивами"
   ]
  },
  {
   "cell_type": "markdown",
   "id": "531e63df-af4d-4921-a45d-7fec8b7c4ee5",
   "metadata": {
    "id": "531e63df-af4d-4921-a45d-7fec8b7c4ee5"
   },
   "source": [
    "И последнее, о чём мы поговорим в этой части, - это операции конкатенации и разбиения массивов. Предположим, что у вас есть два вектора признаков, которые должны быть отправлены в ML-модель, для осуществления прогноза. В этом случае вам поможет конкатенация. И напротив: пусть имеется какой-то объединённый вывод из ансамбля моделей и вам впоследствии нужно отдельно обработать каждый из эмбеддингов. Тут уже пригодится навык разбиения массивов."
   ]
  },
  {
   "cell_type": "code",
   "execution_count": 46,
   "id": "fd1b65c6-0665-4220-b5af-0755249722ce",
   "metadata": {
    "id": "fd1b65c6-0665-4220-b5af-0755249722ce"
   },
   "outputs": [],
   "source": [
    "x = np.array([1, 2, 3])\n",
    "y = np.array([4, 5, 6])\n",
    "z = np.array([7, 8, 9, 10, 11, 12]).reshape(2, 3)"
   ]
  },
  {
   "cell_type": "code",
   "execution_count": 47,
   "id": "e8bbacc4-90d9-461f-a2be-c929c859f4d7",
   "metadata": {
    "id": "e8bbacc4-90d9-461f-a2be-c929c859f4d7",
    "outputId": "6d7071b5-dbe1-43f9-d5eb-87c48b993bd8"
   },
   "outputs": [
    {
     "data": {
      "text/plain": [
       "array([1, 2, 3])"
      ]
     },
     "execution_count": 47,
     "metadata": {},
     "output_type": "execute_result"
    }
   ],
   "source": [
    "x"
   ]
  },
  {
   "cell_type": "code",
   "execution_count": 48,
   "id": "2a85933f-9088-46d1-820f-02020af3ba7d",
   "metadata": {
    "id": "2a85933f-9088-46d1-820f-02020af3ba7d",
    "outputId": "efbbd02f-87e1-4cfa-f429-19c7bc1262b1"
   },
   "outputs": [
    {
     "data": {
      "text/plain": [
       "array([4, 5, 6])"
      ]
     },
     "execution_count": 48,
     "metadata": {},
     "output_type": "execute_result"
    }
   ],
   "source": [
    "y"
   ]
  },
  {
   "cell_type": "code",
   "execution_count": 49,
   "id": "2f3f38ca-90b3-481c-9695-3c17b7a84b74",
   "metadata": {
    "id": "2f3f38ca-90b3-481c-9695-3c17b7a84b74",
    "outputId": "477a97b0-dd85-4a40-9941-3dbd68cd73ab"
   },
   "outputs": [
    {
     "data": {
      "text/plain": [
       "array([[ 7,  8,  9],\n",
       "       [10, 11, 12]])"
      ]
     },
     "execution_count": 49,
     "metadata": {},
     "output_type": "execute_result"
    }
   ],
   "source": [
    "z"
   ]
  },
  {
   "cell_type": "code",
   "execution_count": 50,
   "id": "acc9fb57-b8c3-4e7f-aeb9-8b54238dcb12",
   "metadata": {
    "id": "acc9fb57-b8c3-4e7f-aeb9-8b54238dcb12",
    "outputId": "ecc45c39-5ebc-4838-81c3-c71cb85eec17"
   },
   "outputs": [
    {
     "data": {
      "text/plain": [
       "array([1, 2, 3, 4, 5, 6])"
      ]
     },
     "execution_count": 50,
     "metadata": {},
     "output_type": "execute_result"
    }
   ],
   "source": [
    "# конкатенация двух одномерных массивов\n",
    "np.concatenate([x, y])"
   ]
  },
  {
   "cell_type": "code",
   "execution_count": 51,
   "id": "f78beb6b-92d2-4fa2-9c52-d8f615b04650",
   "metadata": {
    "id": "f78beb6b-92d2-4fa2-9c52-d8f615b04650",
    "outputId": "d790fade-b2f9-4c9c-f7c3-f51dffc74fac"
   },
   "outputs": [
    {
     "data": {
      "text/plain": [
       "array([[ 7,  8,  9],\n",
       "       [10, 11, 12],\n",
       "       [ 7,  8,  9],\n",
       "       [10, 11, 12]])"
      ]
     },
     "execution_count": 51,
     "metadata": {},
     "output_type": "execute_result"
    }
   ],
   "source": [
    "# конкатенация двух многомерных массивов\n",
    "# (обратите внимание, что по умолчанию конкатенация идёт по первому измерению)\n",
    "np.concatenate([z, z])"
   ]
  },
  {
   "cell_type": "code",
   "execution_count": 52,
   "id": "c6cae5a0-34d5-4335-b236-fa72a2336efb",
   "metadata": {
    "id": "c6cae5a0-34d5-4335-b236-fa72a2336efb",
    "outputId": "64eeebd5-1de9-496d-9ca6-61a132a8f9de"
   },
   "outputs": [
    {
     "data": {
      "text/plain": [
       "array([[ 7,  8,  9,  7,  8,  9],\n",
       "       [10, 11, 12, 10, 11, 12]])"
      ]
     },
     "execution_count": 52,
     "metadata": {},
     "output_type": "execute_result"
    }
   ],
   "source": [
    "# конкатенация двух многомерных массивов\n",
    "# (по произвольному измерению)\n",
    "np.concatenate([z, z], axis=1)"
   ]
  },
  {
   "cell_type": "code",
   "execution_count": 53,
   "id": "ccef2799-0c1f-4585-b824-8976e53d9267",
   "metadata": {
    "id": "ccef2799-0c1f-4585-b824-8976e53d9267",
    "outputId": "b9620572-d205-40a4-d6df-5203a0eb7f2f"
   },
   "outputs": [
    {
     "name": "stdout",
     "output_type": "stream",
     "text": [
      "Horizontal stack:\n",
      " [[ 7  8  9  7  8  9]\n",
      " [10 11 12 10 11 12]]\n",
      "\n",
      "\n",
      "Vertical stack:\n",
      " [[ 7  8  9]\n",
      " [10 11 12]\n",
      " [ 7  8  9]\n",
      " [10 11 12]]\n"
     ]
    }
   ],
   "source": [
    "# для удобства есть функции np.hstack и np.vstack\n",
    "# (от слова horizontal и vertical соответсвенно)\n",
    "print(\"Horizontal stack:\\n\", np.hstack([z, z]))\n",
    "print(\"\\n\")\n",
    "print(\"Vertical stack:\\n\", np.vstack([z, z]))"
   ]
  },
  {
   "cell_type": "markdown",
   "id": "23ff488d-15cd-4088-b187-87305708c0d3",
   "metadata": {
    "id": "23ff488d-15cd-4088-b187-87305708c0d3"
   },
   "source": [
    "Теперь поговорим об обратной ситуации: разбиения массивов. Основной в этом случае является функция `split`, но и по аналогии с конкатенацией есть две, облегчающих жизнь: `hsplit` и `vsplit`. Посмотрим, как они работают:"
   ]
  },
  {
   "cell_type": "code",
   "execution_count": 54,
   "id": "21458ce1-58c9-4c9f-8fe4-5a4ffb362d38",
   "metadata": {
    "id": "21458ce1-58c9-4c9f-8fe4-5a4ffb362d38",
    "outputId": "154990fd-feec-49c2-a862-6d26d4a6e2ec"
   },
   "outputs": [
    {
     "data": {
      "text/plain": [
       "array([ 1,  2,  3,  4,  5,  6,  7,  8,  9, 10, 11, 12])"
      ]
     },
     "execution_count": 54,
     "metadata": {},
     "output_type": "execute_result"
    }
   ],
   "source": [
    "x = np.arange(1, 13)\n",
    "x"
   ]
  },
  {
   "cell_type": "code",
   "execution_count": 55,
   "id": "eb03af90-f8fc-4495-a9f4-98d18c90746c",
   "metadata": {
    "id": "eb03af90-f8fc-4495-a9f4-98d18c90746c",
    "outputId": "906e6a58-a285-48e3-c850-4bcc479870aa"
   },
   "outputs": [
    {
     "name": "stdout",
     "output_type": "stream",
     "text": [
      "Массив №1:  [1 2]\n",
      "Массив №2:  [3 4 5 6]\n",
      "Массив №3:  [ 7  8  9 10 11 12]\n"
     ]
    }
   ],
   "source": [
    "# разделим массив по элементам с индексами 2 и 6\n",
    "x1, x2, x3 = np.split(x, [2, 6])\n",
    "\n",
    "print(\"Массив №1: \", x1)\n",
    "print(\"Массив №2: \", x2)\n",
    "print(\"Массив №3: \", x3)"
   ]
  },
  {
   "cell_type": "markdown",
   "id": "edb0b2ef-e44a-4eba-8139-dcf7844769fc",
   "metadata": {
    "id": "edb0b2ef-e44a-4eba-8139-dcf7844769fc"
   },
   "source": [
    "Аналогично можно разделять и двумерные массивы:"
   ]
  },
  {
   "cell_type": "code",
   "execution_count": 57,
   "id": "379326c6-311a-402a-9091-c6d5bb808a26",
   "metadata": {
    "id": "379326c6-311a-402a-9091-c6d5bb808a26",
    "outputId": "7e40fe7c-5fd4-4083-d59b-3425fe30946f"
   },
   "outputs": [
    {
     "data": {
      "text/plain": [
       "array([[1, 2, 3],\n",
       "       [4, 5, 6],\n",
       "       [7, 8, 9]])"
      ]
     },
     "execution_count": 57,
     "metadata": {},
     "output_type": "execute_result"
    }
   ],
   "source": [
    "m = np.arange(1, 10).reshape(3, 3)\n",
    "m"
   ]
  },
  {
   "cell_type": "code",
   "execution_count": 58,
   "id": "35f0f612-b235-49f6-af30-ad5ed3d8b8de",
   "metadata": {
    "id": "35f0f612-b235-49f6-af30-ad5ed3d8b8de",
    "outputId": "6d5f949c-e11d-4b6c-917c-4141d5904c83"
   },
   "outputs": [
    {
     "name": "stdout",
     "output_type": "stream",
     "text": [
      "top: \n",
      " [[1 2 3]\n",
      " [4 5 6]] \n",
      "\n",
      "bottom: \n",
      " [[7 8 9]]\n"
     ]
    }
   ],
   "source": [
    "top, bottom = np.vsplit(m, [2])\n",
    "\n",
    "print(\"top: \\n\", top, \"\\n\")\n",
    "print(\"bottom: \\n\", bottom)"
   ]
  },
  {
   "cell_type": "code",
   "execution_count": 59,
   "id": "abae93dc-3747-46e6-bf48-95b399612149",
   "metadata": {
    "id": "abae93dc-3747-46e6-bf48-95b399612149",
    "outputId": "f40265ce-865d-48aa-fec3-d5a70fec2bfa"
   },
   "outputs": [
    {
     "name": "stdout",
     "output_type": "stream",
     "text": [
      "left: \n",
      " [[1 2]\n",
      " [4 5]\n",
      " [7 8]] \n",
      "\n",
      "right: \n",
      " [[3]\n",
      " [6]\n",
      " [9]]\n"
     ]
    }
   ],
   "source": [
    "left, right = np.hsplit(m, [2])\n",
    "\n",
    "print(\"left: \\n\", left, \"\\n\")\n",
    "print(\"right: \\n\", right)"
   ]
  }
 ],
 "metadata": {
  "colab": {
   "provenance": []
  },
  "kernelspec": {
   "display_name": "Python 3 (ipykernel)",
   "language": "python",
   "name": "python3"
  },
  "language_info": {
   "codemirror_mode": {
    "name": "ipython",
    "version": 3
   },
   "file_extension": ".py",
   "mimetype": "text/x-python",
   "name": "python",
   "nbconvert_exporter": "python",
   "pygments_lexer": "ipython3",
   "version": "3.11.5"
  }
 },
 "nbformat": 4,
 "nbformat_minor": 5
}
