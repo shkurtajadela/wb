{
 "cells": [
  {
   "cell_type": "markdown",
   "id": "034553c5-0036-47c0-b657-226dda2721c2",
   "metadata": {
    "id": "034553c5-0036-47c0-b657-226dda2721c2"
   },
   "source": [
    "# Часть 2. Универсальные функции"
   ]
  },
  {
   "cell_type": "markdown",
   "id": "cc727537-9a3f-4d81-89f7-495fb3310946",
   "metadata": {
    "id": "cc727537-9a3f-4d81-89f7-495fb3310946"
   },
   "source": [
    "## 2.1. Почему циклы медленные"
   ]
  },
  {
   "cell_type": "markdown",
   "id": "611c9564-0e45-4e32-8503-e25e53332b15",
   "metadata": {
    "id": "611c9564-0e45-4e32-8503-e25e53332b15"
   },
   "source": [
    "В прошлой части была рассмотрена одна из причин, почему скорость нативных объектов в Python ниже. Перейдём теперь к обсуждению производительности (а точнее медлительности) циклов."
   ]
  },
  {
   "cell_type": "markdown",
   "id": "b6f455fb-902f-482a-8396-c55a1dacd4b8",
   "metadata": {
    "id": "b6f455fb-902f-482a-8396-c55a1dacd4b8"
   },
   "source": [
    "Напишем две реализации простой функции, которая возводит все числа массива в квадрат:\n",
    "- одну с использованием циклов\n",
    "- вторую с помощью универсальных функций (о них детальнее расскажем позже)"
   ]
  },
  {
   "cell_type": "code",
   "execution_count": 3,
   "id": "0c0216ad-76ef-4b3b-9f49-5834e59a3f8f",
   "metadata": {},
   "outputs": [],
   "source": [
    "import numpy as np"
   ]
  },
  {
   "cell_type": "code",
   "execution_count": 4,
   "id": "4d326d3b-4701-424c-b7ee-6a77d9f3f4b8",
   "metadata": {
    "id": "4d326d3b-4701-424c-b7ee-6a77d9f3f4b8"
   },
   "outputs": [],
   "source": [
    "def square_elements_loop(array_object):\n",
    "    output = np.empty(len(array_object))\n",
    "    for i, x in enumerate(array_object):\n",
    "        output[i] = x * x\n",
    "    return output\n",
    "\n",
    "def square_elements_ufuncs(array_object):\n",
    "    return array_object * array_object"
   ]
  },
  {
   "cell_type": "markdown",
   "id": "5448c969-8933-4de6-a8a1-55932afd524f",
   "metadata": {
    "id": "5448c969-8933-4de6-a8a1-55932afd524f"
   },
   "source": [
    "Проверим, что обе функции выдают одинаковый результат:"
   ]
  },
  {
   "cell_type": "code",
   "execution_count": 5,
   "id": "531fa794-d272-4754-b08f-66fbefc01964",
   "metadata": {
    "id": "531fa794-d272-4754-b08f-66fbefc01964"
   },
   "outputs": [
    {
     "name": "stdout",
     "output_type": "stream",
     "text": [
      "[  1.   4.   9.  16.  25.  36.  49.  64.  81. 100.]\n",
      "[  1.   4.   9.  16.  25.  36.  49.  64.  81. 100.]\n"
     ]
    }
   ],
   "source": [
    "x = np.arange(1, 11, dtype=\"float\")\n",
    "print(square_elements_loop(x))\n",
    "print(square_elements_ufuncs(x))"
   ]
  },
  {
   "cell_type": "markdown",
   "id": "9e256437-103d-4874-b8a7-6ee014f0efc5",
   "metadata": {
    "id": "9e256437-103d-4874-b8a7-6ee014f0efc5"
   },
   "source": [
    "Далее посмотрим, сколько времени требуется на выполнение это функции на достаточно большом массиве:"
   ]
  },
  {
   "cell_type": "code",
   "execution_count": 6,
   "id": "e5025123-16d2-4cca-8948-46db89fff75b",
   "metadata": {
    "id": "e5025123-16d2-4cca-8948-46db89fff75b"
   },
   "outputs": [],
   "source": [
    "x_big = np.random.random(10_000_000)"
   ]
  },
  {
   "cell_type": "code",
   "execution_count": 7,
   "id": "3912971f-b5ef-4c51-98db-87a473ed7577",
   "metadata": {
    "id": "3912971f-b5ef-4c51-98db-87a473ed7577"
   },
   "outputs": [
    {
     "name": "stdout",
     "output_type": "stream",
     "text": [
      "2.19 s ± 187 ms per loop (mean ± std. dev. of 7 runs, 1 loop each)\n"
     ]
    }
   ],
   "source": [
    "%%timeit\n",
    "square_elements_loop(x_big)"
   ]
  },
  {
   "cell_type": "code",
   "execution_count": 8,
   "id": "0f982e21-770b-4a98-878a-9d2f30ec1c2b",
   "metadata": {
    "id": "0f982e21-770b-4a98-878a-9d2f30ec1c2b"
   },
   "outputs": [
    {
     "name": "stdout",
     "output_type": "stream",
     "text": [
      "32.9 ms ± 5.15 ms per loop (mean ± std. dev. of 7 runs, 10 loops each)\n"
     ]
    }
   ],
   "source": [
    "%%timeit\n",
    "square_elements_ufuncs(x_big)"
   ]
  },
  {
   "cell_type": "markdown",
   "id": "980a5465-6336-4a80-bd47-58c5767b08b2",
   "metadata": {
    "id": "980a5465-6336-4a80-bd47-58c5767b08b2"
   },
   "source": [
    "По результатам выше очевидно, что на порядки выгоднее использовать именно подход без циклов. Именно поэтому механизм UFuncs позволяет максимально эффективно"
   ]
  },
  {
   "cell_type": "markdown",
   "id": "7cb5fde1-5a7b-4322-bfa5-f370da8f6c6d",
   "metadata": {
    "id": "7cb5fde1-5a7b-4322-bfa5-f370da8f6c6d"
   },
   "source": [
    "## 2.2. UFuncs - что это такое"
   ]
  },
  {
   "cell_type": "markdown",
   "id": "82aef053-aaf3-4ec5-8587-6a6fe0932747",
   "metadata": {
    "id": "82aef053-aaf3-4ec5-8587-6a6fe0932747"
   },
   "source": [
    "Если говорить об использовании циклов, то иначе их можно навать \"поэлементными\" операциями. В совокупности с механизмами, необходимыми для реализации динамической типизации, overhead'ы, которые ухудшают производительность на каждом шаге цикла, это приводит удручающим последствиям.\n",
    "\n",
    "UFuncs (или Universal Functions) реализуют так называем векторизированный подход, когда повторяющиеся операции над элементами выполняются оптимизированным способом."
   ]
  },
  {
   "cell_type": "markdown",
   "id": "6eda41a2-66d8-49ae-bd92-eb9de856c0db",
   "metadata": {
    "id": "6eda41a2-66d8-49ae-bd92-eb9de856c0db"
   },
   "source": [
    "Чаще всего используются два вида универсальных функций:\n",
    "- унарные\n",
    "- бинарные\n",
    "\n",
    "Первые применяются к одному массиву, последний требуют, очевидно, пару. Рассмотрим несколько примеров ниже"
   ]
  },
  {
   "cell_type": "code",
   "execution_count": 9,
   "id": "ee241d0e-859d-4e87-bfd7-12ce253fb8aa",
   "metadata": {
    "id": "ee241d0e-859d-4e87-bfd7-12ce253fb8aa"
   },
   "outputs": [
    {
     "data": {
      "text/plain": [
       "array([1., 2., 3., 4., 5.])"
      ]
     },
     "execution_count": 9,
     "metadata": {},
     "output_type": "execute_result"
    }
   ],
   "source": [
    "x = np.arange(1, 6, dtype=\"float\")\n",
    "x"
   ]
  },
  {
   "cell_type": "code",
   "execution_count": 10,
   "id": "cb258bed-07df-4fe2-879c-44ae4029ce02",
   "metadata": {
    "id": "cb258bed-07df-4fe2-879c-44ae4029ce02"
   },
   "outputs": [
    {
     "name": "stdout",
     "output_type": "stream",
     "text": [
      "x + 7 = [ 8.  9. 10. 11. 12.]\n",
      "x - 3 = [-2. -1.  0.  1.  2.]\n",
      "x * 5 = [ 5. 10. 15. 20. 25.]\n",
      "x / 2 = [0.5 1.  1.5 2.  2.5]\n"
     ]
    }
   ],
   "source": [
    "print(\"x + 7 =\", x + 7)\n",
    "print(\"x - 3 =\", x - 3)\n",
    "print(\"x * 5 =\", x * 5)\n",
    "print(\"x / 2 =\", x / 2)"
   ]
  },
  {
   "cell_type": "markdown",
   "id": "b079b645-0502-475e-a3f6-51a55b2b5b63",
   "metadata": {
    "id": "b079b645-0502-475e-a3f6-51a55b2b5b63"
   },
   "source": [
    "На базовой арифметике применение UFuncs не ограничиваются, есть реализации для:\n",
    "- тригонометрических функций\n",
    "- экспонента и логарифмы\n",
    "- специализированные функции из высшей математики\n",
    "- и многие другие"
   ]
  },
  {
   "cell_type": "markdown",
   "id": "26e427ad-1933-427d-a342-dc6196913ea0",
   "metadata": {
    "id": "26e427ad-1933-427d-a342-dc6196913ea0"
   },
   "source": [
    "## 2.3. Дополнительные возможности UFunc"
   ]
  },
  {
   "cell_type": "markdown",
   "id": "4da3e412-109e-499e-b3fb-0b1f15e45f17",
   "metadata": {
    "id": "4da3e412-109e-499e-b3fb-0b1f15e45f17"
   },
   "source": [
    "Порой удобно проводить операции inplace (сразу записывать результаты применения функции в существующую переменную):"
   ]
  },
  {
   "cell_type": "code",
   "execution_count": 11,
   "id": "62fdf79d-5615-4849-82c0-ad640c45031d",
   "metadata": {
    "id": "62fdf79d-5615-4849-82c0-ad640c45031d"
   },
   "outputs": [
    {
     "data": {
      "text/plain": [
       "(array([1, 2, 3, 4, 5]), array([0, 0, 0, 0, 0]))"
      ]
     },
     "execution_count": 11,
     "metadata": {},
     "output_type": "execute_result"
    }
   ],
   "source": [
    "x = np.arange(1, 6)\n",
    "y = np.zeros(len(x), dtype=int)\n",
    "x, y"
   ]
  },
  {
   "cell_type": "code",
   "execution_count": 12,
   "id": "b46aa859-104d-4d50-be59-19c1344bda6a",
   "metadata": {
    "id": "b46aa859-104d-4d50-be59-19c1344bda6a"
   },
   "outputs": [
    {
     "name": "stdout",
     "output_type": "stream",
     "text": [
      "[10 20 30 40 50]\n"
     ]
    }
   ],
   "source": [
    "# выполним умножение массива x на 10 и сразу запишем результат в y\n",
    "np.multiply(x, 10, out=y)\n",
    "print(y)"
   ]
  },
  {
   "cell_type": "code",
   "execution_count": 13,
   "id": "6b275a84-646d-4cf8-8696-4df3d0570c77",
   "metadata": {
    "id": "6b275a84-646d-4cf8-8696-4df3d0570c77"
   },
   "outputs": [
    {
     "name": "stdout",
     "output_type": "stream",
     "text": [
      "[ 2  4  8 16 32]\n"
     ]
    }
   ],
   "source": [
    "# аналогично можно сделать с одной переменной\n",
    "np.power(2, x, out=x)\n",
    "print(x)\n",
    "# данный синтаксис эквивалентен x = x ** 2"
   ]
  },
  {
   "cell_type": "markdown",
   "id": "2997b8a8-4d21-4c66-b5ae-76e96f437160",
   "metadata": {
    "id": "2997b8a8-4d21-4c66-b5ae-76e96f437160"
   },
   "source": [
    "Также следует отметить, что комбинирование с концепцией no-copy view можно записывать результат применения UFuncs в отдельные части массива"
   ]
  },
  {
   "cell_type": "code",
   "execution_count": 14,
   "id": "f298e406-4e50-4c4d-a2a6-0267d71c814c",
   "metadata": {
    "id": "f298e406-4e50-4c4d-a2a6-0267d71c814c"
   },
   "outputs": [
    {
     "data": {
      "text/plain": [
       "(array([1, 2, 3, 4, 5]), array([0, 0, 0, 0, 0, 0, 0, 0, 0, 0]))"
      ]
     },
     "execution_count": 14,
     "metadata": {},
     "output_type": "execute_result"
    }
   ],
   "source": [
    "x = np.arange(1, 6)\n",
    "y = np.zeros(10, dtype=int)\n",
    "x, y"
   ]
  },
  {
   "cell_type": "code",
   "execution_count": 15,
   "id": "f4249501-80aa-4203-a65c-702f6d8e8e8b",
   "metadata": {
    "id": "f4249501-80aa-4203-a65c-702f6d8e8e8b"
   },
   "outputs": [
    {
     "data": {
      "text/plain": [
       "array([ 0,  2,  0,  4,  0,  6,  0,  8,  0, 10])"
      ]
     },
     "execution_count": 15,
     "metadata": {},
     "output_type": "execute_result"
    }
   ],
   "source": [
    "# умножим каждый из элементов массива x на 2 и запишем на чётные позиции в массив y\n",
    "np.multiply(x, 2, out=y[1::2])\n",
    "y"
   ]
  },
  {
   "cell_type": "markdown",
   "id": "457fb274-38d1-44da-a2fe-66ec9589b716",
   "metadata": {
    "id": "457fb274-38d1-44da-a2fe-66ec9589b716"
   },
   "source": [
    "# Appendix"
   ]
  },
  {
   "cell_type": "markdown",
   "id": "c19f9071-382a-4176-9dba-b666b2bf701c",
   "metadata": {
    "id": "c19f9071-382a-4176-9dba-b666b2bf701c"
   },
   "source": [
    "NumPy Data types: https://numpy.org/doc/stable/reference/arrays.dtypes.html\n",
    "\n",
    "NumPy UFuncs: https://numpy.org/doc/stable/reference/ufuncs.html"
   ]
  }
 ],
 "metadata": {
  "colab": {
   "provenance": []
  },
  "kernelspec": {
   "display_name": "Python 3 (ipykernel)",
   "language": "python",
   "name": "python3"
  },
  "language_info": {
   "codemirror_mode": {
    "name": "ipython",
    "version": 3
   },
   "file_extension": ".py",
   "mimetype": "text/x-python",
   "name": "python",
   "nbconvert_exporter": "python",
   "pygments_lexer": "ipython3",
   "version": "3.11.5"
  }
 },
 "nbformat": 4,
 "nbformat_minor": 5
}
