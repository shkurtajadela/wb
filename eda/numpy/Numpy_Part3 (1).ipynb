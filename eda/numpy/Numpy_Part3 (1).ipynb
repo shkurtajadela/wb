{
 "cells": [
  {
   "cell_type": "code",
   "execution_count": 1,
   "id": "07c4645e-7a3c-4f93-bc79-a69b3960f6b9",
   "metadata": {},
   "outputs": [
    {
     "data": {
      "text/plain": [
       "'1.23.5'"
      ]
     },
     "execution_count": 1,
     "metadata": {},
     "output_type": "execute_result"
    }
   ],
   "source": [
    "import numpy as np\n",
    "np.__version__"
   ]
  },
  {
   "cell_type": "markdown",
   "id": "81a38527-dcd5-420f-92d4-0ea9889bab7f",
   "metadata": {},
   "source": [
    "# Часть 3. Агрегации"
   ]
  },
  {
   "cell_type": "markdown",
   "id": "5924e29c-2c4d-4d44-99a2-37959d7bd108",
   "metadata": {},
   "source": [
    "До этого мы преимущественно работали с массивами как таковыми. Мы проводили различные операции над ними, однако порой проще работать со скалярными значениями, которые представляют собой какие-то конкретные атрибуты/характеристики векторного объекта. В этом нам помогут агрегации - процедуры, направленные на объединение элементов."
   ]
  },
  {
   "cell_type": "markdown",
   "id": "6870b82d-bb64-424b-981c-1dd00f88a8a3",
   "metadata": {},
   "source": [
    "Например, можно найти сумму элементов массива:"
   ]
  },
  {
   "cell_type": "code",
   "execution_count": 4,
   "id": "5ef6c162-a4c0-471b-bac3-c17340b435bd",
   "metadata": {},
   "outputs": [
    {
     "data": {
      "text/plain": [
       "array([ 1,  2,  3,  4,  5,  6,  7,  8,  9, 10])"
      ]
     },
     "execution_count": 4,
     "metadata": {},
     "output_type": "execute_result"
    }
   ],
   "source": [
    "x = np.arange(1, 11)\n",
    "x"
   ]
  },
  {
   "cell_type": "code",
   "execution_count": 5,
   "id": "78886475-e854-4946-82d4-1784cd8b9320",
   "metadata": {},
   "outputs": [
    {
     "name": "stdout",
     "output_type": "stream",
     "text": [
      "Сумма элементов массива:  55\n"
     ]
    }
   ],
   "source": [
    "print(\"Сумма элементов массива: \", np.sum(x))"
   ]
  },
  {
   "cell_type": "markdown",
   "id": "63e62c44-3f27-4686-9bdd-ee6b3e7f3d56",
   "metadata": {},
   "source": [
    "Обратите внимание, что лучше использовать функции и NumPy, потому что они оптимизированы под векторные вычисления."
   ]
  },
  {
   "cell_type": "code",
   "execution_count": 6,
   "id": "db48b0c3-65b6-4fd6-ad15-8751a19c9101",
   "metadata": {},
   "outputs": [
    {
     "name": "stdout",
     "output_type": "stream",
     "text": [
      "795 ms ± 55.9 ms per loop (mean ± std. dev. of 7 runs, 1 loop each)\n",
      "15 ms ± 959 µs per loop (mean ± std. dev. of 7 runs, 100 loops each)\n"
     ]
    }
   ],
   "source": [
    "big_data = np.random.random(10_000_000)\n",
    "%timeit sum(big_data)\n",
    "%timeit np.sum(big_data)"
   ]
  },
  {
   "cell_type": "markdown",
   "id": "749d4bc7-849e-4796-a93e-4e14deb783e9",
   "metadata": {},
   "source": [
    "Давайте посмотрим, какие функции агрегации доступны в NumPy (обратите внимание, что это не исчерпывающий список, а лишь примеры):"
   ]
  },
  {
   "cell_type": "code",
   "execution_count": 7,
   "id": "fef1632b-6b3e-4f09-b2eb-1ff77283c79a",
   "metadata": {},
   "outputs": [
    {
     "name": "stdout",
     "output_type": "stream",
     "text": [
      "Минимальное  значение:  1\n",
      "Максимальное значение:  10\n",
      "Среднее      значение:  5.5\n",
      "Произведение значений:  3628800\n"
     ]
    }
   ],
   "source": [
    "x = np.arange(1, 11)\n",
    "print(\"Минимальное  значение: \", np.min(x))\n",
    "print(\"Максимальное значение: \", np.max(x))\n",
    "print(\"Среднее      значение: \", np.mean(x))\n",
    "print(\"Произведение значений: \", np.prod(x))"
   ]
  },
  {
   "cell_type": "markdown",
   "id": "6cfc185d-39cc-4887-b5c8-a7d3ad125e43",
   "metadata": {},
   "source": [
    "До текущего момента мы использовали агрегации только по отношению к одномерным массивам, а как обстоят дела с многомерными?"
   ]
  },
  {
   "cell_type": "code",
   "execution_count": 8,
   "id": "d4ad3e11-b613-45aa-9018-040df03bcb7a",
   "metadata": {},
   "outputs": [
    {
     "data": {
      "text/plain": [
       "array([[1, 2, 3],\n",
       "       [4, 5, 6]])"
      ]
     },
     "execution_count": 8,
     "metadata": {},
     "output_type": "execute_result"
    }
   ],
   "source": [
    "x = np.arange(1, 7).reshape(2, 3)\n",
    "x"
   ]
  },
  {
   "cell_type": "markdown",
   "id": "0960acd5-1ffa-448a-b4ae-4e2edc8867af",
   "metadata": {},
   "source": [
    "При использовании агрегаций без дополнительных параметров они будут обрабатывать все элементы, как если бы они были одномерным массивом:"
   ]
  },
  {
   "cell_type": "code",
   "execution_count": 9,
   "id": "4bcab884-5092-422e-af23-beebe5a06490",
   "metadata": {},
   "outputs": [
    {
     "name": "stdout",
     "output_type": "stream",
     "text": [
      "Минимальное  значение:  1\n",
      "Максимальное значение:  6\n",
      "Среднее      значение:  3.5\n",
      "Произведение значений:  720\n"
     ]
    }
   ],
   "source": [
    "print(\"Минимальное  значение: \", np.min(x))\n",
    "print(\"Максимальное значение: \", np.max(x))\n",
    "print(\"Среднее      значение: \", np.mean(x))\n",
    "print(\"Произведение значений: \", np.prod(x))"
   ]
  },
  {
   "cell_type": "markdown",
   "id": "7ea276a9-755a-4720-b4ee-cd5fb181eef5",
   "metadata": {},
   "source": [
    "Однако в случае нескольких измерений у нас появляется возможность явно указывать измерение, вдоль которого будет производиться агрегация:"
   ]
  },
  {
   "cell_type": "code",
   "execution_count": 10,
   "id": "6ad03eb6-6da3-472c-8dbc-4094d2e0aa28",
   "metadata": {},
   "outputs": [
    {
     "name": "stdout",
     "output_type": "stream",
     "text": [
      "Минимальное   значение (по  строкам):  [1 2 3]\n",
      "Минимальное   значение (по столбцам):  [1 4]\n",
      "Максимальное  значение (по  строкам):  [4 5 6]\n",
      "Максимальное  значение (по столбцам):  [3 6]\n"
     ]
    }
   ],
   "source": [
    "print(\"Минимальное   значение (по  строкам): \", np.min(x, axis=0))\n",
    "print(\"Минимальное   значение (по столбцам): \", np.min(x, axis=1))\n",
    "print(\"Максимальное  значение (по  строкам): \", np.max(x, axis=0))\n",
    "print(\"Максимальное  значение (по столбцам): \", np.max(x, axis=1))"
   ]
  },
  {
   "cell_type": "markdown",
   "id": "7fa1b273-49f2-4eb3-a07e-271e2472dcef",
   "metadata": {},
   "source": [
    "Иначе говоря: в аргументы `axis` мы указываем изменение, по которому массив будет \"схлопнут\""
   ]
  }
 ],
 "metadata": {
  "kernelspec": {
   "display_name": "Python 3 (ipykernel)",
   "language": "python",
   "name": "python3"
  },
  "language_info": {
   "codemirror_mode": {
    "name": "ipython",
    "version": 3
   },
   "file_extension": ".py",
   "mimetype": "text/x-python",
   "name": "python",
   "nbconvert_exporter": "python",
   "pygments_lexer": "ipython3",
   "version": "3.11.5"
  }
 },
 "nbformat": 4,
 "nbformat_minor": 5
}
