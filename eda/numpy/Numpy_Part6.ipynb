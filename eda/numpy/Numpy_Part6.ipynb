{
 "cells": [
  {
   "cell_type": "code",
   "execution_count": 2,
   "id": "07c4645e-7a3c-4f93-bc79-a69b3960f6b9",
   "metadata": {},
   "outputs": [
    {
     "data": {
      "text/plain": [
       "'1.23.5'"
      ]
     },
     "execution_count": 2,
     "metadata": {},
     "output_type": "execute_result"
    }
   ],
   "source": [
    "import numpy as np\n",
    "np.__version__"
   ]
  },
  {
   "cell_type": "markdown",
   "id": "3ab7ee5b-193f-4e34-90a6-efb0c7941a28",
   "metadata": {},
   "source": [
    "# Часть 6. Структурированные массивы"
   ]
  },
  {
   "cell_type": "markdown",
   "id": "91977830-1d3f-4919-be74-c6cd635a0887",
   "metadata": {},
   "source": [
    "До этого момента мы работали преимущественно с числовыми векторами. Однако на практике часто возникают задачи, когда нужно работать с массивами каких-либо более сложных сущностей: например, нужно обработать миллион заказов, у каждого из которых есть:\n",
    "- дата совершения\n",
    "- сумма заказа\n",
    "- дата доставки\n",
    "\n",
    "В таком случае мы уже имеем дело с целыми структурами, об обработке которых с помощью NumPy мы и поговорим"
   ]
  },
  {
   "cell_type": "code",
   "execution_count": 3,
   "id": "e23d9b9b-f6ed-4645-97c2-f3eb2c6f2def",
   "metadata": {},
   "outputs": [],
   "source": [
    "platforms = [\"website\", \"ios\", \"android\", \"windows phone\"]\n",
    "num_active_versions = [14, 4, 8, 1]\n",
    "complexity = [1.0, 1.4, 0.9, 2.1]"
   ]
  },
  {
   "cell_type": "markdown",
   "id": "52bf9ab6-affd-4df3-bd67-82bdc9d23a41",
   "metadata": {},
   "source": [
    "Выше представлены фейковые данные о каком-нибудь приложении, которое представлено на ряде платформ. На каждой из платформ может быть своё число активных версий (в зависимости от процедуры AB-тестирования). Кроме того, каждая из платформа имеет свой порог вхождения в разработку и сложность поддержки.\n",
    "\n",
    "Конечно, можно обрабатывать каждый из списков отдельно, но это не очень удобно. Посмотрим, что может предложить NumPy:"
   ]
  },
  {
   "cell_type": "code",
   "execution_count": 4,
   "id": "13df448b-4c78-4e20-8c5f-39c60717384d",
   "metadata": {},
   "outputs": [
    {
     "name": "stdout",
     "output_type": "stream",
     "text": [
      "[('platform', '<U16'), ('num_active_versions', '<i4'), ('complexity', '<f8')]\n"
     ]
    }
   ],
   "source": [
    "data = np.zeros(\n",
    "    4,\n",
    "    dtype={\n",
    "        \"names\": [\"platform\", \"num_active_versions\", \"complexity\"],\n",
    "        \"formats\": [\"U16\", \"i4\", \"f8\"]\n",
    "    }\n",
    ")\n",
    "print(data.dtype)"
   ]
  },
  {
   "cell_type": "markdown",
   "id": "8f69e2a5-9880-431b-a060-8ec07692e4ae",
   "metadata": {},
   "source": [
    "Теперь, когда подготовлен некоторый placeholder, мы можем наполнить его реальными данными:"
   ]
  },
  {
   "cell_type": "code",
   "execution_count": 6,
   "id": "43a4551a-aa53-425d-98c6-90d2b359af02",
   "metadata": {},
   "outputs": [
    {
     "name": "stdout",
     "output_type": "stream",
     "text": [
      "('website', 14, 1.)\n",
      "('ios', 4, 1.4)\n",
      "('android', 8, 0.9)\n",
      "('windows phone', 1, 2.1)\n"
     ]
    }
   ],
   "source": [
    "data[\"platform\"] = platforms\n",
    "data[\"num_active_versions\"] = num_active_versions\n",
    "data[\"complexity\"] = complexity\n",
    "\n",
    "for _ in data:\n",
    "    print(_)"
   ]
  },
  {
   "cell_type": "markdown",
   "id": "16496267-cb6e-44cc-8585-01d6509aa3d9",
   "metadata": {},
   "source": [
    "Посмотрим, какие возможности у нас теперь есть:"
   ]
  },
  {
   "cell_type": "code",
   "execution_count": 7,
   "id": "7d7dc5f9-a458-4121-9412-43d3927c6ec4",
   "metadata": {},
   "outputs": [
    {
     "data": {
      "text/plain": [
       "array(['website', 'ios', 'android', 'windows phone'], dtype='<U16')"
      ]
     },
     "execution_count": 7,
     "metadata": {},
     "output_type": "execute_result"
    }
   ],
   "source": [
    "# вытаскивать список всех платформ\n",
    "data[\"platform\"]"
   ]
  },
  {
   "cell_type": "code",
   "execution_count": 8,
   "id": "855d7b30-8df6-4ece-ba15-aeb66f745a09",
   "metadata": {},
   "outputs": [
    {
     "data": {
      "text/plain": [
       "('windows phone', 1, 2.1)"
      ]
     },
     "execution_count": 8,
     "metadata": {},
     "output_type": "execute_result"
    }
   ],
   "source": [
    "# вытаскивать все атрибуты для конкретной строки\n",
    "data[3]"
   ]
  },
  {
   "cell_type": "code",
   "execution_count": 9,
   "id": "e56b804c-adf7-421a-a3c5-1f5f7a64421c",
   "metadata": {},
   "outputs": [
    {
     "name": "stdout",
     "output_type": "stream",
     "text": [
      "['ios' 'windows phone']\n"
     ]
    }
   ],
   "source": [
    "# использовать маски для подвыборки\n",
    "print(data[data[\"complexity\"] > 1.0][\"platform\"])"
   ]
  },
  {
   "cell_type": "markdown",
   "id": "67223e5a-3489-46c0-b1e7-a0cf0c340373",
   "metadata": {},
   "source": [
    "На самом деле структурированные массивы являются концепцией, крайне близкой к таблицам pandas, но об этом речь уже пойдёт в следующей части:)"
   ]
  },
  {
   "cell_type": "code",
   "execution_count": null,
   "id": "ec563322-2267-4d05-b775-c7809cd73f39",
   "metadata": {},
   "outputs": [],
   "source": []
  }
 ],
 "metadata": {
  "kernelspec": {
   "display_name": "Python 3 (ipykernel)",
   "language": "python",
   "name": "python3"
  },
  "language_info": {
   "codemirror_mode": {
    "name": "ipython",
    "version": 3
   },
   "file_extension": ".py",
   "mimetype": "text/x-python",
   "name": "python",
   "nbconvert_exporter": "python",
   "pygments_lexer": "ipython3",
   "version": "3.11.5"
  }
 },
 "nbformat": 4,
 "nbformat_minor": 5
}
