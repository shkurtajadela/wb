{
 "cells": [
  {
   "cell_type": "code",
   "execution_count": 1,
   "metadata": {},
   "outputs": [],
   "source": [
    "import numpy as np\n",
    "from scipy import stats"
   ]
  },
  {
   "cell_type": "markdown",
   "metadata": {},
   "source": [
    "### Двухвыборочный критерий Стьюдента для независимых выборок"
   ]
  },
  {
   "cell_type": "markdown",
   "metadata": {},
   "source": [
    "Исходные данные"
   ]
  },
  {
   "cell_type": "markdown",
   "metadata": {},
   "source": [
    "Из примера со слайдов:"
   ]
  },
  {
   "cell_type": "code",
   "execution_count": 2,
   "metadata": {},
   "outputs": [],
   "source": [
    "x = np.array([30, 28, 46, 42, 35, 33, 44, 43, 31, 38])\n",
    "y = np.array([26, 38, 39, 28, 30, 27, 32, 35])"
   ]
  },
  {
   "cell_type": "markdown",
   "metadata": {},
   "source": [
    "Из нормального распределения:"
   ]
  },
  {
   "cell_type": "code",
   "execution_count": 3,
   "metadata": {},
   "outputs": [],
   "source": [
    "x = stats.norm(0.1, 1).rvs(1000)\n",
    "y = stats.norm(0, 1).rvs(1000)"
   ]
  },
  {
   "cell_type": "markdown",
   "metadata": {},
   "source": [
    "Из нормального распределения, но добавим выброс:"
   ]
  },
  {
   "cell_type": "code",
   "execution_count": 4,
   "metadata": {},
   "outputs": [],
   "source": [
    "x = stats.norm(0.1, 1).rvs(1000)\n",
    "y = stats.norm(0, 1).rvs(1000)\n",
    "y[0] = 30"
   ]
  },
  {
   "cell_type": "markdown",
   "metadata": {},
   "source": [
    "Сначала закодим вручную"
   ]
  },
  {
   "cell_type": "code",
   "execution_count": 5,
   "metadata": {},
   "outputs": [
    {
     "name": "stdout",
     "output_type": "stream",
     "text": [
      "Statistic:  1.1650598761837834 , p-value:  0.12207203498940777\n"
     ]
    }
   ],
   "source": [
    "m = len(x)\n",
    "n = len(y)\n",
    "s2x = x.var()\n",
    "s2y = y.var()\n",
    "\n",
    "T = (x.mean() - y.mean())/(s2x/m + s2y/n)**0.5\n",
    "\n",
    "df = round( (s2x/m + s2y/n)**2 / ( (s2x/m)**2/(m-1) + (s2y/n)**2/(n-1) ))\n",
    "St = stats.t(df)\n",
    "\n",
    "P = 1 - St.cdf(T)\n",
    "print(\"Statistic: \",T,\", p-value: \",P)"
   ]
  },
  {
   "cell_type": "markdown",
   "metadata": {},
   "source": [
    "А вот готовое решение из scipy"
   ]
  },
  {
   "cell_type": "code",
   "execution_count": 6,
   "metadata": {},
   "outputs": [
    {
     "data": {
      "text/plain": [
       "0.1221848493798369"
      ]
     },
     "execution_count": 6,
     "metadata": {},
     "output_type": "execute_result"
    }
   ],
   "source": [
    "stats.ttest_ind(x,y).pvalue/2"
   ]
  },
  {
   "cell_type": "code",
   "execution_count": null,
   "metadata": {},
   "outputs": [],
   "source": []
  },
  {
   "cell_type": "markdown",
   "metadata": {},
   "source": [
    "### Критерий Манна-Уитни-Уилкоксона"
   ]
  },
  {
   "cell_type": "markdown",
   "metadata": {},
   "source": [
    "Сначала закодим вручную"
   ]
  },
  {
   "cell_type": "code",
   "execution_count": 7,
   "metadata": {},
   "outputs": [
    {
     "name": "stdout",
     "output_type": "stream",
     "text": [
      "[ 1.01378171  1.23323949  0.14194635 ... -0.79378155 -0.30443679\n",
      "  2.37955763]\n",
      "[1694. 1793. 1086. ...  399.  744. 1979.]\n",
      "Statistic:  2.0834540804988304 , p-value:  0.018604926578319803\n"
     ]
    }
   ],
   "source": [
    "m = len(x)\n",
    "n = len(y)\n",
    "xy = np.hstack([x, y])\n",
    "r = stats.rankdata(xy)\n",
    "print(xy)\n",
    "print(r)\n",
    "ww = r[:m]\n",
    "W = sum(ww)\n",
    "ew = m*(m + n + 1)/2\n",
    "varw = m*n*(m + n + 1)/12\n",
    "WT = (W - ew)/varw**0.5\n",
    "P = 1 - stats.norm.cdf(WT)\n",
    "print(\"Statistic: \",WT,\", p-value: \",P)"
   ]
  },
  {
   "cell_type": "code",
   "execution_count": null,
   "metadata": {},
   "outputs": [],
   "source": []
  },
  {
   "cell_type": "markdown",
   "metadata": {},
   "source": [
    "А вот готовое решение"
   ]
  },
  {
   "cell_type": "code",
   "execution_count": 9,
   "metadata": {},
   "outputs": [
    {
     "data": {
      "text/plain": [
       "0.018606689674762894"
      ]
     },
     "execution_count": 9,
     "metadata": {},
     "output_type": "execute_result"
    }
   ],
   "source": [
    "stats.mannwhitneyu(x, y).pvalue/2"
   ]
  },
  {
   "cell_type": "code",
   "execution_count": null,
   "metadata": {},
   "outputs": [],
   "source": []
  }
 ],
 "metadata": {
  "kernelspec": {
   "display_name": "Python 3 (ipykernel)",
   "language": "python",
   "name": "python3"
  },
  "language_info": {
   "codemirror_mode": {
    "name": "ipython",
    "version": 3
   },
   "file_extension": ".py",
   "mimetype": "text/x-python",
   "name": "python",
   "nbconvert_exporter": "python",
   "pygments_lexer": "ipython3",
   "version": "3.10.9"
  }
 },
 "nbformat": 4,
 "nbformat_minor": 4
}
